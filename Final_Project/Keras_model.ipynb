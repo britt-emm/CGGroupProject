{
 "cells": [
  {
   "cell_type": "markdown",
   "id": "random-embassy",
   "metadata": {},
   "source": [
    "## Stroke modeling with Keras"
   ]
  },
  {
   "cell_type": "code",
   "execution_count": 1,
   "id": "connected-endorsement",
   "metadata": {},
   "outputs": [],
   "source": [
    "import numpy as np\n",
    "import pandas as pd"
   ]
  },
  {
   "cell_type": "code",
   "execution_count": 5,
   "id": "canadian-halloween",
   "metadata": {},
   "outputs": [
    {
     "data": {
      "text/html": [
       "<div>\n",
       "<style scoped>\n",
       "    .dataframe tbody tr th:only-of-type {\n",
       "        vertical-align: middle;\n",
       "    }\n",
       "\n",
       "    .dataframe tbody tr th {\n",
       "        vertical-align: top;\n",
       "    }\n",
       "\n",
       "    .dataframe thead th {\n",
       "        text-align: right;\n",
       "    }\n",
       "</style>\n",
       "<table border=\"1\" class=\"dataframe\">\n",
       "  <thead>\n",
       "    <tr style=\"text-align: right;\">\n",
       "      <th></th>\n",
       "      <th>id</th>\n",
       "      <th>gender</th>\n",
       "      <th>age</th>\n",
       "      <th>hypertension</th>\n",
       "      <th>heart_disease</th>\n",
       "      <th>ever_married</th>\n",
       "      <th>Residence_type</th>\n",
       "      <th>avg_glucose_level</th>\n",
       "      <th>bmi</th>\n",
       "      <th>stroke</th>\n",
       "      <th>work_type_Govt_job</th>\n",
       "      <th>work_type_Private</th>\n",
       "      <th>work_type_Self-employed</th>\n",
       "      <th>smoking_status_Unknown</th>\n",
       "      <th>smoking_status_formerly smoked</th>\n",
       "      <th>smoking_status_never smoked</th>\n",
       "      <th>smoking_status_smokes</th>\n",
       "    </tr>\n",
       "  </thead>\n",
       "  <tbody>\n",
       "    <tr>\n",
       "      <th>0</th>\n",
       "      <td>9046</td>\n",
       "      <td>1</td>\n",
       "      <td>67.0</td>\n",
       "      <td>0</td>\n",
       "      <td>1</td>\n",
       "      <td>1</td>\n",
       "      <td>1</td>\n",
       "      <td>228.69</td>\n",
       "      <td>36.6</td>\n",
       "      <td>1</td>\n",
       "      <td>0</td>\n",
       "      <td>1</td>\n",
       "      <td>0</td>\n",
       "      <td>0</td>\n",
       "      <td>1</td>\n",
       "      <td>0</td>\n",
       "      <td>0</td>\n",
       "    </tr>\n",
       "    <tr>\n",
       "      <th>1</th>\n",
       "      <td>51676</td>\n",
       "      <td>0</td>\n",
       "      <td>61.0</td>\n",
       "      <td>0</td>\n",
       "      <td>0</td>\n",
       "      <td>1</td>\n",
       "      <td>0</td>\n",
       "      <td>202.21</td>\n",
       "      <td>33.2</td>\n",
       "      <td>1</td>\n",
       "      <td>0</td>\n",
       "      <td>0</td>\n",
       "      <td>1</td>\n",
       "      <td>0</td>\n",
       "      <td>0</td>\n",
       "      <td>1</td>\n",
       "      <td>0</td>\n",
       "    </tr>\n",
       "    <tr>\n",
       "      <th>2</th>\n",
       "      <td>31112</td>\n",
       "      <td>1</td>\n",
       "      <td>80.0</td>\n",
       "      <td>0</td>\n",
       "      <td>1</td>\n",
       "      <td>1</td>\n",
       "      <td>0</td>\n",
       "      <td>105.92</td>\n",
       "      <td>32.5</td>\n",
       "      <td>1</td>\n",
       "      <td>0</td>\n",
       "      <td>1</td>\n",
       "      <td>0</td>\n",
       "      <td>0</td>\n",
       "      <td>0</td>\n",
       "      <td>1</td>\n",
       "      <td>0</td>\n",
       "    </tr>\n",
       "  </tbody>\n",
       "</table>\n",
       "</div>"
      ],
      "text/plain": [
       "      id  gender   age  hypertension  heart_disease  ever_married  \\\n",
       "0   9046       1  67.0             0              1             1   \n",
       "1  51676       0  61.0             0              0             1   \n",
       "2  31112       1  80.0             0              1             1   \n",
       "\n",
       "   Residence_type  avg_glucose_level   bmi  stroke  work_type_Govt_job  \\\n",
       "0               1             228.69  36.6       1                   0   \n",
       "1               0             202.21  33.2       1                   0   \n",
       "2               0             105.92  32.5       1                   0   \n",
       "\n",
       "   work_type_Private  work_type_Self-employed  smoking_status_Unknown  \\\n",
       "0                  1                        0                       0   \n",
       "1                  0                        1                       0   \n",
       "2                  1                        0                       0   \n",
       "\n",
       "   smoking_status_formerly smoked  smoking_status_never smoked  \\\n",
       "0                               1                            0   \n",
       "1                               0                            1   \n",
       "2                               0                            1   \n",
       "\n",
       "   smoking_status_smokes  \n",
       "0                      0  \n",
       "1                      0  \n",
       "2                      0  "
      ]
     },
     "execution_count": 5,
     "metadata": {},
     "output_type": "execute_result"
    }
   ],
   "source": [
    "# import data sets\n",
    "\n",
    "stroke_raw_df = pd.read_csv(\"stroke_raw_df.csv\", index_col=0)\n",
    "stroke_norm_df = pd.read_csv(\"stroke_norm_df.csv\", index_col=0)\n",
    "stroke_scaled_df = pd.read_csv(\"stroke_scaled_df.csv\", index_col=0)\n",
    "\n",
    "stroke_raw_df.head(3)"
   ]
  },
  {
   "cell_type": "code",
   "execution_count": 6,
   "id": "solved-senate",
   "metadata": {},
   "outputs": [
    {
     "data": {
      "text/html": [
       "<div>\n",
       "<style scoped>\n",
       "    .dataframe tbody tr th:only-of-type {\n",
       "        vertical-align: middle;\n",
       "    }\n",
       "\n",
       "    .dataframe tbody tr th {\n",
       "        vertical-align: top;\n",
       "    }\n",
       "\n",
       "    .dataframe thead th {\n",
       "        text-align: right;\n",
       "    }\n",
       "</style>\n",
       "<table border=\"1\" class=\"dataframe\">\n",
       "  <thead>\n",
       "    <tr style=\"text-align: right;\">\n",
       "      <th></th>\n",
       "      <th>id</th>\n",
       "      <th>gender</th>\n",
       "      <th>age</th>\n",
       "      <th>hypertension</th>\n",
       "      <th>heart_disease</th>\n",
       "      <th>ever_married</th>\n",
       "      <th>Residence_type</th>\n",
       "      <th>avg_glucose_level</th>\n",
       "      <th>bmi</th>\n",
       "      <th>stroke</th>\n",
       "      <th>work_type_Govt_job</th>\n",
       "      <th>work_type_Private</th>\n",
       "      <th>work_type_Self-employed</th>\n",
       "      <th>smoking_status_Unknown</th>\n",
       "      <th>smoking_status_formerly smoked</th>\n",
       "      <th>smoking_status_never smoked</th>\n",
       "      <th>smoking_status_smokes</th>\n",
       "    </tr>\n",
       "  </thead>\n",
       "  <tbody>\n",
       "    <tr>\n",
       "      <th>0</th>\n",
       "      <td>9046</td>\n",
       "      <td>1</td>\n",
       "      <td>0.736842</td>\n",
       "      <td>0</td>\n",
       "      <td>1</td>\n",
       "      <td>1</td>\n",
       "      <td>1</td>\n",
       "      <td>0.801173</td>\n",
       "      <td>0.313507</td>\n",
       "      <td>1</td>\n",
       "      <td>0</td>\n",
       "      <td>1</td>\n",
       "      <td>0</td>\n",
       "      <td>0</td>\n",
       "      <td>1</td>\n",
       "      <td>0</td>\n",
       "      <td>0</td>\n",
       "    </tr>\n",
       "    <tr>\n",
       "      <th>1</th>\n",
       "      <td>51676</td>\n",
       "      <td>0</td>\n",
       "      <td>0.631579</td>\n",
       "      <td>0</td>\n",
       "      <td>0</td>\n",
       "      <td>1</td>\n",
       "      <td>0</td>\n",
       "      <td>0.678875</td>\n",
       "      <td>0.271375</td>\n",
       "      <td>1</td>\n",
       "      <td>0</td>\n",
       "      <td>0</td>\n",
       "      <td>1</td>\n",
       "      <td>0</td>\n",
       "      <td>0</td>\n",
       "      <td>1</td>\n",
       "      <td>0</td>\n",
       "    </tr>\n",
       "    <tr>\n",
       "      <th>2</th>\n",
       "      <td>31112</td>\n",
       "      <td>1</td>\n",
       "      <td>0.964912</td>\n",
       "      <td>0</td>\n",
       "      <td>1</td>\n",
       "      <td>1</td>\n",
       "      <td>0</td>\n",
       "      <td>0.234159</td>\n",
       "      <td>0.262701</td>\n",
       "      <td>1</td>\n",
       "      <td>0</td>\n",
       "      <td>1</td>\n",
       "      <td>0</td>\n",
       "      <td>0</td>\n",
       "      <td>0</td>\n",
       "      <td>1</td>\n",
       "      <td>0</td>\n",
       "    </tr>\n",
       "  </tbody>\n",
       "</table>\n",
       "</div>"
      ],
      "text/plain": [
       "      id  gender       age  hypertension  heart_disease  ever_married  \\\n",
       "0   9046       1  0.736842             0              1             1   \n",
       "1  51676       0  0.631579             0              0             1   \n",
       "2  31112       1  0.964912             0              1             1   \n",
       "\n",
       "   Residence_type  avg_glucose_level       bmi  stroke  work_type_Govt_job  \\\n",
       "0               1           0.801173  0.313507       1                   0   \n",
       "1               0           0.678875  0.271375       1                   0   \n",
       "2               0           0.234159  0.262701       1                   0   \n",
       "\n",
       "   work_type_Private  work_type_Self-employed  smoking_status_Unknown  \\\n",
       "0                  1                        0                       0   \n",
       "1                  0                        1                       0   \n",
       "2                  1                        0                       0   \n",
       "\n",
       "   smoking_status_formerly smoked  smoking_status_never smoked  \\\n",
       "0                               1                            0   \n",
       "1                               0                            1   \n",
       "2                               0                            1   \n",
       "\n",
       "   smoking_status_smokes  \n",
       "0                      0  \n",
       "1                      0  \n",
       "2                      0  "
      ]
     },
     "execution_count": 6,
     "metadata": {},
     "output_type": "execute_result"
    }
   ],
   "source": [
    "stroke_norm_df.head(3)"
   ]
  },
  {
   "cell_type": "code",
   "execution_count": 7,
   "id": "dietary-apartment",
   "metadata": {},
   "outputs": [
    {
     "data": {
      "text/html": [
       "<div>\n",
       "<style scoped>\n",
       "    .dataframe tbody tr th:only-of-type {\n",
       "        vertical-align: middle;\n",
       "    }\n",
       "\n",
       "    .dataframe tbody tr th {\n",
       "        vertical-align: top;\n",
       "    }\n",
       "\n",
       "    .dataframe thead th {\n",
       "        text-align: right;\n",
       "    }\n",
       "</style>\n",
       "<table border=\"1\" class=\"dataframe\">\n",
       "  <thead>\n",
       "    <tr style=\"text-align: right;\">\n",
       "      <th></th>\n",
       "      <th>id</th>\n",
       "      <th>gender</th>\n",
       "      <th>age</th>\n",
       "      <th>hypertension</th>\n",
       "      <th>heart_disease</th>\n",
       "      <th>ever_married</th>\n",
       "      <th>Residence_type</th>\n",
       "      <th>avg_glucose_level</th>\n",
       "      <th>bmi</th>\n",
       "      <th>stroke</th>\n",
       "      <th>work_type_Govt_job</th>\n",
       "      <th>work_type_Private</th>\n",
       "      <th>work_type_Self-employed</th>\n",
       "      <th>smoking_status_Unknown</th>\n",
       "      <th>smoking_status_formerly smoked</th>\n",
       "      <th>smoking_status_never smoked</th>\n",
       "      <th>smoking_status_smokes</th>\n",
       "    </tr>\n",
       "  </thead>\n",
       "  <tbody>\n",
       "    <tr>\n",
       "      <th>0</th>\n",
       "      <td>9046</td>\n",
       "      <td>1</td>\n",
       "      <td>0.874738</td>\n",
       "      <td>0</td>\n",
       "      <td>1</td>\n",
       "      <td>1</td>\n",
       "      <td>1</td>\n",
       "      <td>2.464581</td>\n",
       "      <td>0.819354</td>\n",
       "      <td>1</td>\n",
       "      <td>0</td>\n",
       "      <td>1</td>\n",
       "      <td>0</td>\n",
       "      <td>0</td>\n",
       "      <td>1</td>\n",
       "      <td>0</td>\n",
       "      <td>0</td>\n",
       "    </tr>\n",
       "    <tr>\n",
       "      <th>1</th>\n",
       "      <td>51676</td>\n",
       "      <td>0</td>\n",
       "      <td>0.499979</td>\n",
       "      <td>0</td>\n",
       "      <td>0</td>\n",
       "      <td>1</td>\n",
       "      <td>0</td>\n",
       "      <td>1.918619</td>\n",
       "      <td>0.342896</td>\n",
       "      <td>1</td>\n",
       "      <td>0</td>\n",
       "      <td>0</td>\n",
       "      <td>1</td>\n",
       "      <td>0</td>\n",
       "      <td>0</td>\n",
       "      <td>1</td>\n",
       "      <td>0</td>\n",
       "    </tr>\n",
       "    <tr>\n",
       "      <th>2</th>\n",
       "      <td>31112</td>\n",
       "      <td>1</td>\n",
       "      <td>1.686716</td>\n",
       "      <td>0</td>\n",
       "      <td>1</td>\n",
       "      <td>1</td>\n",
       "      <td>0</td>\n",
       "      <td>-0.066679</td>\n",
       "      <td>0.244801</td>\n",
       "      <td>1</td>\n",
       "      <td>0</td>\n",
       "      <td>1</td>\n",
       "      <td>0</td>\n",
       "      <td>0</td>\n",
       "      <td>0</td>\n",
       "      <td>1</td>\n",
       "      <td>0</td>\n",
       "    </tr>\n",
       "  </tbody>\n",
       "</table>\n",
       "</div>"
      ],
      "text/plain": [
       "      id  gender       age  hypertension  heart_disease  ever_married  \\\n",
       "0   9046       1  0.874738             0              1             1   \n",
       "1  51676       0  0.499979             0              0             1   \n",
       "2  31112       1  1.686716             0              1             1   \n",
       "\n",
       "   Residence_type  avg_glucose_level       bmi  stroke  work_type_Govt_job  \\\n",
       "0               1           2.464581  0.819354       1                   0   \n",
       "1               0           1.918619  0.342896       1                   0   \n",
       "2               0          -0.066679  0.244801       1                   0   \n",
       "\n",
       "   work_type_Private  work_type_Self-employed  smoking_status_Unknown  \\\n",
       "0                  1                        0                       0   \n",
       "1                  0                        1                       0   \n",
       "2                  1                        0                       0   \n",
       "\n",
       "   smoking_status_formerly smoked  smoking_status_never smoked  \\\n",
       "0                               1                            0   \n",
       "1                               0                            1   \n",
       "2                               0                            1   \n",
       "\n",
       "   smoking_status_smokes  \n",
       "0                      0  \n",
       "1                      0  \n",
       "2                      0  "
      ]
     },
     "execution_count": 7,
     "metadata": {},
     "output_type": "execute_result"
    }
   ],
   "source": [
    "stroke_scaled_df.head(3)"
   ]
  },
  {
   "cell_type": "markdown",
   "id": "handy-macro",
   "metadata": {},
   "source": [
    "### Create Train and Test data sets for each data set"
   ]
  },
  {
   "cell_type": "code",
   "execution_count": 16,
   "id": "pacific-columbus",
   "metadata": {},
   "outputs": [],
   "source": [
    "from sklearn.model_selection import train_test_split\n",
    "\n",
    "# Raw data\n",
    "\n",
    "X_raw = stroke_raw_df.drop(['id', 'stroke'], axis=1)\n",
    "y_raw = stroke_raw_df['stroke']\n",
    "\n",
    "X_raw_train, X_raw_test, y_raw_train, y_raw_test = train_test_split(X_raw, y_raw, test_size = 0.25, \n",
    "                                                                    random_state = 42, stratify = y_raw)"
   ]
  },
  {
   "cell_type": "code",
   "execution_count": 17,
   "id": "suspected-strengthening",
   "metadata": {},
   "outputs": [],
   "source": [
    "# Normed data\n",
    "\n",
    "X_norm = stroke_norm_df.drop(['id', 'stroke'], axis=1)\n",
    "y_norm = stroke_norm_df['stroke']\n",
    "\n",
    "X_norm_train, X_norm_test, y_norm_train, y_norm_test = train_test_split(X_norm, y_norm, test_size = 0.25, \n",
    "                                                                    random_state = 42, stratify = y_norm)"
   ]
  },
  {
   "cell_type": "code",
   "execution_count": 18,
   "id": "included-inclusion",
   "metadata": {},
   "outputs": [],
   "source": [
    "# Scaled data\n",
    "\n",
    "X_scaled = stroke_scaled_df.drop(['id', 'stroke'], axis=1)\n",
    "y_scaled = stroke_scaled_df['stroke']\n",
    "\n",
    "X_scaled_train, X_scaled_test, y_scaled_train, y_scaled_test = train_test_split(X_scaled, y_scaled, test_size = 0.25, \n",
    "                                                                    random_state = 42, stratify = y_scaled)"
   ]
  },
  {
   "cell_type": "markdown",
   "id": "cordless-porter",
   "metadata": {},
   "source": [
    "### Create new data set with random over and under sampling"
   ]
  },
  {
   "cell_type": "code",
   "execution_count": 11,
   "id": "forward-blowing",
   "metadata": {},
   "outputs": [
    {
     "data": {
      "text/plain": [
       "6.6078116639914395"
      ]
     },
     "execution_count": 11,
     "metadata": {},
     "output_type": "execute_result"
    }
   ],
   "source": [
    "minority_class_percent = (len(stroke_raw_df[stroke_raw_df['stroke'] == 1])/len(stroke_raw_df))*100\n",
    "minority_class_percent\n",
    "\n",
    "#minority class 6.6% of the all the data, heavily imbalanced data set"
   ]
  },
  {
   "cell_type": "code",
   "execution_count": 26,
   "id": "thermal-exhibit",
   "metadata": {},
   "outputs": [
    {
     "name": "stdout",
     "output_type": "stream",
     "text": [
      "Counter({0: 2618, 1: 185})\n"
     ]
    }
   ],
   "source": [
    "#Resample the training data with RandomOversampler and Clustered Centroids\n",
    "from collections import Counter\n",
    "from imblearn.over_sampling import RandomOverSampler\n",
    "from imblearn.under_sampling import ClusterCentroids\n",
    "\n",
    "# define over/under sampling strategies\n",
    "ros = RandomOverSampler(sampling_strategy=.15, random_state = 42)\n",
    "cc = ClusterCentroids(sampling_strategy=.75, random_state=42)\n",
    "\n",
    "#orignal number of each target class\n",
    "print(Counter(y_raw_train))\n"
   ]
  },
  {
   "cell_type": "markdown",
   "id": "entitled-revelation",
   "metadata": {},
   "source": [
    "**Raw data, over and under sampling**"
   ]
  },
  {
   "cell_type": "code",
   "execution_count": 25,
   "id": "explicit-prince",
   "metadata": {},
   "outputs": [
    {
     "name": "stdout",
     "output_type": "stream",
     "text": [
      "Counter({0: 2618, 1: 392})\n",
      "Counter({0: 522, 1: 392})\n"
     ]
    }
   ],
   "source": [
    "# apply over sampling strategy on original data\n",
    "X_r_train_resampled, y_r_train_resampled = ros.fit_resample(X_raw_train, y_raw_train)\n",
    "print(Counter(y_r_train_resampled))\n",
    "\n",
    "#apply under sampling strategy on oversampled data\n",
    "X_r_train_resampled, y_r_train_resampled = cc.fit_resample(X_r_train_resampled, y_r_train_resampled)\n",
    "print(Counter(y_r_train_resampled))"
   ]
  },
  {
   "cell_type": "markdown",
   "id": "documentary-replacement",
   "metadata": {},
   "source": [
    "**Normed data, over and under sampling**"
   ]
  },
  {
   "cell_type": "code",
   "execution_count": 27,
   "id": "romantic-helena",
   "metadata": {},
   "outputs": [
    {
     "name": "stdout",
     "output_type": "stream",
     "text": [
      "Counter({0: 2618, 1: 392})\n",
      "Counter({0: 522, 1: 392})\n"
     ]
    }
   ],
   "source": [
    "# apply over sampling strategy on original data\n",
    "X_n_train_resampled, y_n_train_resampled = ros.fit_resample(X_norm_train, y_norm_train)\n",
    "print(Counter(y_n_train_resampled))\n",
    "\n",
    "#apply under sampling strategy on oversampled data\n",
    "X_n_train_resampled, y_n_train_resampled = cc.fit_resample(X_n_train_resampled, y_n_train_resampled)\n",
    "print(Counter(y_n_train_resampled))"
   ]
  },
  {
   "cell_type": "markdown",
   "id": "endangered-manhattan",
   "metadata": {},
   "source": [
    "**Scaled data, over and under sampling**"
   ]
  },
  {
   "cell_type": "code",
   "execution_count": 28,
   "id": "interpreted-current",
   "metadata": {},
   "outputs": [
    {
     "name": "stdout",
     "output_type": "stream",
     "text": [
      "Counter({0: 2618, 1: 392})\n",
      "Counter({0: 522, 1: 392})\n"
     ]
    }
   ],
   "source": [
    "# apply over sampling strategy on original data\n",
    "X_s_train_resampled, y_s_train_resampled = ros.fit_resample(X_scaled_train, y_scaled_train)\n",
    "print(Counter(y_s_train_resampled))\n",
    "\n",
    "#apply under sampling strategy on oversampled data\n",
    "X_s_train_resampled, y_s_train_resampled = cc.fit_resample(X_s_train_resampled, y_s_train_resampled)\n",
    "print(Counter(y_s_train_resampled))"
   ]
  },
  {
   "cell_type": "markdown",
   "id": "republican-display",
   "metadata": {},
   "source": [
    "### Create new data set with SMOTEEN"
   ]
  },
  {
   "cell_type": "code",
   "execution_count": 45,
   "id": "massive-final",
   "metadata": {},
   "outputs": [],
   "source": [
    "from imblearn.combine import SMOTEENN\n",
    "from imblearn.under_sampling import EditedNearestNeighbours\n",
    "\n",
    "#create new minority class data points\n",
    "#clean up majority class data points\n",
    "# may lead to more false positive, but fewer false negatives\n",
    "\n",
    "smote = SMOTEENN(random_state=42) #, enn=EditedNearestNeighbours(sampling_strategy='majority'))"
   ]
  },
  {
   "cell_type": "markdown",
   "id": "experimental-cricket",
   "metadata": {},
   "source": [
    "**Raw data, SMOTEEN**"
   ]
  },
  {
   "cell_type": "code",
   "execution_count": 46,
   "id": "advisory-reflection",
   "metadata": {},
   "outputs": [
    {
     "name": "stdout",
     "output_type": "stream",
     "text": [
      "Counter({1: 2410, 0: 1800})\n"
     ]
    }
   ],
   "source": [
    "# apply SMOTEEN on original data\n",
    "X_r_train_smoteen, y_r_train_smoteen = smote.fit_resample(X_raw_train, y_raw_train)\n",
    "print(Counter(y_r_train_smoteen))"
   ]
  },
  {
   "cell_type": "markdown",
   "id": "ambient-nutrition",
   "metadata": {},
   "source": [
    "**Normalized data, SMOTEEN**"
   ]
  },
  {
   "cell_type": "code",
   "execution_count": 48,
   "id": "afraid-services",
   "metadata": {},
   "outputs": [
    {
     "name": "stdout",
     "output_type": "stream",
     "text": [
      "Counter({1: 2256, 0: 1985})\n"
     ]
    }
   ],
   "source": [
    "# apply SMOTEEN on normalized data\n",
    "X_n_train_smoteen, y_n_train_smoteen = smote.fit_resample(X_norm_train, y_norm_train)\n",
    "print(Counter(y_n_train_smoteen))"
   ]
  },
  {
   "cell_type": "markdown",
   "id": "stainless-carroll",
   "metadata": {},
   "source": [
    "**Scaled data, SMOTEEN**"
   ]
  },
  {
   "cell_type": "code",
   "execution_count": 50,
   "id": "attached-innocent",
   "metadata": {},
   "outputs": [
    {
     "name": "stdout",
     "output_type": "stream",
     "text": [
      "Counter({1: 2489, 0: 2023})\n"
     ]
    }
   ],
   "source": [
    "# apply SMOTEEN on scaled data\n",
    "X_s_train_smoteen, y_s_train_smoteen = smote.fit_resample(X_scaled_train, y_scaled_train)\n",
    "print(Counter(y_s_train_smoteen))"
   ]
  },
  {
   "cell_type": "markdown",
   "id": "criminal-equation",
   "metadata": {},
   "source": [
    "## Simple Logistic Regression to compare"
   ]
  },
  {
   "cell_type": "code",
   "execution_count": 52,
   "id": "addressed-possible",
   "metadata": {},
   "outputs": [],
   "source": [
    "raw = [X_raw_train, y_raw_train]\n",
    "raw_sampled = [X_r_train_resampled, y_r_train_resampled]\n",
    "raw_smoteen = [X_r_train_smoteen, y_r_train_smoteen]\n",
    "raw_test = [X_raw_test, y_raw_test]\n",
    "\n",
    "normed = [X_norm_train, y_norm_train]\n",
    "normed_sampled = [X_n_train_resampled, y_n_train_resampled]\n",
    "normed_smoteen = [X_n_train_smoteen, y_n_train_smoteen]\n",
    "norm_test = [X_norm_test, y_norm_test]\n",
    "\n",
    "scaled = [X_scaled_train, y_scaled_train]\n",
    "scaled_sampled = [X_s_train_resampled, y_s_train_resampled]\n",
    "scaled_smoteen = [X_s_train_smoteen, y_s_train_smoteen]\n",
    "scaled_test = [X_scaled_test, y_scaled_test]\n",
    "\n",
    "train_list = [raw, raw_sampled, raw_smoteen, \n",
    "              normed, normed_sampled, normed_smoteen, scaled, scaled_sampled, scaled_smoteen]\n",
    "\n",
    "test_list = [raw_test, norm_test, scaled_test]"
   ]
  },
  {
   "cell_type": "code",
   "execution_count": 65,
   "id": "electoral-separate",
   "metadata": {},
   "outputs": [
    {
     "name": "stdout",
     "output_type": "stream",
     "text": [
      "Counter({0: 873, 1: 62})\n"
     ]
    }
   ],
   "source": [
    "from sklearn.linear_model import LogisticRegression\n",
    "from sklearn.metrics import accuracy_score, r2_score\n",
    "from sklearn.metrics import confusion_matrix, classification_report\n",
    "\n",
    "model = LogisticRegression(max_iter=5000, random_state=42)\n",
    "\n",
    "print(Counter(y_norm_test))"
   ]
  },
  {
   "cell_type": "code",
   "execution_count": 54,
   "id": "outstanding-indicator",
   "metadata": {},
   "outputs": [
    {
     "data": {
      "text/plain": [
       "array([[873,   0],\n",
       "       [ 62,   0]])"
      ]
     },
     "execution_count": 54,
     "metadata": {},
     "output_type": "execute_result"
    }
   ],
   "source": [
    "model.fit(X_norm_train, y_norm_train)\n",
    "y_pred = model.predict(X_norm_test)\n",
    "confusion_matrix(y_norm_test, y_pred)"
   ]
  },
  {
   "cell_type": "code",
   "execution_count": 55,
   "id": "integral-fundamental",
   "metadata": {},
   "outputs": [
    {
     "data": {
      "text/plain": [
       "array([[640, 233],\n",
       "       [ 24,  38]])"
      ]
     },
     "execution_count": 55,
     "metadata": {},
     "output_type": "execute_result"
    }
   ],
   "source": [
    "model.fit(X_n_train_resampled, y_n_train_resampled)\n",
    "y_pred = model.predict(X_norm_test)\n",
    "confusion_matrix(y_norm_test, y_pred)"
   ]
  },
  {
   "cell_type": "code",
   "execution_count": 57,
   "id": "changed-ecology",
   "metadata": {},
   "outputs": [
    {
     "name": "stdout",
     "output_type": "stream",
     "text": [
      "              precision    recall  f1-score   support\n",
      "\n",
      "           0       0.96      0.73      0.83       873\n",
      "           1       0.14      0.61      0.23        62\n",
      "\n",
      "    accuracy                           0.73       935\n",
      "   macro avg       0.55      0.67      0.53       935\n",
      "weighted avg       0.91      0.73      0.79       935\n",
      "\n"
     ]
    }
   ],
   "source": [
    "print(classification_report(y_norm_test, y_pred))"
   ]
  },
  {
   "cell_type": "code",
   "execution_count": 58,
   "id": "sweet-plaintiff",
   "metadata": {},
   "outputs": [
    {
     "data": {
      "text/plain": [
       "array([[599, 274],\n",
       "       [ 13,  49]])"
      ]
     },
     "execution_count": 58,
     "metadata": {},
     "output_type": "execute_result"
    }
   ],
   "source": [
    "model.fit(X_n_train_smoteen, y_n_train_smoteen)\n",
    "y_pred = model.predict(X_norm_test)\n",
    "confusion_matrix(y_norm_test, y_pred)"
   ]
  },
  {
   "cell_type": "code",
   "execution_count": 59,
   "id": "broadband-breakdown",
   "metadata": {},
   "outputs": [
    {
     "name": "stdout",
     "output_type": "stream",
     "text": [
      "              precision    recall  f1-score   support\n",
      "\n",
      "           0       0.98      0.69      0.81       873\n",
      "           1       0.15      0.79      0.25        62\n",
      "\n",
      "    accuracy                           0.69       935\n",
      "   macro avg       0.57      0.74      0.53       935\n",
      "weighted avg       0.92      0.69      0.77       935\n",
      "\n"
     ]
    }
   ],
   "source": [
    "print(classification_report(y_norm_test, y_pred))"
   ]
  },
  {
   "cell_type": "code",
   "execution_count": 60,
   "id": "sharing-quick",
   "metadata": {},
   "outputs": [
    {
     "data": {
      "text/plain": [
       "array([[873,   0],\n",
       "       [ 62,   0]])"
      ]
     },
     "execution_count": 60,
     "metadata": {},
     "output_type": "execute_result"
    }
   ],
   "source": [
    "model.fit(X_scaled_train, y_scaled_train)\n",
    "y_pred = model.predict(X_scaled_test)\n",
    "confusion_matrix(y_scaled_test, y_pred)"
   ]
  },
  {
   "cell_type": "code",
   "execution_count": 63,
   "id": "arabic-payroll",
   "metadata": {},
   "outputs": [
    {
     "name": "stdout",
     "output_type": "stream",
     "text": [
      "[[628 245]\n",
      " [ 22  40]]\n",
      "              precision    recall  f1-score   support\n",
      "\n",
      "           0       0.97      0.72      0.82       873\n",
      "           1       0.14      0.65      0.23        62\n",
      "\n",
      "    accuracy                           0.71       935\n",
      "   macro avg       0.55      0.68      0.53       935\n",
      "weighted avg       0.91      0.71      0.79       935\n",
      "\n"
     ]
    }
   ],
   "source": [
    "model.fit(X_s_train_resampled, y_s_train_resampled)\n",
    "y_pred = model.predict(X_scaled_test)\n",
    "print(confusion_matrix(y_scaled_test, y_pred))\n",
    "print(classification_report(y_scaled_test, y_pred))"
   ]
  },
  {
   "cell_type": "code",
   "execution_count": 64,
   "id": "accessory-identity",
   "metadata": {},
   "outputs": [
    {
     "name": "stdout",
     "output_type": "stream",
     "text": [
      "[[631 242]\n",
      " [ 14  48]]\n",
      "              precision    recall  f1-score   support\n",
      "\n",
      "           0       0.98      0.72      0.83       873\n",
      "           1       0.17      0.77      0.27        62\n",
      "\n",
      "    accuracy                           0.73       935\n",
      "   macro avg       0.57      0.75      0.55       935\n",
      "weighted avg       0.92      0.73      0.79       935\n",
      "\n"
     ]
    }
   ],
   "source": [
    "model.fit(X_s_train_smoteen, y_s_train_smoteen)\n",
    "y_pred = model.predict(X_scaled_test)\n",
    "print(confusion_matrix(y_scaled_test, y_pred))\n",
    "print(classification_report(y_scaled_test, y_pred))"
   ]
  },
  {
   "cell_type": "markdown",
   "id": "wrong-drunk",
   "metadata": {},
   "source": [
    "## Keras"
   ]
  },
  {
   "cell_type": "code",
   "execution_count": 66,
   "id": "beautiful-argument",
   "metadata": {},
   "outputs": [],
   "source": [
    "from keras.models import Sequential\n",
    "from keras.layers import Dense\n",
    "from keras import metrics\n",
    "from keras.callbacks import EarlyStopping\n",
    "from keras.callbacks import History "
   ]
  },
  {
   "cell_type": "code",
   "execution_count": null,
   "id": "moral-detail",
   "metadata": {},
   "outputs": [],
   "source": []
  }
 ],
 "metadata": {
  "kernelspec": {
   "display_name": "Python 3",
   "language": "python",
   "name": "python3"
  },
  "language_info": {
   "codemirror_mode": {
    "name": "ipython",
    "version": 3
   },
   "file_extension": ".py",
   "mimetype": "text/x-python",
   "name": "python",
   "nbconvert_exporter": "python",
   "pygments_lexer": "ipython3",
   "version": "3.8.2"
  }
 },
 "nbformat": 4,
 "nbformat_minor": 5
}
