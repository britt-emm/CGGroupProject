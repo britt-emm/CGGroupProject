{
 "cells": [
  {
   "cell_type": "markdown",
   "id": "moral-hanging",
   "metadata": {},
   "source": [
    "## Stroke modeling with Keras"
   ]
  },
  {
   "cell_type": "code",
   "execution_count": 1,
   "id": "emerging-criticism",
   "metadata": {},
   "outputs": [],
   "source": [
    "import numpy as np\n",
    "import pandas as pd"
   ]
  },
  {
   "cell_type": "code",
   "execution_count": 5,
   "id": "bigger-microphone",
   "metadata": {},
   "outputs": [
    {
     "data": {
      "text/html": [
       "<div>\n",
       "<style scoped>\n",
       "    .dataframe tbody tr th:only-of-type {\n",
       "        vertical-align: middle;\n",
       "    }\n",
       "\n",
       "    .dataframe tbody tr th {\n",
       "        vertical-align: top;\n",
       "    }\n",
       "\n",
       "    .dataframe thead th {\n",
       "        text-align: right;\n",
       "    }\n",
       "</style>\n",
       "<table border=\"1\" class=\"dataframe\">\n",
       "  <thead>\n",
       "    <tr style=\"text-align: right;\">\n",
       "      <th></th>\n",
       "      <th>id</th>\n",
       "      <th>gender</th>\n",
       "      <th>age</th>\n",
       "      <th>hypertension</th>\n",
       "      <th>heart_disease</th>\n",
       "      <th>ever_married</th>\n",
       "      <th>Residence_type</th>\n",
       "      <th>avg_glucose_level</th>\n",
       "      <th>bmi</th>\n",
       "      <th>stroke</th>\n",
       "      <th>work_type_Govt_job</th>\n",
       "      <th>work_type_Private</th>\n",
       "      <th>work_type_Self-employed</th>\n",
       "      <th>smoking_status_Unknown</th>\n",
       "      <th>smoking_status_formerly smoked</th>\n",
       "      <th>smoking_status_never smoked</th>\n",
       "      <th>smoking_status_smokes</th>\n",
       "    </tr>\n",
       "  </thead>\n",
       "  <tbody>\n",
       "    <tr>\n",
       "      <th>0</th>\n",
       "      <td>9046</td>\n",
       "      <td>1</td>\n",
       "      <td>67.0</td>\n",
       "      <td>0</td>\n",
       "      <td>1</td>\n",
       "      <td>1</td>\n",
       "      <td>1</td>\n",
       "      <td>228.69</td>\n",
       "      <td>36.6</td>\n",
       "      <td>1</td>\n",
       "      <td>0</td>\n",
       "      <td>1</td>\n",
       "      <td>0</td>\n",
       "      <td>0</td>\n",
       "      <td>1</td>\n",
       "      <td>0</td>\n",
       "      <td>0</td>\n",
       "    </tr>\n",
       "    <tr>\n",
       "      <th>1</th>\n",
       "      <td>51676</td>\n",
       "      <td>0</td>\n",
       "      <td>61.0</td>\n",
       "      <td>0</td>\n",
       "      <td>0</td>\n",
       "      <td>1</td>\n",
       "      <td>0</td>\n",
       "      <td>202.21</td>\n",
       "      <td>33.2</td>\n",
       "      <td>1</td>\n",
       "      <td>0</td>\n",
       "      <td>0</td>\n",
       "      <td>1</td>\n",
       "      <td>0</td>\n",
       "      <td>0</td>\n",
       "      <td>1</td>\n",
       "      <td>0</td>\n",
       "    </tr>\n",
       "    <tr>\n",
       "      <th>2</th>\n",
       "      <td>31112</td>\n",
       "      <td>1</td>\n",
       "      <td>80.0</td>\n",
       "      <td>0</td>\n",
       "      <td>1</td>\n",
       "      <td>1</td>\n",
       "      <td>0</td>\n",
       "      <td>105.92</td>\n",
       "      <td>32.5</td>\n",
       "      <td>1</td>\n",
       "      <td>0</td>\n",
       "      <td>1</td>\n",
       "      <td>0</td>\n",
       "      <td>0</td>\n",
       "      <td>0</td>\n",
       "      <td>1</td>\n",
       "      <td>0</td>\n",
       "    </tr>\n",
       "  </tbody>\n",
       "</table>\n",
       "</div>"
      ],
      "text/plain": [
       "      id  gender   age  hypertension  heart_disease  ever_married  \\\n",
       "0   9046       1  67.0             0              1             1   \n",
       "1  51676       0  61.0             0              0             1   \n",
       "2  31112       1  80.0             0              1             1   \n",
       "\n",
       "   Residence_type  avg_glucose_level   bmi  stroke  work_type_Govt_job  \\\n",
       "0               1             228.69  36.6       1                   0   \n",
       "1               0             202.21  33.2       1                   0   \n",
       "2               0             105.92  32.5       1                   0   \n",
       "\n",
       "   work_type_Private  work_type_Self-employed  smoking_status_Unknown  \\\n",
       "0                  1                        0                       0   \n",
       "1                  0                        1                       0   \n",
       "2                  1                        0                       0   \n",
       "\n",
       "   smoking_status_formerly smoked  smoking_status_never smoked  \\\n",
       "0                               1                            0   \n",
       "1                               0                            1   \n",
       "2                               0                            1   \n",
       "\n",
       "   smoking_status_smokes  \n",
       "0                      0  \n",
       "1                      0  \n",
       "2                      0  "
      ]
     },
     "execution_count": 5,
     "metadata": {},
     "output_type": "execute_result"
    }
   ],
   "source": [
    "# import data sets\n",
    "\n",
    "stroke_raw_df = pd.read_csv(\"stroke_raw_df.csv\", index_col=0)\n",
    "stroke_norm_df = pd.read_csv(\"stroke_norm_df.csv\", index_col=0)\n",
    "stroke_scaled_df = pd.read_csv(\"stroke_scaled_df.csv\", index_col=0)\n",
    "\n",
    "stroke_raw_df.head(3)"
   ]
  },
  {
   "cell_type": "code",
   "execution_count": 6,
   "id": "quality-being",
   "metadata": {},
   "outputs": [
    {
     "data": {
      "text/html": [
       "<div>\n",
       "<style scoped>\n",
       "    .dataframe tbody tr th:only-of-type {\n",
       "        vertical-align: middle;\n",
       "    }\n",
       "\n",
       "    .dataframe tbody tr th {\n",
       "        vertical-align: top;\n",
       "    }\n",
       "\n",
       "    .dataframe thead th {\n",
       "        text-align: right;\n",
       "    }\n",
       "</style>\n",
       "<table border=\"1\" class=\"dataframe\">\n",
       "  <thead>\n",
       "    <tr style=\"text-align: right;\">\n",
       "      <th></th>\n",
       "      <th>id</th>\n",
       "      <th>gender</th>\n",
       "      <th>age</th>\n",
       "      <th>hypertension</th>\n",
       "      <th>heart_disease</th>\n",
       "      <th>ever_married</th>\n",
       "      <th>Residence_type</th>\n",
       "      <th>avg_glucose_level</th>\n",
       "      <th>bmi</th>\n",
       "      <th>stroke</th>\n",
       "      <th>work_type_Govt_job</th>\n",
       "      <th>work_type_Private</th>\n",
       "      <th>work_type_Self-employed</th>\n",
       "      <th>smoking_status_Unknown</th>\n",
       "      <th>smoking_status_formerly smoked</th>\n",
       "      <th>smoking_status_never smoked</th>\n",
       "      <th>smoking_status_smokes</th>\n",
       "    </tr>\n",
       "  </thead>\n",
       "  <tbody>\n",
       "    <tr>\n",
       "      <th>0</th>\n",
       "      <td>9046</td>\n",
       "      <td>1</td>\n",
       "      <td>0.736842</td>\n",
       "      <td>0</td>\n",
       "      <td>1</td>\n",
       "      <td>1</td>\n",
       "      <td>1</td>\n",
       "      <td>0.801173</td>\n",
       "      <td>0.313507</td>\n",
       "      <td>1</td>\n",
       "      <td>0</td>\n",
       "      <td>1</td>\n",
       "      <td>0</td>\n",
       "      <td>0</td>\n",
       "      <td>1</td>\n",
       "      <td>0</td>\n",
       "      <td>0</td>\n",
       "    </tr>\n",
       "    <tr>\n",
       "      <th>1</th>\n",
       "      <td>51676</td>\n",
       "      <td>0</td>\n",
       "      <td>0.631579</td>\n",
       "      <td>0</td>\n",
       "      <td>0</td>\n",
       "      <td>1</td>\n",
       "      <td>0</td>\n",
       "      <td>0.678875</td>\n",
       "      <td>0.271375</td>\n",
       "      <td>1</td>\n",
       "      <td>0</td>\n",
       "      <td>0</td>\n",
       "      <td>1</td>\n",
       "      <td>0</td>\n",
       "      <td>0</td>\n",
       "      <td>1</td>\n",
       "      <td>0</td>\n",
       "    </tr>\n",
       "    <tr>\n",
       "      <th>2</th>\n",
       "      <td>31112</td>\n",
       "      <td>1</td>\n",
       "      <td>0.964912</td>\n",
       "      <td>0</td>\n",
       "      <td>1</td>\n",
       "      <td>1</td>\n",
       "      <td>0</td>\n",
       "      <td>0.234159</td>\n",
       "      <td>0.262701</td>\n",
       "      <td>1</td>\n",
       "      <td>0</td>\n",
       "      <td>1</td>\n",
       "      <td>0</td>\n",
       "      <td>0</td>\n",
       "      <td>0</td>\n",
       "      <td>1</td>\n",
       "      <td>0</td>\n",
       "    </tr>\n",
       "  </tbody>\n",
       "</table>\n",
       "</div>"
      ],
      "text/plain": [
       "      id  gender       age  hypertension  heart_disease  ever_married  \\\n",
       "0   9046       1  0.736842             0              1             1   \n",
       "1  51676       0  0.631579             0              0             1   \n",
       "2  31112       1  0.964912             0              1             1   \n",
       "\n",
       "   Residence_type  avg_glucose_level       bmi  stroke  work_type_Govt_job  \\\n",
       "0               1           0.801173  0.313507       1                   0   \n",
       "1               0           0.678875  0.271375       1                   0   \n",
       "2               0           0.234159  0.262701       1                   0   \n",
       "\n",
       "   work_type_Private  work_type_Self-employed  smoking_status_Unknown  \\\n",
       "0                  1                        0                       0   \n",
       "1                  0                        1                       0   \n",
       "2                  1                        0                       0   \n",
       "\n",
       "   smoking_status_formerly smoked  smoking_status_never smoked  \\\n",
       "0                               1                            0   \n",
       "1                               0                            1   \n",
       "2                               0                            1   \n",
       "\n",
       "   smoking_status_smokes  \n",
       "0                      0  \n",
       "1                      0  \n",
       "2                      0  "
      ]
     },
     "execution_count": 6,
     "metadata": {},
     "output_type": "execute_result"
    }
   ],
   "source": [
    "stroke_norm_df.head(3)"
   ]
  },
  {
   "cell_type": "code",
   "execution_count": 7,
   "id": "square-processor",
   "metadata": {},
   "outputs": [
    {
     "data": {
      "text/html": [
       "<div>\n",
       "<style scoped>\n",
       "    .dataframe tbody tr th:only-of-type {\n",
       "        vertical-align: middle;\n",
       "    }\n",
       "\n",
       "    .dataframe tbody tr th {\n",
       "        vertical-align: top;\n",
       "    }\n",
       "\n",
       "    .dataframe thead th {\n",
       "        text-align: right;\n",
       "    }\n",
       "</style>\n",
       "<table border=\"1\" class=\"dataframe\">\n",
       "  <thead>\n",
       "    <tr style=\"text-align: right;\">\n",
       "      <th></th>\n",
       "      <th>id</th>\n",
       "      <th>gender</th>\n",
       "      <th>age</th>\n",
       "      <th>hypertension</th>\n",
       "      <th>heart_disease</th>\n",
       "      <th>ever_married</th>\n",
       "      <th>Residence_type</th>\n",
       "      <th>avg_glucose_level</th>\n",
       "      <th>bmi</th>\n",
       "      <th>stroke</th>\n",
       "      <th>work_type_Govt_job</th>\n",
       "      <th>work_type_Private</th>\n",
       "      <th>work_type_Self-employed</th>\n",
       "      <th>smoking_status_Unknown</th>\n",
       "      <th>smoking_status_formerly smoked</th>\n",
       "      <th>smoking_status_never smoked</th>\n",
       "      <th>smoking_status_smokes</th>\n",
       "    </tr>\n",
       "  </thead>\n",
       "  <tbody>\n",
       "    <tr>\n",
       "      <th>0</th>\n",
       "      <td>9046</td>\n",
       "      <td>1</td>\n",
       "      <td>0.874738</td>\n",
       "      <td>0</td>\n",
       "      <td>1</td>\n",
       "      <td>1</td>\n",
       "      <td>1</td>\n",
       "      <td>2.464581</td>\n",
       "      <td>0.819354</td>\n",
       "      <td>1</td>\n",
       "      <td>0</td>\n",
       "      <td>1</td>\n",
       "      <td>0</td>\n",
       "      <td>0</td>\n",
       "      <td>1</td>\n",
       "      <td>0</td>\n",
       "      <td>0</td>\n",
       "    </tr>\n",
       "    <tr>\n",
       "      <th>1</th>\n",
       "      <td>51676</td>\n",
       "      <td>0</td>\n",
       "      <td>0.499979</td>\n",
       "      <td>0</td>\n",
       "      <td>0</td>\n",
       "      <td>1</td>\n",
       "      <td>0</td>\n",
       "      <td>1.918619</td>\n",
       "      <td>0.342896</td>\n",
       "      <td>1</td>\n",
       "      <td>0</td>\n",
       "      <td>0</td>\n",
       "      <td>1</td>\n",
       "      <td>0</td>\n",
       "      <td>0</td>\n",
       "      <td>1</td>\n",
       "      <td>0</td>\n",
       "    </tr>\n",
       "    <tr>\n",
       "      <th>2</th>\n",
       "      <td>31112</td>\n",
       "      <td>1</td>\n",
       "      <td>1.686716</td>\n",
       "      <td>0</td>\n",
       "      <td>1</td>\n",
       "      <td>1</td>\n",
       "      <td>0</td>\n",
       "      <td>-0.066679</td>\n",
       "      <td>0.244801</td>\n",
       "      <td>1</td>\n",
       "      <td>0</td>\n",
       "      <td>1</td>\n",
       "      <td>0</td>\n",
       "      <td>0</td>\n",
       "      <td>0</td>\n",
       "      <td>1</td>\n",
       "      <td>0</td>\n",
       "    </tr>\n",
       "  </tbody>\n",
       "</table>\n",
       "</div>"
      ],
      "text/plain": [
       "      id  gender       age  hypertension  heart_disease  ever_married  \\\n",
       "0   9046       1  0.874738             0              1             1   \n",
       "1  51676       0  0.499979             0              0             1   \n",
       "2  31112       1  1.686716             0              1             1   \n",
       "\n",
       "   Residence_type  avg_glucose_level       bmi  stroke  work_type_Govt_job  \\\n",
       "0               1           2.464581  0.819354       1                   0   \n",
       "1               0           1.918619  0.342896       1                   0   \n",
       "2               0          -0.066679  0.244801       1                   0   \n",
       "\n",
       "   work_type_Private  work_type_Self-employed  smoking_status_Unknown  \\\n",
       "0                  1                        0                       0   \n",
       "1                  0                        1                       0   \n",
       "2                  1                        0                       0   \n",
       "\n",
       "   smoking_status_formerly smoked  smoking_status_never smoked  \\\n",
       "0                               1                            0   \n",
       "1                               0                            1   \n",
       "2                               0                            1   \n",
       "\n",
       "   smoking_status_smokes  \n",
       "0                      0  \n",
       "1                      0  \n",
       "2                      0  "
      ]
     },
     "execution_count": 7,
     "metadata": {},
     "output_type": "execute_result"
    }
   ],
   "source": [
    "stroke_scaled_df.head(3)"
   ]
  },
  {
   "cell_type": "markdown",
   "id": "moved-composition",
   "metadata": {},
   "source": [
    "### Create Train and Test data sets for each data set"
   ]
  },
  {
   "cell_type": "code",
   "execution_count": 16,
   "id": "affecting-macedonia",
   "metadata": {},
   "outputs": [],
   "source": [
    "from sklearn.model_selection import train_test_split\n",
    "\n",
    "# Raw data\n",
    "\n",
    "X_raw = stroke_raw_df.drop(['id', 'stroke'], axis=1)\n",
    "y_raw = stroke_raw_df['stroke']\n",
    "\n",
    "X_raw_train, X_raw_test, y_raw_train, y_raw_test = train_test_split(X_raw, y_raw, test_size = 0.25, \n",
    "                                                                    random_state = 42, stratify = y_raw)"
   ]
  },
  {
   "cell_type": "code",
   "execution_count": 17,
   "id": "sealed-zoning",
   "metadata": {},
   "outputs": [],
   "source": [
    "# Normed data\n",
    "\n",
    "X_norm = stroke_norm_df.drop(['id', 'stroke'], axis=1)\n",
    "y_norm = stroke_norm_df['stroke']\n",
    "\n",
    "X_norm_train, X_norm_test, y_norm_train, y_norm_test = train_test_split(X_norm, y_norm, test_size = 0.25, \n",
    "                                                                    random_state = 42, stratify = y_norm)"
   ]
  },
  {
   "cell_type": "code",
   "execution_count": 18,
   "id": "simplified-budapest",
   "metadata": {},
   "outputs": [],
   "source": [
    "# Scaled data\n",
    "\n",
    "X_scaled = stroke_scaled_df.drop(['id', 'stroke'], axis=1)\n",
    "y_scaled = stroke_scaled_df['stroke']\n",
    "\n",
    "X_scaled_train, X_scaled_test, y_scaled_train, y_scaled_test = train_test_split(X_scaled, y_scaled, test_size = 0.25, \n",
    "                                                                    random_state = 42, stratify = y_scaled)"
   ]
  },
  {
   "cell_type": "markdown",
   "id": "breeding-incidence",
   "metadata": {},
   "source": [
    "### Create new data set with random over and under sampling"
   ]
  },
  {
   "cell_type": "code",
   "execution_count": 11,
   "id": "chemical-abuse",
   "metadata": {},
   "outputs": [
    {
     "data": {
      "text/plain": [
       "6.6078116639914395"
      ]
     },
     "execution_count": 11,
     "metadata": {},
     "output_type": "execute_result"
    }
   ],
   "source": [
    "minority_class_percent = (len(stroke_raw_df[stroke_raw_df['stroke'] == 1])/len(stroke_raw_df))*100\n",
    "minority_class_percent\n",
    "\n",
    "#minority class 6.6% of the all the data, heavily imbalanced data set"
   ]
  },
  {
   "cell_type": "code",
   "execution_count": 26,
   "id": "lesbian-settlement",
   "metadata": {},
   "outputs": [
    {
     "name": "stdout",
     "output_type": "stream",
     "text": [
      "Counter({0: 2618, 1: 185})\n"
     ]
    }
   ],
   "source": [
    "#Resample the training data with RandomOversampler and Clustered Centroids\n",
    "from collections import Counter\n",
    "from imblearn.over_sampling import RandomOverSampler\n",
    "from imblearn.under_sampling import ClusterCentroids\n",
    "\n",
    "# define over/under sampling strategies\n",
    "ros = RandomOverSampler(sampling_strategy=.15, random_state = 42)\n",
    "cc = ClusterCentroids(sampling_strategy=.75, random_state=42)\n",
    "\n",
    "#orignal number of each target class\n",
    "print(Counter(y_raw_train))\n"
   ]
  },
  {
   "cell_type": "markdown",
   "id": "statistical-selection",
   "metadata": {},
   "source": [
    "**Raw data, over and under sampling**"
   ]
  },
  {
   "cell_type": "code",
   "execution_count": 25,
   "id": "durable-venue",
   "metadata": {},
   "outputs": [
    {
     "name": "stdout",
     "output_type": "stream",
     "text": [
      "Counter({0: 2618, 1: 392})\n",
      "Counter({0: 522, 1: 392})\n"
     ]
    }
   ],
   "source": [
    "# apply over sampling strategy on original data\n",
    "X_r_train_resampled, y_r_train_resampled = ros.fit_resample(X_raw_train, y_raw_train)\n",
    "print(Counter(y_r_train_resampled))\n",
    "\n",
    "#apply under sampling strategy on oversampled data\n",
    "X_r_train_resampled, y_r_train_resampled = cc.fit_resample(X_r_train_resampled, y_r_train_resampled)\n",
    "print(Counter(y_r_train_resampled))"
   ]
  },
  {
   "cell_type": "markdown",
   "id": "twelve-treaty",
   "metadata": {},
   "source": [
    "**Normed data, over and under sampling**"
   ]
  },
  {
   "cell_type": "code",
   "execution_count": 27,
   "id": "marine-release",
   "metadata": {},
   "outputs": [
    {
     "name": "stdout",
     "output_type": "stream",
     "text": [
      "Counter({0: 2618, 1: 392})\n",
      "Counter({0: 522, 1: 392})\n"
     ]
    }
   ],
   "source": [
    "# apply over sampling strategy on original data\n",
    "X_n_train_resampled, y_n_train_resampled = ros.fit_resample(X_norm_train, y_norm_train)\n",
    "print(Counter(y_n_train_resampled))\n",
    "\n",
    "#apply under sampling strategy on oversampled data\n",
    "X_n_train_resampled, y_n_train_resampled = cc.fit_resample(X_n_train_resampled, y_n_train_resampled)\n",
    "print(Counter(y_n_train_resampled))"
   ]
  },
  {
   "cell_type": "markdown",
   "id": "elementary-turkish",
   "metadata": {},
   "source": [
    "**Scaled data, over and under sampling**"
   ]
  },
  {
   "cell_type": "code",
   "execution_count": 28,
   "id": "heard-cambridge",
   "metadata": {},
   "outputs": [
    {
     "name": "stdout",
     "output_type": "stream",
     "text": [
      "Counter({0: 2618, 1: 392})\n",
      "Counter({0: 522, 1: 392})\n"
     ]
    }
   ],
   "source": [
    "# apply over sampling strategy on original data\n",
    "X_s_train_resampled, y_s_train_resampled = ros.fit_resample(X_scaled_train, y_scaled_train)\n",
    "print(Counter(y_s_train_resampled))\n",
    "\n",
    "#apply under sampling strategy on oversampled data\n",
    "X_s_train_resampled, y_s_train_resampled = cc.fit_resample(X_s_train_resampled, y_s_train_resampled)\n",
    "print(Counter(y_s_train_resampled))"
   ]
  },
  {
   "cell_type": "markdown",
   "id": "unlike-providence",
   "metadata": {},
   "source": [
    "### Create new data set with SMOTEEN"
   ]
  },
  {
   "cell_type": "code",
   "execution_count": 45,
   "id": "internal-turkey",
   "metadata": {},
   "outputs": [],
   "source": [
    "from imblearn.combine import SMOTEENN\n",
    "from imblearn.under_sampling import EditedNearestNeighbours\n",
    "\n",
    "#create new minority class data points\n",
    "#clean up majority class data points\n",
    "# may lead to more false positive, but fewer false negatives\n",
    "\n",
    "smote = SMOTEENN(random_state=42) #, enn=EditedNearestNeighbours(sampling_strategy='majority'))"
   ]
  },
  {
   "cell_type": "markdown",
   "id": "agreed-prior",
   "metadata": {},
   "source": [
    "**Raw data, SMOTEEN**"
   ]
  },
  {
   "cell_type": "code",
   "execution_count": 46,
   "id": "fifteen-gossip",
   "metadata": {},
   "outputs": [
    {
     "name": "stdout",
     "output_type": "stream",
     "text": [
      "Counter({1: 2410, 0: 1800})\n"
     ]
    }
   ],
   "source": [
    "# apply SMOTEEN on original data\n",
    "X_r_train_smoteen, y_r_train_smoteen = smote.fit_resample(X_raw_train, y_raw_train)\n",
    "print(Counter(y_r_train_smoteen))"
   ]
  },
  {
   "cell_type": "markdown",
   "id": "surgical-wilson",
   "metadata": {},
   "source": [
    "**Normalized data, SMOTEEN**"
   ]
  },
  {
   "cell_type": "code",
   "execution_count": 48,
   "id": "atomic-blend",
   "metadata": {},
   "outputs": [
    {
     "name": "stdout",
     "output_type": "stream",
     "text": [
      "Counter({1: 2256, 0: 1985})\n"
     ]
    }
   ],
   "source": [
    "# apply SMOTEEN on normalized data\n",
    "X_n_train_smoteen, y_n_train_smoteen = smote.fit_resample(X_norm_train, y_norm_train)\n",
    "print(Counter(y_n_train_smoteen))"
   ]
  },
  {
   "cell_type": "markdown",
   "id": "formal-novel",
   "metadata": {},
   "source": [
    "**Scaled data, SMOTEEN**"
   ]
  },
  {
   "cell_type": "code",
   "execution_count": 50,
   "id": "under-struggle",
   "metadata": {},
   "outputs": [
    {
     "name": "stdout",
     "output_type": "stream",
     "text": [
      "Counter({1: 2489, 0: 2023})\n"
     ]
    }
   ],
   "source": [
    "# apply SMOTEEN on scaled data\n",
    "X_s_train_smoteen, y_s_train_smoteen = smote.fit_resample(X_scaled_train, y_scaled_train)\n",
    "print(Counter(y_s_train_smoteen))"
   ]
  },
  {
   "cell_type": "markdown",
   "id": "italian-attempt",
   "metadata": {},
   "source": [
    "## Simple Logistic Regression to compare"
   ]
  },
  {
   "cell_type": "code",
   "execution_count": 52,
   "id": "educated-barbados",
   "metadata": {},
   "outputs": [],
   "source": [
    "# raw = [X_raw_train, y_raw_train]\n",
    "# raw_sampled = [X_r_train_resampled, y_r_train_resampled]\n",
    "# raw_smoteen = [X_r_train_smoteen, y_r_train_smoteen]\n",
    "# raw_test = [X_raw_test, y_raw_test]\n",
    "\n",
    "# normed = [X_norm_train, y_norm_train]\n",
    "# normed_sampled = [X_n_train_resampled, y_n_train_resampled]\n",
    "# normed_smoteen = [X_n_train_smoteen, y_n_train_smoteen]\n",
    "# norm_test = [X_norm_test, y_norm_test]\n",
    "\n",
    "# scaled = [X_scaled_train, y_scaled_train]\n",
    "# scaled_sampled = [X_s_train_resampled, y_s_train_resampled]\n",
    "# scaled_smoteen = [X_s_train_smoteen, y_s_train_smoteen]\n",
    "# scaled_test = [X_scaled_test, y_scaled_test]\n",
    "\n",
    "# train_list = [raw, raw_sampled, raw_smoteen, \n",
    "#               normed, normed_sampled, normed_smoteen, scaled, scaled_sampled, scaled_smoteen]\n",
    "\n",
    "# test_list = [raw_test, norm_test, scaled_test]"
   ]
  },
  {
   "cell_type": "code",
   "execution_count": 65,
   "id": "civic-range",
   "metadata": {},
   "outputs": [
    {
     "name": "stdout",
     "output_type": "stream",
     "text": [
      "Counter({0: 873, 1: 62})\n"
     ]
    }
   ],
   "source": [
    "from sklearn.linear_model import LogisticRegression\n",
    "from sklearn.metrics import accuracy_score\n",
    "from sklearn.metrics import confusion_matrix, classification_report\n",
    "\n",
    "model = LogisticRegression(max_iter=5000, random_state=42)\n",
    "\n",
    "print(Counter(y_norm_test))"
   ]
  },
  {
   "cell_type": "code",
   "execution_count": 54,
   "id": "extensive-lightweight",
   "metadata": {},
   "outputs": [
    {
     "data": {
      "text/plain": [
       "array([[873,   0],\n",
       "       [ 62,   0]])"
      ]
     },
     "execution_count": 54,
     "metadata": {},
     "output_type": "execute_result"
    }
   ],
   "source": [
    "model.fit(X_norm_train, y_norm_train)\n",
    "y_pred = model.predict(X_norm_test)\n",
    "confusion_matrix(y_norm_test, y_pred)"
   ]
  },
  {
   "cell_type": "code",
   "execution_count": 55,
   "id": "unlikely-doctor",
   "metadata": {},
   "outputs": [
    {
     "data": {
      "text/plain": [
       "array([[640, 233],\n",
       "       [ 24,  38]])"
      ]
     },
     "execution_count": 55,
     "metadata": {},
     "output_type": "execute_result"
    }
   ],
   "source": [
    "model.fit(X_n_train_resampled, y_n_train_resampled)\n",
    "y_pred = model.predict(X_norm_test)\n",
    "confusion_matrix(y_norm_test, y_pred)"
   ]
  },
  {
   "cell_type": "code",
   "execution_count": 57,
   "id": "dated-intelligence",
   "metadata": {},
   "outputs": [
    {
     "name": "stdout",
     "output_type": "stream",
     "text": [
      "              precision    recall  f1-score   support\n",
      "\n",
      "           0       0.96      0.73      0.83       873\n",
      "           1       0.14      0.61      0.23        62\n",
      "\n",
      "    accuracy                           0.73       935\n",
      "   macro avg       0.55      0.67      0.53       935\n",
      "weighted avg       0.91      0.73      0.79       935\n",
      "\n"
     ]
    }
   ],
   "source": [
    "print(classification_report(y_norm_test, y_pred))"
   ]
  },
  {
   "cell_type": "code",
   "execution_count": 58,
   "id": "north-romania",
   "metadata": {},
   "outputs": [
    {
     "data": {
      "text/plain": [
       "array([[599, 274],\n",
       "       [ 13,  49]])"
      ]
     },
     "execution_count": 58,
     "metadata": {},
     "output_type": "execute_result"
    }
   ],
   "source": [
    "model.fit(X_n_train_smoteen, y_n_train_smoteen)\n",
    "y_pred = model.predict(X_norm_test)\n",
    "confusion_matrix(y_norm_test, y_pred)"
   ]
  },
  {
   "cell_type": "code",
   "execution_count": 59,
   "id": "liberal-joseph",
   "metadata": {},
   "outputs": [
    {
     "name": "stdout",
     "output_type": "stream",
     "text": [
      "              precision    recall  f1-score   support\n",
      "\n",
      "           0       0.98      0.69      0.81       873\n",
      "           1       0.15      0.79      0.25        62\n",
      "\n",
      "    accuracy                           0.69       935\n",
      "   macro avg       0.57      0.74      0.53       935\n",
      "weighted avg       0.92      0.69      0.77       935\n",
      "\n"
     ]
    }
   ],
   "source": [
    "print(classification_report(y_norm_test, y_pred))"
   ]
  },
  {
   "cell_type": "code",
   "execution_count": 60,
   "id": "attended-washer",
   "metadata": {},
   "outputs": [
    {
     "data": {
      "text/plain": [
       "array([[873,   0],\n",
       "       [ 62,   0]])"
      ]
     },
     "execution_count": 60,
     "metadata": {},
     "output_type": "execute_result"
    }
   ],
   "source": [
    "model.fit(X_scaled_train, y_scaled_train)\n",
    "y_pred = model.predict(X_scaled_test)\n",
    "confusion_matrix(y_scaled_test, y_pred)"
   ]
  },
  {
   "cell_type": "code",
   "execution_count": 63,
   "id": "boolean-principle",
   "metadata": {},
   "outputs": [
    {
     "name": "stdout",
     "output_type": "stream",
     "text": [
      "[[628 245]\n",
      " [ 22  40]]\n",
      "              precision    recall  f1-score   support\n",
      "\n",
      "           0       0.97      0.72      0.82       873\n",
      "           1       0.14      0.65      0.23        62\n",
      "\n",
      "    accuracy                           0.71       935\n",
      "   macro avg       0.55      0.68      0.53       935\n",
      "weighted avg       0.91      0.71      0.79       935\n",
      "\n"
     ]
    }
   ],
   "source": [
    "model.fit(X_s_train_resampled, y_s_train_resampled)\n",
    "y_pred = model.predict(X_scaled_test)\n",
    "print(confusion_matrix(y_scaled_test, y_pred))\n",
    "print(classification_report(y_scaled_test, y_pred))"
   ]
  },
  {
   "cell_type": "code",
   "execution_count": 64,
   "id": "average-stupid",
   "metadata": {},
   "outputs": [
    {
     "name": "stdout",
     "output_type": "stream",
     "text": [
      "[[631 242]\n",
      " [ 14  48]]\n",
      "              precision    recall  f1-score   support\n",
      "\n",
      "           0       0.98      0.72      0.83       873\n",
      "           1       0.17      0.77      0.27        62\n",
      "\n",
      "    accuracy                           0.73       935\n",
      "   macro avg       0.57      0.75      0.55       935\n",
      "weighted avg       0.92      0.73      0.79       935\n",
      "\n"
     ]
    }
   ],
   "source": [
    "model.fit(X_s_train_smoteen, y_s_train_smoteen)\n",
    "y_pred = model.predict(X_scaled_test)\n",
    "print(confusion_matrix(y_scaled_test, y_pred))\n",
    "print(classification_report(y_scaled_test, y_pred))"
   ]
  },
  {
   "cell_type": "code",
   "execution_count": 152,
   "id": "terminal-standing",
   "metadata": {},
   "outputs": [
    {
     "name": "stderr",
     "output_type": "stream",
     "text": [
      "/opt/anaconda3/lib/python3.8/site-packages/sklearn/model_selection/_search.py:918: UserWarning: One or more of the test scores are non-finite: [       nan 0.85816323        nan 0.85018879        nan 0.85550639\n",
      "        nan 0.85018486        nan 0.84974238]\n",
      "  warnings.warn(\n"
     ]
    },
    {
     "data": {
      "text/plain": [
       "GridSearchCV(cv=10,\n",
       "             estimator=LogisticRegression(max_iter=5000, random_state=42),\n",
       "             n_jobs=-1,\n",
       "             param_grid={'C': [0.01, 0.1, 1, 10, 100], 'penalty': ['l1', 'l2']},\n",
       "             scoring='recall')"
      ]
     },
     "execution_count": 152,
     "metadata": {},
     "output_type": "execute_result"
    }
   ],
   "source": [
    "#test C\n",
    "# test L1, L2\n",
    "from sklearn.model_selection import GridSearchCV\n",
    "from sklearn.metrics import recall_score, roc_auc_score\n",
    "\n",
    "#logistic regression model\n",
    "best_lr_model = LogisticRegression(max_iter=5000, random_state=42)\n",
    "\n",
    "#tune parameters\n",
    "params_lr = {'C': [.01, .1, 1, 10, 100],\n",
    "             'penalty': ['l1', 'l2']\n",
    "            }\n",
    "\n",
    "grid_lr = GridSearchCV(estimator=best_lr_model, param_grid=params_lr, scoring='recall',\n",
    "                      cv=10, n_jobs=-1)\n",
    "\n",
    "grid_lr.fit(X_n_train_smoteen, y_n_train_smoteen)\n",
    "\n",
    "# model.fit(X_n_train_smoteen, y_n_train_smoteen)\n",
    "# y_pred = model.predict(X_norm_test)\n",
    "# confusion_matrix(y_norm_test, y_pred)"
   ]
  },
  {
   "cell_type": "code",
   "execution_count": 156,
   "id": "committed-sampling",
   "metadata": {},
   "outputs": [
    {
     "name": "stdout",
     "output_type": "stream",
     "text": [
      "Best Parameters: \n",
      " {'C': 0.01, 'penalty': 'l2'}\n",
      "Best Recall Score: \n",
      " 0.8581632251720747\n"
     ]
    },
    {
     "data": {
      "text/plain": [
       "1"
      ]
     },
     "execution_count": 156,
     "metadata": {},
     "output_type": "execute_result"
    }
   ],
   "source": [
    "best_params = grid_lr.best_params_\n",
    "best_CV_score = grid_lr.best_score_\n",
    "print(\"Best Parameters: \\n\", best_params)\n",
    "print(\"Best Recall Score: \\n\", best_CV_score)"
   ]
  },
  {
   "cell_type": "code",
   "execution_count": 154,
   "id": "comparative-socket",
   "metadata": {},
   "outputs": [
    {
     "name": "stdout",
     "output_type": "stream",
     "text": [
      "[[561 312]\n",
      " [ 10  52]]\n",
      "              precision    recall  f1-score   support\n",
      "\n",
      "           0       0.98      0.64      0.78       873\n",
      "           1       0.14      0.84      0.24        62\n",
      "\n",
      "    accuracy                           0.66       935\n",
      "   macro avg       0.56      0.74      0.51       935\n",
      "weighted avg       0.93      0.66      0.74       935\n",
      "\n"
     ]
    }
   ],
   "source": [
    "# name best model\n",
    "lr_best_model = grid_lr.best_estimator_\n",
    "# use model to predict on test data (held back)\n",
    "y_pred = lr_best_model.predict(X_norm_test)\n",
    "\n",
    "print(confusion_matrix(y_norm_test, y_pred))\n",
    "print(classification_report(y_norm_test, y_pred))"
   ]
  },
  {
   "cell_type": "code",
   "execution_count": 155,
   "id": "seven-pennsylvania",
   "metadata": {},
   "outputs": [
    {
     "name": "stdout",
     "output_type": "stream",
     "text": [
      "0.7406606806340761\n",
      "0.8387096774193549\n",
      "0.7406606806340761\n"
     ]
    }
   ],
   "source": [
    "from sklearn.metrics import balanced_accuracy_score\n",
    "print(balanced_accuracy_score(y_norm_test, y_pred))\n",
    "print(recall_score(y_norm_test, y_pred))\n",
    "print(roc_auc_score(y_norm_test, y_pred))"
   ]
  },
  {
   "cell_type": "code",
   "execution_count": 161,
   "id": "sound-latino",
   "metadata": {},
   "outputs": [
    {
     "name": "stdout",
     "output_type": "stream",
     "text": [
      "[[2220 1271]\n",
      " [  44  203]]\n",
      "              precision    recall  f1-score   support\n",
      "\n",
      "           0       0.98      0.64      0.77      3491\n",
      "           1       0.14      0.82      0.24       247\n",
      "\n",
      "    accuracy                           0.65      3738\n",
      "   macro avg       0.56      0.73      0.50      3738\n",
      "weighted avg       0.92      0.65      0.74      3738\n",
      "\n"
     ]
    }
   ],
   "source": [
    "# Going back to original normed data: how does the model perform?\n",
    "model_y = lr_best_model.predict(X_norm)\n",
    "print(confusion_matrix(y_norm, model_y))\n",
    "print(classification_report(y_norm, model_y))"
   ]
  },
  {
   "cell_type": "code",
   "execution_count": 162,
   "id": "compliant-registrar",
   "metadata": {},
   "outputs": [
    {
     "name": "stdout",
     "output_type": "stream",
     "text": [
      "0.7288916438685016\n",
      "0.8218623481781376\n",
      "0.7288916438685017\n"
     ]
    }
   ],
   "source": [
    "print(balanced_accuracy_score(y_norm, model_y))\n",
    "print(recall_score(y_norm, model_y))\n",
    "print(roc_auc_score(y_norm, model_y))"
   ]
  },
  {
   "cell_type": "markdown",
   "id": "secret-farmer",
   "metadata": {},
   "source": [
    "## Keras"
   ]
  },
  {
   "cell_type": "code",
   "execution_count": 67,
   "id": "municipal-niger",
   "metadata": {},
   "outputs": [],
   "source": [
    "from keras.models import Sequential\n",
    "from keras.layers import Dense\n",
    "from keras import metrics\n",
    "from keras.callbacks import EarlyStopping\n"
   ]
  },
  {
   "cell_type": "code",
   "execution_count": 189,
   "id": "governmental-milwaukee",
   "metadata": {},
   "outputs": [
    {
     "name": "stdout",
     "output_type": "stream",
     "text": [
      "Epoch 1/50\n",
      "93/93 - 1s - loss: 0.5392 - binary_accuracy: 0.7217 - val_loss: 0.6977 - val_binary_accuracy: 0.6033\n",
      "Epoch 2/50\n",
      "93/93 - 0s - loss: 0.3900 - binary_accuracy: 0.8268 - val_loss: 0.4773 - val_binary_accuracy: 0.7965\n",
      "Epoch 3/50\n",
      "93/93 - 0s - loss: 0.3484 - binary_accuracy: 0.8491 - val_loss: 0.4642 - val_binary_accuracy: 0.7950\n",
      "Epoch 4/50\n",
      "93/93 - 0s - loss: 0.3304 - binary_accuracy: 0.8592 - val_loss: 0.6489 - val_binary_accuracy: 0.7078\n",
      "Epoch 5/50\n",
      "93/93 - 0s - loss: 0.3137 - binary_accuracy: 0.8629 - val_loss: 0.5798 - val_binary_accuracy: 0.7376\n",
      "Epoch 6/50\n",
      "93/93 - 0s - loss: 0.3010 - binary_accuracy: 0.8703 - val_loss: 0.4387 - val_binary_accuracy: 0.8075\n",
      "Epoch 7/50\n",
      "93/93 - 0s - loss: 0.2934 - binary_accuracy: 0.8716 - val_loss: 0.3128 - val_binary_accuracy: 0.8696\n",
      "Epoch 8/50\n",
      "93/93 - 0s - loss: 0.2842 - binary_accuracy: 0.8831 - val_loss: 0.5246 - val_binary_accuracy: 0.7698\n",
      "Epoch 9/50\n",
      "93/93 - 0s - loss: 0.2703 - binary_accuracy: 0.8844 - val_loss: 0.3022 - val_binary_accuracy: 0.8735\n",
      "Epoch 10/50\n",
      "93/93 - 0s - loss: 0.2622 - binary_accuracy: 0.8915 - val_loss: 0.4332 - val_binary_accuracy: 0.8083\n",
      "Epoch 11/50\n",
      "93/93 - 0s - loss: 0.2535 - binary_accuracy: 0.8902 - val_loss: 0.3691 - val_binary_accuracy: 0.8476\n",
      "Epoch 12/50\n",
      "93/93 - 0s - loss: 0.2482 - binary_accuracy: 0.8942 - val_loss: 0.4469 - val_binary_accuracy: 0.8107\n",
      "Epoch 13/50\n",
      "93/93 - 0s - loss: 0.2357 - binary_accuracy: 0.8999 - val_loss: 0.3932 - val_binary_accuracy: 0.8374\n",
      "Epoch 14/50\n",
      "93/93 - 0s - loss: 0.2311 - binary_accuracy: 0.8982 - val_loss: 0.4100 - val_binary_accuracy: 0.8240\n",
      "Epoch 15/50\n",
      "93/93 - 0s - loss: 0.2268 - binary_accuracy: 0.8989 - val_loss: 0.3841 - val_binary_accuracy: 0.8295\n",
      "Epoch 16/50\n",
      "93/93 - 0s - loss: 0.2198 - binary_accuracy: 0.9067 - val_loss: 0.4079 - val_binary_accuracy: 0.8193\n",
      "Epoch 17/50\n",
      "93/93 - 0s - loss: 0.2104 - binary_accuracy: 0.9077 - val_loss: 0.3114 - val_binary_accuracy: 0.8672\n",
      "Epoch 18/50\n",
      "93/93 - 0s - loss: 0.2092 - binary_accuracy: 0.9084 - val_loss: 0.3277 - val_binary_accuracy: 0.8515\n",
      "Epoch 19/50\n",
      "93/93 - 0s - loss: 0.2056 - binary_accuracy: 0.9087 - val_loss: 0.4552 - val_binary_accuracy: 0.8028\n",
      "Epoch 20/50\n",
      "93/93 - 0s - loss: 0.1988 - binary_accuracy: 0.9124 - val_loss: 0.3306 - val_binary_accuracy: 0.8476\n",
      "Epoch 21/50\n",
      "93/93 - 0s - loss: 0.1950 - binary_accuracy: 0.9171 - val_loss: 0.3011 - val_binary_accuracy: 0.8885\n",
      "Epoch 22/50\n",
      "93/93 - 0s - loss: 0.1913 - binary_accuracy: 0.9151 - val_loss: 0.3791 - val_binary_accuracy: 0.8445\n",
      "Epoch 23/50\n",
      "93/93 - 0s - loss: 0.1882 - binary_accuracy: 0.9191 - val_loss: 0.4979 - val_binary_accuracy: 0.7628\n",
      "Epoch 24/50\n",
      "93/93 - 0s - loss: 0.1872 - binary_accuracy: 0.9218 - val_loss: 0.3528 - val_binary_accuracy: 0.8539\n",
      "Epoch 25/50\n",
      "93/93 - 0s - loss: 0.1769 - binary_accuracy: 0.9235 - val_loss: 0.4554 - val_binary_accuracy: 0.8083\n",
      "Epoch 26/50\n",
      "93/93 - 0s - loss: 0.1804 - binary_accuracy: 0.9185 - val_loss: 0.2841 - val_binary_accuracy: 0.9002\n",
      "Epoch 27/50\n",
      "93/93 - 0s - loss: 0.1716 - binary_accuracy: 0.9239 - val_loss: 0.2714 - val_binary_accuracy: 0.9057\n",
      "Epoch 28/50\n",
      "93/93 - 0s - loss: 0.1703 - binary_accuracy: 0.9286 - val_loss: 0.3065 - val_binary_accuracy: 0.8782\n",
      "Epoch 29/50\n",
      "93/93 - 0s - loss: 0.1709 - binary_accuracy: 0.9225 - val_loss: 0.3261 - val_binary_accuracy: 0.8657\n",
      "Epoch 30/50\n",
      "93/93 - 0s - loss: 0.1659 - binary_accuracy: 0.9242 - val_loss: 0.5032 - val_binary_accuracy: 0.7620\n",
      "Epoch 31/50\n",
      "93/93 - 0s - loss: 0.1656 - binary_accuracy: 0.9292 - val_loss: 0.2535 - val_binary_accuracy: 0.9104\n",
      "Epoch 32/50\n",
      "93/93 - 0s - loss: 0.1586 - binary_accuracy: 0.9289 - val_loss: 0.2633 - val_binary_accuracy: 0.9136\n",
      "Epoch 33/50\n",
      "93/93 - 0s - loss: 0.1605 - binary_accuracy: 0.9296 - val_loss: 0.3866 - val_binary_accuracy: 0.8311\n",
      "Epoch 34/50\n",
      "93/93 - 0s - loss: 0.1576 - binary_accuracy: 0.9367 - val_loss: 0.3332 - val_binary_accuracy: 0.8798\n",
      "Epoch 35/50\n",
      "93/93 - 0s - loss: 0.1477 - binary_accuracy: 0.9394 - val_loss: 0.3401 - val_binary_accuracy: 0.8727\n",
      "Epoch 36/50\n",
      "93/93 - 0s - loss: 0.1458 - binary_accuracy: 0.9394 - val_loss: 0.1838 - val_binary_accuracy: 0.9348\n",
      "Epoch 37/50\n",
      "93/93 - 0s - loss: 0.1523 - binary_accuracy: 0.9356 - val_loss: 0.3121 - val_binary_accuracy: 0.8806\n",
      "Epoch 38/50\n",
      "93/93 - 0s - loss: 0.1451 - binary_accuracy: 0.9407 - val_loss: 0.2664 - val_binary_accuracy: 0.8955\n",
      "Epoch 39/50\n",
      "93/93 - 0s - loss: 0.1403 - binary_accuracy: 0.9427 - val_loss: 0.3869 - val_binary_accuracy: 0.8295\n",
      "Epoch 40/50\n",
      "93/93 - 0s - loss: 0.1395 - binary_accuracy: 0.9417 - val_loss: 0.2862 - val_binary_accuracy: 0.8861\n",
      "Epoch 41/50\n",
      "93/93 - 0s - loss: 0.1448 - binary_accuracy: 0.9380 - val_loss: 0.2755 - val_binary_accuracy: 0.8853\n",
      "Epoch 42/50\n",
      "93/93 - 0s - loss: 0.1363 - binary_accuracy: 0.9400 - val_loss: 0.4308 - val_binary_accuracy: 0.8115\n",
      "Epoch 43/50\n",
      "93/93 - 0s - loss: 0.1369 - binary_accuracy: 0.9410 - val_loss: 0.2184 - val_binary_accuracy: 0.9285\n",
      "Epoch 44/50\n",
      "93/93 - 0s - loss: 0.1327 - binary_accuracy: 0.9451 - val_loss: 0.3759 - val_binary_accuracy: 0.8405\n",
      "Epoch 45/50\n",
      "93/93 - 0s - loss: 0.1321 - binary_accuracy: 0.9444 - val_loss: 0.3723 - val_binary_accuracy: 0.8539\n",
      "Epoch 46/50\n",
      "93/93 - 0s - loss: 0.1294 - binary_accuracy: 0.9451 - val_loss: 0.1852 - val_binary_accuracy: 0.9387\n",
      "Epoch 47/50\n",
      "93/93 - 0s - loss: 0.1332 - binary_accuracy: 0.9451 - val_loss: 0.2777 - val_binary_accuracy: 0.8885\n",
      "Epoch 48/50\n",
      "93/93 - 0s - loss: 0.1318 - binary_accuracy: 0.9444 - val_loss: 0.2518 - val_binary_accuracy: 0.9104\n"
     ]
    },
    {
     "data": {
      "text/plain": [
       "<tensorflow.python.keras.callbacks.History at 0x14c5fb220>"
      ]
     },
     "execution_count": 189,
     "metadata": {},
     "output_type": "execute_result"
    }
   ],
   "source": [
    "# normalized smoteen\n",
    "# BINARY\n",
    "\n",
    "n_cols = X_n_train_smoteen.shape[1]\n",
    "\n",
    "model = Sequential()\n",
    "model.add(Dense(100, activation='relu', input_shape=(n_cols,)))\n",
    "model.add(Dense(100, activation='relu'))\n",
    "#model.add(Dense(100, activation='relu'))\n",
    "model.add(Dense(1, activation='sigmoid'))\n",
    "\n",
    "early_stopping_monitor = EarlyStopping(patience=2, monitor='loss')\n",
    "\n",
    "model.compile(optimizer=\"adam\", loss='binary_crossentropy', metrics=['binary_accuracy'])\n",
    "model.fit(X_n_train_smoteen, y_n_train_smoteen, callbacks=[early_stopping_monitor], \n",
    "          epochs=50, verbose=2, validation_split=.3)"
   ]
  },
  {
   "cell_type": "code",
   "execution_count": 190,
   "id": "nuclear-payday",
   "metadata": {},
   "outputs": [
    {
     "name": "stdout",
     "output_type": "stream",
     "text": [
      "30/30 [==============================] - 0s 1ms/step - loss: 0.7935 - binary_accuracy: 0.7701\n"
     ]
    },
    {
     "data": {
      "text/plain": [
       "[0.7934988141059875, 0.7700534462928772]"
      ]
     },
     "execution_count": 190,
     "metadata": {},
     "output_type": "execute_result"
    }
   ],
   "source": [
    "model.evaluate(X_norm_test, y_norm_test)"
   ]
  },
  {
   "cell_type": "code",
   "execution_count": 191,
   "id": "billion-yield",
   "metadata": {},
   "outputs": [
    {
     "name": "stdout",
     "output_type": "stream",
     "text": [
      "[[693 180]\n",
      " [ 35  27]]\n",
      "              precision    recall  f1-score   support\n",
      "\n",
      "           0       0.95      0.79      0.87       873\n",
      "           1       0.13      0.44      0.20        62\n",
      "\n",
      "    accuracy                           0.77       935\n",
      "   macro avg       0.54      0.61      0.53       935\n",
      "weighted avg       0.90      0.77      0.82       935\n",
      "\n"
     ]
    }
   ],
   "source": [
    "y_pred = model.predict(X_norm_test)\n",
    "y_pred = np.round(y_pred)\n",
    "print(confusion_matrix(y_norm_test, y_pred))\n",
    "print(classification_report(y_norm_test, y_pred))"
   ]
  },
  {
   "cell_type": "code",
   "execution_count": 192,
   "id": "dramatic-columbus",
   "metadata": {},
   "outputs": [
    {
     "name": "stdout",
     "output_type": "stream",
     "text": [
      "Epoch 1/50\n",
      "62/62 - 0s - loss: 0.6799 - accuracy: 0.3767 - val_loss: 0.6963 - val_accuracy: 0.5648\n",
      "Epoch 2/50\n",
      "62/62 - 0s - loss: 0.6225 - accuracy: 0.6055 - val_loss: 0.6077 - val_accuracy: 0.7111\n",
      "Epoch 3/50\n",
      "62/62 - 0s - loss: 0.5714 - accuracy: 0.6967 - val_loss: 0.5350 - val_accuracy: 0.7455\n",
      "Epoch 4/50\n",
      "62/62 - 0s - loss: 0.5455 - accuracy: 0.7212 - val_loss: 0.4825 - val_accuracy: 0.7741\n",
      "Epoch 5/50\n",
      "62/62 - 0s - loss: 0.5288 - accuracy: 0.7339 - val_loss: 0.6604 - val_accuracy: 0.6492\n",
      "Epoch 6/50\n",
      "62/62 - 0s - loss: 0.5146 - accuracy: 0.7365 - val_loss: 0.5869 - val_accuracy: 0.6813\n",
      "Epoch 7/50\n",
      "62/62 - 0s - loss: 0.5019 - accuracy: 0.7263 - val_loss: 0.5765 - val_accuracy: 0.6873\n",
      "Epoch 8/50\n",
      "62/62 - 0s - loss: 0.4918 - accuracy: 0.7339 - val_loss: 0.5487 - val_accuracy: 0.7027\n",
      "Epoch 9/50\n",
      "62/62 - 0s - loss: 0.4945 - accuracy: 0.7222 - val_loss: 0.6558 - val_accuracy: 0.6361\n",
      "Epoch 10/50\n",
      "62/62 - 0s - loss: 0.4810 - accuracy: 0.7375 - val_loss: 0.4835 - val_accuracy: 0.7444\n",
      "Epoch 11/50\n",
      "62/62 - 0s - loss: 0.4878 - accuracy: 0.7161 - val_loss: 0.4653 - val_accuracy: 0.7539\n",
      "Epoch 12/50\n",
      "62/62 - 0s - loss: 0.4703 - accuracy: 0.7548 - val_loss: 0.5741 - val_accuracy: 0.6861\n",
      "Epoch 13/50\n",
      "62/62 - 0s - loss: 0.4586 - accuracy: 0.7467 - val_loss: 0.5643 - val_accuracy: 0.6968\n",
      "Epoch 14/50\n",
      "62/62 - 0s - loss: 0.4607 - accuracy: 0.7441 - val_loss: 0.5727 - val_accuracy: 0.6944\n",
      "Epoch 15/50\n",
      "62/62 - 0s - loss: 0.4549 - accuracy: 0.7462 - val_loss: 0.4839 - val_accuracy: 0.7384\n",
      "Epoch 16/50\n",
      "62/62 - 0s - loss: 0.4495 - accuracy: 0.7503 - val_loss: 0.5679 - val_accuracy: 0.6980\n",
      "Epoch 17/50\n",
      "62/62 - 0s - loss: 0.4491 - accuracy: 0.7538 - val_loss: 0.5770 - val_accuracy: 0.6932\n",
      "Epoch 18/50\n",
      "62/62 - 0s - loss: 0.4421 - accuracy: 0.7380 - val_loss: 0.5290 - val_accuracy: 0.7134\n",
      "Epoch 19/50\n",
      "62/62 - 0s - loss: 0.4366 - accuracy: 0.7625 - val_loss: 0.5417 - val_accuracy: 0.7170\n",
      "Epoch 20/50\n",
      "62/62 - 0s - loss: 0.4413 - accuracy: 0.7334 - val_loss: 0.5205 - val_accuracy: 0.7182\n",
      "Epoch 21/50\n",
      "62/62 - 0s - loss: 0.4282 - accuracy: 0.7528 - val_loss: 0.5637 - val_accuracy: 0.6992\n",
      "Epoch 22/50\n",
      "62/62 - 0s - loss: 0.4278 - accuracy: 0.7604 - val_loss: 0.6438 - val_accuracy: 0.6480\n",
      "Epoch 23/50\n",
      "62/62 - 0s - loss: 0.4198 - accuracy: 0.7681 - val_loss: 0.5857 - val_accuracy: 0.6885\n",
      "Epoch 24/50\n",
      "62/62 - 0s - loss: 0.4269 - accuracy: 0.7472 - val_loss: 0.4485 - val_accuracy: 0.7658\n",
      "Epoch 25/50\n",
      "62/62 - 0s - loss: 0.4144 - accuracy: 0.7686 - val_loss: 0.5083 - val_accuracy: 0.7337\n",
      "Epoch 26/50\n",
      "62/62 - 0s - loss: 0.4132 - accuracy: 0.7620 - val_loss: 0.5216 - val_accuracy: 0.7253\n",
      "Epoch 27/50\n",
      "62/62 - 0s - loss: 0.4078 - accuracy: 0.7722 - val_loss: 0.4754 - val_accuracy: 0.7527\n",
      "Epoch 28/50\n",
      "62/62 - 0s - loss: 0.4054 - accuracy: 0.7691 - val_loss: 0.4943 - val_accuracy: 0.7337\n",
      "Epoch 29/50\n",
      "62/62 - 0s - loss: 0.4027 - accuracy: 0.7661 - val_loss: 0.4963 - val_accuracy: 0.7408\n",
      "Epoch 30/50\n",
      "62/62 - 0s - loss: 0.4024 - accuracy: 0.7727 - val_loss: 0.5251 - val_accuracy: 0.7313\n",
      "Epoch 31/50\n",
      "62/62 - 0s - loss: 0.4023 - accuracy: 0.7574 - val_loss: 0.4829 - val_accuracy: 0.7515\n",
      "Epoch 32/50\n",
      "62/62 - 0s - loss: 0.3956 - accuracy: 0.7788 - val_loss: 0.5455 - val_accuracy: 0.7182\n",
      "Epoch 33/50\n",
      "62/62 - 0s - loss: 0.3957 - accuracy: 0.7604 - val_loss: 0.4678 - val_accuracy: 0.7598\n",
      "Epoch 34/50\n",
      "62/62 - 0s - loss: 0.3878 - accuracy: 0.7757 - val_loss: 0.5449 - val_accuracy: 0.7122\n",
      "Epoch 35/50\n",
      "62/62 - 0s - loss: 0.3889 - accuracy: 0.7676 - val_loss: 0.5990 - val_accuracy: 0.6908\n",
      "Epoch 36/50\n",
      "62/62 - 0s - loss: 0.3832 - accuracy: 0.7691 - val_loss: 0.4531 - val_accuracy: 0.7741\n",
      "Epoch 37/50\n",
      "62/62 - 0s - loss: 0.3889 - accuracy: 0.7813 - val_loss: 0.5378 - val_accuracy: 0.7182\n",
      "Epoch 38/50\n",
      "62/62 - 0s - loss: 0.3838 - accuracy: 0.7666 - val_loss: 0.4785 - val_accuracy: 0.7527\n",
      "Epoch 39/50\n",
      "62/62 - 0s - loss: 0.3780 - accuracy: 0.7829 - val_loss: 0.5047 - val_accuracy: 0.7384\n",
      "Epoch 40/50\n",
      "62/62 - 0s - loss: 0.3758 - accuracy: 0.7696 - val_loss: 0.4470 - val_accuracy: 0.7824\n",
      "Epoch 41/50\n",
      "62/62 - 0s - loss: 0.3828 - accuracy: 0.7829 - val_loss: 0.6196 - val_accuracy: 0.6778\n",
      "Epoch 42/50\n",
      "62/62 - 0s - loss: 0.3776 - accuracy: 0.7778 - val_loss: 0.5496 - val_accuracy: 0.7158\n",
      "Epoch 43/50\n",
      "62/62 - 0s - loss: 0.3716 - accuracy: 0.7864 - val_loss: 0.5592 - val_accuracy: 0.7158\n",
      "Epoch 44/50\n",
      "62/62 - 0s - loss: 0.3747 - accuracy: 0.7645 - val_loss: 0.5261 - val_accuracy: 0.7313\n",
      "Epoch 45/50\n",
      "62/62 - 0s - loss: 0.3714 - accuracy: 0.7773 - val_loss: 0.5067 - val_accuracy: 0.7444\n",
      "Epoch 46/50\n",
      "62/62 - 0s - loss: 0.3677 - accuracy: 0.7768 - val_loss: 0.4825 - val_accuracy: 0.7646\n",
      "Epoch 47/50\n",
      "62/62 - 0s - loss: 0.3676 - accuracy: 0.7798 - val_loss: 0.5295 - val_accuracy: 0.7325\n",
      "Epoch 48/50\n",
      "62/62 - 0s - loss: 0.3632 - accuracy: 0.7849 - val_loss: 0.5479 - val_accuracy: 0.7182\n",
      "Epoch 49/50\n",
      "62/62 - 0s - loss: 0.3569 - accuracy: 0.7900 - val_loss: 0.5398 - val_accuracy: 0.7182\n",
      "Epoch 50/50\n",
      "62/62 - 0s - loss: 0.3543 - accuracy: 0.7803 - val_loss: 0.5507 - val_accuracy: 0.7146\n"
     ]
    },
    {
     "data": {
      "text/plain": [
       "<tensorflow.python.keras.callbacks.History at 0x14c8b2430>"
      ]
     },
     "execution_count": 192,
     "metadata": {},
     "output_type": "execute_result"
    }
   ],
   "source": [
    "# normalized\n",
    "\n",
    "weights = {0:.54,1:7.6}\n",
    "\n",
    "n_cols = X_norm_train.shape[1]\n",
    "\n",
    "model = Sequential()\n",
    "model.add(Dense(75, activation='relu', input_shape=(n_cols,)))\n",
    "model.add(Dense(75, activation='relu'))\n",
    "#model.add(Dense(100, activation='relu'))\n",
    "model.add(Dense(1, activation='sigmoid'))\n",
    "\n",
    "early_stopping_monitor = EarlyStopping(patience=3, monitor='loss')\n",
    "\n",
    "model.compile(optimizer=\"adam\", loss='binary_crossentropy', metrics=[\"accuracy\"])\n",
    "model.fit(X_norm_train, y_norm_train, callbacks=[early_stopping_monitor], \n",
    "          epochs=50, verbose=2, class_weight=weights, validation_split=.3)\n",
    "\n"
   ]
  },
  {
   "cell_type": "code",
   "execution_count": 193,
   "id": "cross-biography",
   "metadata": {},
   "outputs": [
    {
     "name": "stdout",
     "output_type": "stream",
     "text": [
      "30/30 [==============================] - 0s 842us/step - loss: 0.5427 - accuracy: 0.7134\n"
     ]
    },
    {
     "data": {
      "text/plain": [
       "[0.5427139401435852, 0.7133690118789673]"
      ]
     },
     "execution_count": 193,
     "metadata": {},
     "output_type": "execute_result"
    }
   ],
   "source": [
    "model.evaluate(X_norm_test, y_norm_test)"
   ]
  },
  {
   "cell_type": "code",
   "execution_count": 194,
   "id": "written-diabetes",
   "metadata": {},
   "outputs": [
    {
     "name": "stdout",
     "output_type": "stream",
     "text": [
      "[[635 238]\n",
      " [ 30  32]]\n",
      "              precision    recall  f1-score   support\n",
      "\n",
      "           0       0.95      0.73      0.83       873\n",
      "           1       0.12      0.52      0.19        62\n",
      "\n",
      "    accuracy                           0.71       935\n",
      "   macro avg       0.54      0.62      0.51       935\n",
      "weighted avg       0.90      0.71      0.78       935\n",
      "\n"
     ]
    }
   ],
   "source": [
    "y_pred = model.predict(X_norm_test)\n",
    "y_pred = np.round(y_pred)\n",
    "print(confusion_matrix(y_norm_test, y_pred))\n",
    "print(classification_report(y_norm_test, y_pred))"
   ]
  },
  {
   "cell_type": "code",
   "execution_count": null,
   "id": "mineral-spice",
   "metadata": {},
   "outputs": [],
   "source": []
  },
  {
   "cell_type": "code",
   "execution_count": 170,
   "id": "african-columbia",
   "metadata": {},
   "outputs": [
    {
     "name": "stderr",
     "output_type": "stream",
     "text": [
      "/opt/anaconda3/lib/python3.8/site-packages/sklearn/utils/validation.py:70: FutureWarning: Pass classes=[0 1], y=180     1\n",
      "508     0\n",
      "4221    0\n",
      "502     0\n",
      "2512    0\n",
      "       ..\n",
      "4140    0\n",
      "3071    0\n",
      "433     0\n",
      "1201    0\n",
      "3771    0\n",
      "Name: stroke, Length: 2803, dtype: int64 as keyword args. From version 1.0 (renaming of 0.25) passing these as positional arguments will result in an error\n",
      "  warnings.warn(f\"Pass {args_msg} as keyword args. From version \"\n"
     ]
    }
   ],
   "source": [
    "from sklearn.utils import class_weight\n",
    "# Calculate the weights for each class so that we can balance the data\n",
    "weights = class_weight.compute_class_weight('balanced',\n",
    "                                            np.unique(y_norm_train),\n",
    "                                            y_norm_train)"
   ]
  },
  {
   "cell_type": "code",
   "execution_count": 171,
   "id": "professional-spanking",
   "metadata": {},
   "outputs": [
    {
     "data": {
      "text/plain": [
       "array([0.53533231, 7.57567568])"
      ]
     },
     "execution_count": 171,
     "metadata": {},
     "output_type": "execute_result"
    }
   ],
   "source": [
    "weights"
   ]
  },
  {
   "cell_type": "code",
   "execution_count": null,
   "id": "underlying-donor",
   "metadata": {},
   "outputs": [],
   "source": []
  }
 ],
 "metadata": {
  "kernelspec": {
   "display_name": "Python 3",
   "language": "python",
   "name": "python3"
  },
  "language_info": {
   "codemirror_mode": {
    "name": "ipython",
    "version": 3
   },
   "file_extension": ".py",
   "mimetype": "text/x-python",
   "name": "python",
   "nbconvert_exporter": "python",
   "pygments_lexer": "ipython3",
   "version": "3.8.2"
  }
 },
 "nbformat": 4,
 "nbformat_minor": 5
}
