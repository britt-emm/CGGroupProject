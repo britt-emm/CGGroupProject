{
 "cells": [
  {
   "cell_type": "code",
   "execution_count": 1,
   "metadata": {},
   "outputs": [
    {
     "data": {
      "text/html": [
       "<div>\n",
       "<style scoped>\n",
       "    .dataframe tbody tr th:only-of-type {\n",
       "        vertical-align: middle;\n",
       "    }\n",
       "\n",
       "    .dataframe tbody tr th {\n",
       "        vertical-align: top;\n",
       "    }\n",
       "\n",
       "    .dataframe thead th {\n",
       "        text-align: right;\n",
       "    }\n",
       "</style>\n",
       "<table border=\"1\" class=\"dataframe\">\n",
       "  <thead>\n",
       "    <tr style=\"text-align: right;\">\n",
       "      <th></th>\n",
       "      <th>id</th>\n",
       "      <th>gender</th>\n",
       "      <th>age</th>\n",
       "      <th>hypertension</th>\n",
       "      <th>heart_disease</th>\n",
       "      <th>ever_married</th>\n",
       "      <th>Residence_type</th>\n",
       "      <th>avg_glucose_level</th>\n",
       "      <th>bmi</th>\n",
       "      <th>stroke</th>\n",
       "      <th>work_type_Govt_job</th>\n",
       "      <th>work_type_Private</th>\n",
       "      <th>work_type_Self-employed</th>\n",
       "      <th>smoking_status_Unknown</th>\n",
       "      <th>smoking_status_formerly smoked</th>\n",
       "      <th>smoking_status_never smoked</th>\n",
       "      <th>smoking_status_smokes</th>\n",
       "    </tr>\n",
       "  </thead>\n",
       "  <tbody>\n",
       "    <tr>\n",
       "      <th>0</th>\n",
       "      <td>9046</td>\n",
       "      <td>1</td>\n",
       "      <td>0.874738</td>\n",
       "      <td>0</td>\n",
       "      <td>1</td>\n",
       "      <td>1</td>\n",
       "      <td>1</td>\n",
       "      <td>2.464581</td>\n",
       "      <td>0.819354</td>\n",
       "      <td>1</td>\n",
       "      <td>0</td>\n",
       "      <td>1</td>\n",
       "      <td>0</td>\n",
       "      <td>0</td>\n",
       "      <td>1</td>\n",
       "      <td>0</td>\n",
       "      <td>0</td>\n",
       "    </tr>\n",
       "    <tr>\n",
       "      <th>1</th>\n",
       "      <td>51676</td>\n",
       "      <td>0</td>\n",
       "      <td>0.499979</td>\n",
       "      <td>0</td>\n",
       "      <td>0</td>\n",
       "      <td>1</td>\n",
       "      <td>0</td>\n",
       "      <td>1.918619</td>\n",
       "      <td>0.342896</td>\n",
       "      <td>1</td>\n",
       "      <td>0</td>\n",
       "      <td>0</td>\n",
       "      <td>1</td>\n",
       "      <td>0</td>\n",
       "      <td>0</td>\n",
       "      <td>1</td>\n",
       "      <td>0</td>\n",
       "    </tr>\n",
       "    <tr>\n",
       "      <th>2</th>\n",
       "      <td>31112</td>\n",
       "      <td>1</td>\n",
       "      <td>1.686716</td>\n",
       "      <td>0</td>\n",
       "      <td>1</td>\n",
       "      <td>1</td>\n",
       "      <td>0</td>\n",
       "      <td>-0.066679</td>\n",
       "      <td>0.244801</td>\n",
       "      <td>1</td>\n",
       "      <td>0</td>\n",
       "      <td>1</td>\n",
       "      <td>0</td>\n",
       "      <td>0</td>\n",
       "      <td>0</td>\n",
       "      <td>1</td>\n",
       "      <td>0</td>\n",
       "    </tr>\n",
       "    <tr>\n",
       "      <th>3</th>\n",
       "      <td>60182</td>\n",
       "      <td>0</td>\n",
       "      <td>-0.249538</td>\n",
       "      <td>0</td>\n",
       "      <td>0</td>\n",
       "      <td>1</td>\n",
       "      <td>1</td>\n",
       "      <td>1.279876</td>\n",
       "      <td>0.511058</td>\n",
       "      <td>1</td>\n",
       "      <td>0</td>\n",
       "      <td>1</td>\n",
       "      <td>0</td>\n",
       "      <td>0</td>\n",
       "      <td>0</td>\n",
       "      <td>0</td>\n",
       "      <td>1</td>\n",
       "    </tr>\n",
       "    <tr>\n",
       "      <th>4</th>\n",
       "      <td>1665</td>\n",
       "      <td>0</td>\n",
       "      <td>1.624256</td>\n",
       "      <td>1</td>\n",
       "      <td>0</td>\n",
       "      <td>1</td>\n",
       "      <td>0</td>\n",
       "      <td>1.339462</td>\n",
       "      <td>-0.946345</td>\n",
       "      <td>1</td>\n",
       "      <td>0</td>\n",
       "      <td>0</td>\n",
       "      <td>1</td>\n",
       "      <td>0</td>\n",
       "      <td>0</td>\n",
       "      <td>1</td>\n",
       "      <td>0</td>\n",
       "    </tr>\n",
       "  </tbody>\n",
       "</table>\n",
       "</div>"
      ],
      "text/plain": [
       "      id  gender       age  hypertension  heart_disease  ever_married  \\\n",
       "0   9046       1  0.874738             0              1             1   \n",
       "1  51676       0  0.499979             0              0             1   \n",
       "2  31112       1  1.686716             0              1             1   \n",
       "3  60182       0 -0.249538             0              0             1   \n",
       "4   1665       0  1.624256             1              0             1   \n",
       "\n",
       "   Residence_type  avg_glucose_level       bmi  stroke  work_type_Govt_job  \\\n",
       "0               1           2.464581  0.819354       1                   0   \n",
       "1               0           1.918619  0.342896       1                   0   \n",
       "2               0          -0.066679  0.244801       1                   0   \n",
       "3               1           1.279876  0.511058       1                   0   \n",
       "4               0           1.339462 -0.946345       1                   0   \n",
       "\n",
       "   work_type_Private  work_type_Self-employed  smoking_status_Unknown  \\\n",
       "0                  1                        0                       0   \n",
       "1                  0                        1                       0   \n",
       "2                  1                        0                       0   \n",
       "3                  1                        0                       0   \n",
       "4                  0                        1                       0   \n",
       "\n",
       "   smoking_status_formerly smoked  smoking_status_never smoked  \\\n",
       "0                               1                            0   \n",
       "1                               0                            1   \n",
       "2                               0                            1   \n",
       "3                               0                            0   \n",
       "4                               0                            1   \n",
       "\n",
       "   smoking_status_smokes  \n",
       "0                      0  \n",
       "1                      0  \n",
       "2                      0  \n",
       "3                      1  \n",
       "4                      0  "
      ]
     },
     "execution_count": 1,
     "metadata": {},
     "output_type": "execute_result"
    }
   ],
   "source": [
    "import numpy as np\n",
    "import pandas as pd\n",
    "\n",
    "stroke_scaled_df = pd.read_csv('stroke_scaled_df.csv',index_col=0)\n",
    "stroke_scaled_df.head()"
   ]
  },
  {
   "cell_type": "code",
   "execution_count": 22,
   "metadata": {},
   "outputs": [],
   "source": [
    "from imblearn.combine import SMOTEENN \n",
    "from imblearn.pipeline import Pipeline\n",
    "from sklearn.model_selection import train_test_split\n",
    "from sklearn.preprocessing import StandardScaler\n",
    "from sklearn.svm import SVC\n",
    "from sklearn.metrics import confusion_matrix, plot_confusion_matrix, classification_report\n",
    "from sklearn.model_selection import RepeatedStratifiedKFold\n",
    "from sklearn.model_selection import cross_validate\n",
    "from sklearn.model_selection import cross_val_score\n",
    "\n",
    "X = stroke_scaled_df.drop(['stroke','id'], axis=1)\n",
    "y = stroke_scaled_df['stroke']\n",
    "\n",
    "#Oversampling\n",
    "resample = SMOTEENN()\n",
    "\n",
    "# Split into training and test set\n",
    "X_train, X_test, y_train, y_test = train_test_split(X, y, test_size = 0.33, random_state=101, stratify=y)\n",
    "\n",
    "# #Standardize\n",
    "# sc = StandardScaler()\n",
    "# X_train_scaler = sc.fit_transform(X_train)\n",
    "# X_test_scaler = sc.fit_transform(X_test)\n",
    "\n",
    "# classifier = SVC(kernel='rbf')\n",
    "# classifier.fit(X_train_scaler,y_train)\n",
    "# y_pred = classifier.predict(X_test_scaler)\n",
    "\n",
    "# steps = [('r', resample),('m', classifier)]\n",
    "# pipeline = Pipeline(steps=steps)\n",
    "\n",
    "# # define evaluation procedure\n",
    "# cv = RepeatedStratifiedKFold(n_splits=5, n_repeats=3, random_state=1)\n",
    "\n",
    "# #Evaluate model\n",
    "# scoring=['accuracy','precision_macro','recall_macro']\n",
    "# scores = cross_validate(pipeline, X_train_scaler, y_train, scoring=scoring, cv=cv, n_jobs=-1)\n",
    "\n",
    "# # summarize performance\n",
    "# print('Mean Accuracy: %.4f' % np.mean(scores['test_accuracy']))\n",
    "# print('Mean Precision: %.4f' % np.mean(scores['test_precision_macro']))\n",
    "# print('Mean Recall: %.4f' % np.mean(scores['test_recall_macro']))\n",
    "\n",
    "# print(confusion_matrix(y_test,y_pred))\n",
    "\n",
    "# #Classification Report\n",
    "# print(classification_report(y_test, y_pred))"
   ]
  },
  {
   "cell_type": "code",
   "execution_count": 23,
   "metadata": {},
   "outputs": [
    {
     "name": "stdout",
     "output_type": "stream",
     "text": [
      "              precision    recall  f1-score   support\n",
      "\n",
      "           0       0.96      0.84      0.90      1152\n",
      "           1       0.18      0.46      0.25        82\n",
      "\n",
      "    accuracy                           0.82      1234\n",
      "   macro avg       0.57      0.65      0.58      1234\n",
      "weighted avg       0.90      0.82      0.85      1234\n",
      "\n",
      "[[973 179]\n",
      " [ 44  38]]\n"
     ]
    }
   ],
   "source": [
    "from sklearn.linear_model import LogisticRegression\n",
    "from imblearn.over_sampling import SVMSMOTE\n",
    "svmsmote = SVMSMOTE(random_state = 101)\n",
    "\n",
    "X_oversample_svm, y_oversample_svm = svmsmote.fit_resample(X_train, y_train)\n",
    "classifier_svm = LogisticRegression()\n",
    "classifier_svm.fit(X_oversample_svm, y_oversample_svm)\n",
    "print(classification_report(y_test, classifier_svm.predict(X_test)))\n",
    "\n",
    "print(confusion_matrix(y_test,classifier_svm.predict(X_test)))"
   ]
  },
  {
   "cell_type": "code",
   "execution_count": 24,
   "metadata": {},
   "outputs": [
    {
     "data": {
      "text/plain": [
       "(<Figure size 432x288 with 3 Axes>,\n",
       " {('0', '0'): (0.0, 0.0, 0.9289049081980697, 0.841812015503876),\n",
       "  ('0', '1'): (0.0,\n",
       "   0.8451342746400885,\n",
       "   0.9289049081980697,\n",
       "   0.15486572535991136),\n",
       "  ('1', '0'): (0.9338800325761792,\n",
       "   0.0,\n",
       "   0.06611996742382091,\n",
       "   0.5348026902195933),\n",
       "  ('1', '1'): (0.9338800325761792,\n",
       "   0.5381249493558058,\n",
       "   0.06611996742382091,\n",
       "   0.4618750506441941)})"
      ]
     },
     "execution_count": 24,
     "metadata": {},
     "output_type": "execute_result"
    },
    {
     "data": {
      "image/png": "[encoded data removed]",
      "text/plain": [
       "<Figure size 432x288 with 3 Axes>"
      ]
     },
     "metadata": {
      "needs_background": "light"
     },
     "output_type": "display_data"
    }
   ],
   "source": [
    "conf_matrix = confusion_matrix(y_test, classifier_svm.predict(X_test))\n",
    "from statsmodels.graphics.mosaicplot import mosaic\n",
    "mosaic(conf_matrix)"
   ]
  },
  {
   "cell_type": "code",
   "execution_count": 25,
   "metadata": {},
   "outputs": [
    {
     "name": "stdout",
     "output_type": "stream",
     "text": [
      "              precision    recall  f1-score   support\n",
      "\n",
      "           0       0.96      0.80      0.87      1152\n",
      "           1       0.17      0.57      0.26        82\n",
      "\n",
      "    accuracy                           0.78      1234\n",
      "   macro avg       0.56      0.68      0.56      1234\n",
      "weighted avg       0.91      0.78      0.83      1234\n",
      "\n"
     ]
    }
   ],
   "source": [
    "from imblearn.over_sampling import ADASYN\n",
    "adasyn = ADASYN(random_state = 101)\n",
    "X_oversample_ada, y_oversample_ada = adasyn.fit_resample(X_train, y_train)\n",
    "classifier_ada = LogisticRegression()\n",
    "classifier_ada.fit(X_oversample_ada, y_oversample_ada)\n",
    "print(classification_report(y_test, classifier_ada.predict(X_test)))"
   ]
  },
  {
   "cell_type": "code",
   "execution_count": 21,
   "metadata": {},
   "outputs": [
    {
     "data": {
      "text/plain": [
       "(<Figure size 432x288 with 3 Axes>,\n",
       " {('0', '0'): (0.0, 0.0, 0.9289049081980697, 0.7899017165005536),\n",
       "  ('0', '1'): (0.0,\n",
       "   0.7932239756367663,\n",
       "   0.9289049081980697,\n",
       "   0.20677602436323367),\n",
       "  ('1', '0'): (0.9338800325761792,\n",
       "   0.0,\n",
       "   0.06611996742382091,\n",
       "   0.5348026902195933),\n",
       "  ('1', '1'): (0.9338800325761792,\n",
       "   0.5381249493558058,\n",
       "   0.06611996742382091,\n",
       "   0.4618750506441941)})"
      ]
     },
     "execution_count": 21,
     "metadata": {},
     "output_type": "execute_result"
    },
    {
     "data": {
      "image/png": "[encoded data removed]",
      "text/plain": [
       "<Figure size 432x288 with 3 Axes>"
      ]
     },
     "metadata": {
      "needs_background": "light"
     },
     "output_type": "display_data"
    }
   ],
   "source": [
    "conf_matrix = confusion_matrix(y_test, classifier_ada.predict(X_test))\n",
    "from statsmodels.graphics.mosaicplot import mosaic\n",
    "mosaic(conf_matrix)"
   ]
  },
  {
   "cell_type": "code",
   "execution_count": null,
   "metadata": {},
   "outputs": [],
   "source": []
  }
 ],
 "metadata": {
  "kernelspec": {
   "display_name": "Python 3",
   "language": "python",
   "name": "python3"
  },
  "language_info": {
   "codemirror_mode": {
    "name": "ipython",
    "version": 3
   },
   "file_extension": ".py",
   "mimetype": "text/x-python",
   "name": "python",
   "nbconvert_exporter": "python",
   "pygments_lexer": "ipython3",
   "version": "3.8.5"
  }
 },
 "nbformat": 4,
 "nbformat_minor": 4
}
