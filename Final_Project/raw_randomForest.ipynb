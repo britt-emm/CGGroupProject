{
 "cells": [
  {
   "cell_type": "code",
   "execution_count": 21,
   "id": "4ee9820d",
   "metadata": {},
   "outputs": [],
   "source": [
    "import numpy as np\n",
    "import pandas as pd\n",
    "\n",
    "from sklearn.tree import DecisionTreeRegressor\n",
    "from sklearn.model_selection import train_test_split\n",
    "from sklearn.preprocessing import StandardScaler\n",
    "from sklearn.metrics import classification_report\n",
    "\n",
    "from collections import Counter\n",
    "from imblearn.combine import SMOTEENN"
   ]
  },
  {
   "cell_type": "code",
   "execution_count": 22,
   "id": "f3867f14",
   "metadata": {},
   "outputs": [],
   "source": [
    "stroke_raw_df = pd.read_csv(\"stroke_raw_df.csv\", index_col=0)\n",
    "stroke_norm_df = pd.read_csv(\"stroke_norm_df.csv\", index_col=0)\n",
    "stroke_scaled_df = pd.read_csv(\"stroke_scaled_df.csv\", index_col=0)"
   ]
  },
  {
   "cell_type": "markdown",
   "id": "206fd14f",
   "metadata": {},
   "source": [
    "### Working with the raw data (not normalized or scaled)"
   ]
  },
  {
   "cell_type": "code",
   "execution_count": 23,
   "id": "e4ed408c",
   "metadata": {},
   "outputs": [
    {
     "data": {
      "text/html": [
       "<div>\n",
       "<style scoped>\n",
       "    .dataframe tbody tr th:only-of-type {\n",
       "        vertical-align: middle;\n",
       "    }\n",
       "\n",
       "    .dataframe tbody tr th {\n",
       "        vertical-align: top;\n",
       "    }\n",
       "\n",
       "    .dataframe thead th {\n",
       "        text-align: right;\n",
       "    }\n",
       "</style>\n",
       "<table border=\"1\" class=\"dataframe\">\n",
       "  <thead>\n",
       "    <tr style=\"text-align: right;\">\n",
       "      <th></th>\n",
       "      <th>id</th>\n",
       "      <th>gender</th>\n",
       "      <th>age</th>\n",
       "      <th>hypertension</th>\n",
       "      <th>heart_disease</th>\n",
       "      <th>ever_married</th>\n",
       "      <th>Residence_type</th>\n",
       "      <th>avg_glucose_level</th>\n",
       "      <th>bmi</th>\n",
       "      <th>stroke</th>\n",
       "      <th>work_type_Govt_job</th>\n",
       "      <th>work_type_Private</th>\n",
       "      <th>work_type_Self-employed</th>\n",
       "      <th>smoking_status_Unknown</th>\n",
       "      <th>smoking_status_formerly smoked</th>\n",
       "      <th>smoking_status_never smoked</th>\n",
       "      <th>smoking_status_smokes</th>\n",
       "    </tr>\n",
       "  </thead>\n",
       "  <tbody>\n",
       "    <tr>\n",
       "      <th>0</th>\n",
       "      <td>9046</td>\n",
       "      <td>1</td>\n",
       "      <td>67.0</td>\n",
       "      <td>0</td>\n",
       "      <td>1</td>\n",
       "      <td>1</td>\n",
       "      <td>1</td>\n",
       "      <td>228.69</td>\n",
       "      <td>36.6</td>\n",
       "      <td>1</td>\n",
       "      <td>0</td>\n",
       "      <td>1</td>\n",
       "      <td>0</td>\n",
       "      <td>0</td>\n",
       "      <td>1</td>\n",
       "      <td>0</td>\n",
       "      <td>0</td>\n",
       "    </tr>\n",
       "    <tr>\n",
       "      <th>1</th>\n",
       "      <td>51676</td>\n",
       "      <td>0</td>\n",
       "      <td>61.0</td>\n",
       "      <td>0</td>\n",
       "      <td>0</td>\n",
       "      <td>1</td>\n",
       "      <td>0</td>\n",
       "      <td>202.21</td>\n",
       "      <td>33.2</td>\n",
       "      <td>1</td>\n",
       "      <td>0</td>\n",
       "      <td>0</td>\n",
       "      <td>1</td>\n",
       "      <td>0</td>\n",
       "      <td>0</td>\n",
       "      <td>1</td>\n",
       "      <td>0</td>\n",
       "    </tr>\n",
       "    <tr>\n",
       "      <th>2</th>\n",
       "      <td>31112</td>\n",
       "      <td>1</td>\n",
       "      <td>80.0</td>\n",
       "      <td>0</td>\n",
       "      <td>1</td>\n",
       "      <td>1</td>\n",
       "      <td>0</td>\n",
       "      <td>105.92</td>\n",
       "      <td>32.5</td>\n",
       "      <td>1</td>\n",
       "      <td>0</td>\n",
       "      <td>1</td>\n",
       "      <td>0</td>\n",
       "      <td>0</td>\n",
       "      <td>0</td>\n",
       "      <td>1</td>\n",
       "      <td>0</td>\n",
       "    </tr>\n",
       "    <tr>\n",
       "      <th>3</th>\n",
       "      <td>60182</td>\n",
       "      <td>0</td>\n",
       "      <td>49.0</td>\n",
       "      <td>0</td>\n",
       "      <td>0</td>\n",
       "      <td>1</td>\n",
       "      <td>1</td>\n",
       "      <td>171.23</td>\n",
       "      <td>34.4</td>\n",
       "      <td>1</td>\n",
       "      <td>0</td>\n",
       "      <td>1</td>\n",
       "      <td>0</td>\n",
       "      <td>0</td>\n",
       "      <td>0</td>\n",
       "      <td>0</td>\n",
       "      <td>1</td>\n",
       "    </tr>\n",
       "    <tr>\n",
       "      <th>4</th>\n",
       "      <td>1665</td>\n",
       "      <td>0</td>\n",
       "      <td>79.0</td>\n",
       "      <td>1</td>\n",
       "      <td>0</td>\n",
       "      <td>1</td>\n",
       "      <td>0</td>\n",
       "      <td>174.12</td>\n",
       "      <td>24.0</td>\n",
       "      <td>1</td>\n",
       "      <td>0</td>\n",
       "      <td>0</td>\n",
       "      <td>1</td>\n",
       "      <td>0</td>\n",
       "      <td>0</td>\n",
       "      <td>1</td>\n",
       "      <td>0</td>\n",
       "    </tr>\n",
       "  </tbody>\n",
       "</table>\n",
       "</div>"
      ],
      "text/plain": [
       "      id  gender   age  hypertension  heart_disease  ever_married  \\\n",
       "0   9046       1  67.0             0              1             1   \n",
       "1  51676       0  61.0             0              0             1   \n",
       "2  31112       1  80.0             0              1             1   \n",
       "3  60182       0  49.0             0              0             1   \n",
       "4   1665       0  79.0             1              0             1   \n",
       "\n",
       "   Residence_type  avg_glucose_level   bmi  stroke  work_type_Govt_job  \\\n",
       "0               1             228.69  36.6       1                   0   \n",
       "1               0             202.21  33.2       1                   0   \n",
       "2               0             105.92  32.5       1                   0   \n",
       "3               1             171.23  34.4       1                   0   \n",
       "4               0             174.12  24.0       1                   0   \n",
       "\n",
       "   work_type_Private  work_type_Self-employed  smoking_status_Unknown  \\\n",
       "0                  1                        0                       0   \n",
       "1                  0                        1                       0   \n",
       "2                  1                        0                       0   \n",
       "3                  1                        0                       0   \n",
       "4                  0                        1                       0   \n",
       "\n",
       "   smoking_status_formerly smoked  smoking_status_never smoked  \\\n",
       "0                               1                            0   \n",
       "1                               0                            1   \n",
       "2                               0                            1   \n",
       "3                               0                            0   \n",
       "4                               0                            1   \n",
       "\n",
       "   smoking_status_smokes  \n",
       "0                      0  \n",
       "1                      0  \n",
       "2                      0  \n",
       "3                      1  \n",
       "4                      0  "
      ]
     },
     "execution_count": 23,
     "metadata": {},
     "output_type": "execute_result"
    }
   ],
   "source": [
    "stroke_raw_df.head()"
   ]
  },
  {
   "cell_type": "code",
   "execution_count": 29,
   "id": "8adf1ed8",
   "metadata": {},
   "outputs": [
    {
     "name": "stdout",
     "output_type": "stream",
     "text": [
      "Original dataset shape Counter({0: 2443, 1: 173})\n",
      "Original dataset test shape Counter({0: 1048, 1: 74})\n"
     ]
    }
   ],
   "source": [
    "to_drop = stroke_raw_df[['stroke', 'id']]\n",
    "X = stroke_raw_df.drop(to_drop, axis=1)\n",
    "y = stroke_raw_df['stroke']\n",
    "\n",
    "\n",
    "# Split into training and test set\n",
    "X_train, X_test, y_train, y_test = train_test_split(X, y, test_size = 0.3, random_state=42, stratify=y)\n",
    "print('Original dataset shape %s' % Counter(y_train))\n",
    "print('Original dataset test shape %s' % Counter(y_test))"
   ]
  },
  {
   "cell_type": "markdown",
   "id": "d3ec1b62",
   "metadata": {},
   "source": [
    "#### Random Forest on the dataset before resampling\n",
    "Used GridSearchCV to identify the best hyperparameters for all models"
   ]
  },
  {
   "cell_type": "code",
   "execution_count": 30,
   "id": "75f35d54",
   "metadata": {},
   "outputs": [
    {
     "name": "stdout",
     "output_type": "stream",
     "text": [
      "Fitting 3 folds for each of 72 candidates, totalling 216 fits\n",
      "Best hyperparameters:\n",
      " {'max_depth': 4, 'max_features': 'log2', 'min_samples_leaf': 0.1, 'n_estimators': 100}\n"
     ]
    }
   ],
   "source": [
    "from sklearn.model_selection import GridSearchCV\n",
    "from sklearn.ensemble import RandomForestClassifier\n",
    "\n",
    "rfc= RandomForestClassifier(random_state=42)\n",
    "\n",
    "#define a grid of hyperparameters\n",
    "params_rfc = {\n",
    "    'n_estimators': [100,300,400,500],\n",
    "    'max_depth': [4,6,8],\n",
    "    'min_samples_leaf': [0.1,0.2,0.05],\n",
    "    'max_features': ['log2','sqrt']\n",
    "}\n",
    "\n",
    "# instantiate grid_rfc\n",
    "grid_rfc = GridSearchCV(estimator=rfc,\n",
    "                        param_grid=params_rfc,\n",
    "                       cv=3,\n",
    "                       scoring= 'accuracy',\n",
    "                       verbose=1,\n",
    "                       n_jobs=-1)\n",
    "# fit grid_rfc to training set\n",
    "grid_rfc.fit(X_train, y_train)\n",
    "#extract best hyperparameters\n",
    "\n",
    "best_hyperparams = grid_rfc.best_params_\n",
    "print('Best hyperparameters:\\n', best_hyperparams)"
   ]
  },
  {
   "cell_type": "code",
   "execution_count": 31,
   "id": "1fa7abeb",
   "metadata": {},
   "outputs": [
    {
     "name": "stdout",
     "output_type": "stream",
     "text": [
      "Train set accuracy score of rfc: 0.933868501529052\n",
      "Test set accuracy score of rfc: 0.9340463458110517\n",
      "Random forest classification\n",
      "              precision    recall  f1-score   support\n",
      "\n",
      "           0       0.93      1.00      0.97      1048\n",
      "           1       0.00      0.00      0.00        74\n",
      "\n",
      "    accuracy                           0.93      1122\n",
      "   macro avg       0.47      0.50      0.48      1122\n",
      "weighted avg       0.87      0.93      0.90      1122\n",
      "\n"
     ]
    },
    {
     "name": "stderr",
     "output_type": "stream",
     "text": [
      "/Users/brittanyminor/opt/miniconda3/lib/python3.8/site-packages/sklearn/metrics/_classification.py:1245: UndefinedMetricWarning: Precision and F-score are ill-defined and being set to 0.0 in labels with no predicted samples. Use `zero_division` parameter to control this behavior.\n",
      "  _warn_prf(average, modifier, msg_start, len(result))\n",
      "/Users/brittanyminor/opt/miniconda3/lib/python3.8/site-packages/sklearn/metrics/_classification.py:1245: UndefinedMetricWarning: Precision and F-score are ill-defined and being set to 0.0 in labels with no predicted samples. Use `zero_division` parameter to control this behavior.\n",
      "  _warn_prf(average, modifier, msg_start, len(result))\n",
      "/Users/brittanyminor/opt/miniconda3/lib/python3.8/site-packages/sklearn/metrics/_classification.py:1245: UndefinedMetricWarning: Precision and F-score are ill-defined and being set to 0.0 in labels with no predicted samples. Use `zero_division` parameter to control this behavior.\n",
      "  _warn_prf(average, modifier, msg_start, len(result))\n"
     ]
    }
   ],
   "source": [
    "# extract best model\n",
    "best_model = grid_rfc.best_estimator_\n",
    "#predict the test set labels\n",
    "y_pred = best_model.predict(X_test)\n",
    "\n",
    "best_accuracy_train = best_model.score(X_train, y_train)\n",
    "best_accuracy = best_model.score(X_test, y_test)\n",
    "print('Train set accuracy score of rfc: ' + str(best_accuracy_train))\n",
    "print('Test set accuracy score of rfc: ' + str(best_accuracy))\n",
    "\n",
    "print('Random forest classification')\n",
    "print(classification_report(y_test, y_pred))"
   ]
  },
  {
   "cell_type": "markdown",
   "id": "b579f497",
   "metadata": {},
   "source": [
    "Our dataset is very imbalanced and the participants with strokes are the minority class so it is not surprising that it was unable to predict any strokes."
   ]
  },
  {
   "cell_type": "markdown",
   "id": "3ecdea2d",
   "metadata": {},
   "source": [
    "#### Run feature importances with the random forest classifier to see which features are providing the most importance in the prediction."
   ]
  },
  {
   "cell_type": "code",
   "execution_count": 33,
   "id": "7f80943c",
   "metadata": {},
   "outputs": [
    {
     "name": "stdout",
     "output_type": "stream",
     "text": [
      "avg_glucose_level                 0.274942\n",
      "age                               0.243674\n",
      "bmi                               0.232576\n",
      "Residence_type                    0.032539\n",
      "gender                            0.032048\n",
      "heart_disease                     0.026855\n",
      "hypertension                      0.025250\n",
      "work_type_Private                 0.018966\n",
      "ever_married                      0.018849\n",
      "smoking_status_never smoked       0.017710\n",
      "smoking_status_Unknown            0.017413\n",
      "smoking_status_formerly smoked    0.016785\n",
      "work_type_Self-employed           0.016499\n",
      "smoking_status_smokes             0.014722\n",
      "work_type_Govt_job                0.011170\n",
      "dtype: float64\n",
      "15\n"
     ]
    }
   ],
   "source": [
    "rfc.fit(X_train, y_train)\n",
    "feature_imp = pd.Series(rfc.feature_importances_,index=stroke_raw_df.drop(to_drop, axis =1).columns).sort_values(ascending=False)\n",
    "print(feature_imp)\n",
    "print(rfc.n_features_)"
   ]
  },
  {
   "cell_type": "code",
   "execution_count": 34,
   "id": "1759f3d5",
   "metadata": {},
   "outputs": [
    {
     "name": "stdout",
     "output_type": "stream",
     "text": [
      "Original dataset shape Counter({0: 2443, 1: 173})\n",
      "Original dataset test shape Counter({0: 1048, 1: 74})\n"
     ]
    }
   ],
   "source": [
    "X = stroke_raw_df[['avg_glucose_level','age','bmi']]\n",
    "y= stroke_raw_df['stroke']\n",
    "\n",
    "# Split into training and test set\n",
    "X_train, X_test, y_train, y_test = train_test_split(X, y, test_size = 0.3, random_state=42, stratify=y)\n",
    "print('Original dataset shape %s' % Counter(y_train))\n",
    "print('Original dataset test shape %s' % Counter(y_test))"
   ]
  },
  {
   "cell_type": "markdown",
   "id": "56f246ae",
   "metadata": {},
   "source": [
    "### SMOTEN with fewer features-- just the top 3 most important\n",
    "SMOTEN creates new data points in the minority class with interpolation"
   ]
  },
  {
   "cell_type": "code",
   "execution_count": 37,
   "id": "79e5c31b",
   "metadata": {},
   "outputs": [
    {
     "name": "stdout",
     "output_type": "stream",
     "text": [
      "Resampled dataset shape Counter({0: 2443, 1: 2443})\n",
      "Fitting 3 folds for each of 72 candidates, totalling 216 fits\n",
      "Best hyperparameters:\n",
      " {'max_depth': 6, 'max_features': 'log2', 'min_samples_leaf': 0.05, 'n_estimators': 100}\n",
      "Train set accuracy score of rfc: 0.8419975440032746\n",
      "Test set accuracy score of rfc: 0.8155080213903744\n",
      "\n",
      "                   pre       rec       spe        f1       geo       iba       sup\n",
      "\n",
      "          0       0.93      0.86      0.14      0.90      0.34      0.13      1048\n",
      "          1       0.07      0.14      0.86      0.09      0.34      0.11        74\n",
      "\n",
      "avg / total       0.88      0.82      0.18      0.84      0.34      0.12      1122\n",
      "\n"
     ]
    }
   ],
   "source": [
    "from imblearn.over_sampling import SMOTEN\n",
    "smoten = SMOTEN(random_state=42)\n",
    "X_smote, y_smote = smoten.fit_resample(X_train, y_train)\n",
    "\n",
    "print('Resampled dataset shape %s' % Counter(y_smote))\n",
    "\n",
    "rfc= RandomForestClassifier(random_state=42)\n",
    "\n",
    "#define a grid of hyperparameters\n",
    "params_rfc = {\n",
    "    'n_estimators': [100,300,400,500],\n",
    "    'max_depth': [4,6,8],\n",
    "    'min_samples_leaf': [0.1,0.2,0.05],\n",
    "    'max_features': ['log2','sqrt']\n",
    "}\n",
    "\n",
    "# instantiate grid_rfc\n",
    "grid_rfc = GridSearchCV(estimator=rfc,\n",
    "                        param_grid=params_rfc,\n",
    "                       cv=3,\n",
    "                       scoring= 'accuracy',\n",
    "                       verbose=1,\n",
    "                       n_jobs=-1)\n",
    "# fit grid_rfc to training set\n",
    "grid_rfc.fit(X_smote, y_smote)\n",
    "#extract best hyperparameters\n",
    "\n",
    "best_hyperparams = grid_rfc.best_params_\n",
    "print('Best hyperparameters:\\n', best_hyperparams)\n",
    "\n",
    "# extract best model\n",
    "best_model = grid_rfc.best_estimator_\n",
    "#predict the test set labels\n",
    "y_pred = best_model.predict(X_test)\n",
    "\n",
    "best_accuracy_train = best_model.score(X_smote, y_smote)\n",
    "best_accuracy = best_model.score(X_test, y_test)\n",
    "print('Train set accuracy score of rfc: ' + str(best_accuracy_train))\n",
    "print('Test set accuracy score of rfc: ' + str(best_accuracy))\n",
    "\n",
    "#print(classification_report(y_test, y_pred))\n",
    "from imblearn.metrics import classification_report_imbalanced\n",
    "print('')\n",
    "print(classification_report_imbalanced(y_test, y_pred))"
   ]
  },
  {
   "cell_type": "markdown",
   "id": "ba39c1dd",
   "metadata": {},
   "source": [
    "### Random Oversample with fewer features- just the top 3 most important\n",
    "Random oversampling duplicates random datapoints from the minority class to improve the balance in the dataset"
   ]
  },
  {
   "cell_type": "code",
   "execution_count": 38,
   "id": "7a0ce0ae",
   "metadata": {},
   "outputs": [
    {
     "name": "stdout",
     "output_type": "stream",
     "text": [
      "Resampled dataset shape Counter({0: 2443, 1: 2443})\n",
      "Fitting 3 folds for each of 72 candidates, totalling 216 fits\n",
      "Best hyperparameters:\n",
      " {'max_depth': 8, 'max_features': 'log2', 'min_samples_leaf': 0.05, 'n_estimators': 400}\n",
      "Train set accuracy score of rfc: 0.7531723291035612\n",
      "Test set accuracy score of rfc: 0.6898395721925134\n",
      "\n",
      "                   pre       rec       spe        f1       geo       iba       sup\n",
      "\n",
      "          0       0.98      0.68      0.77      0.80      0.73      0.52      1048\n",
      "          1       0.15      0.77      0.68      0.25      0.73      0.53        74\n",
      "\n",
      "avg / total       0.92      0.69      0.76      0.77      0.73      0.52      1122\n",
      "\n"
     ]
    }
   ],
   "source": [
    "from imblearn.over_sampling import RandomOverSampler\n",
    "\n",
    "ros = RandomOverSampler(random_state=42)\n",
    "X_res, y_res= ros.fit_resample(X_train, y_train)\n",
    "print('Resampled dataset shape %s' % Counter(y_res))\n",
    "\n",
    "# fit grid_rfc to training set\n",
    "grid_rfc.fit(X_res, y_res)\n",
    "#extract best hyperparameters\n",
    "\n",
    "best_hyperparams = grid_rfc.best_params_\n",
    "print('Best hyperparameters:\\n', best_hyperparams)\n",
    "\n",
    "\n",
    "\n",
    "# extract best model\n",
    "best_model = grid_rfc.best_estimator_\n",
    "#predict the test set labels\n",
    "y_pred = best_model.predict(X_test)\n",
    "\n",
    "best_accuracy_train = best_model.score(X_res, y_res)\n",
    "best_accuracy = best_model.score(X_test, y_test)\n",
    "print('Train set accuracy score of rfc: ' + str(best_accuracy_train))\n",
    "print('Test set accuracy score of rfc: ' + str(best_accuracy))\n",
    "\n",
    "#print(classification_report(y_test, y_pred))\n",
    "from imblearn.metrics import classification_report_imbalanced\n",
    "print('')\n",
    "print(classification_report_imbalanced(y_test, y_pred))"
   ]
  },
  {
   "cell_type": "markdown",
   "id": "a9e56c63",
   "metadata": {},
   "source": [
    "\n",
    "## Random oversample with more features\n",
    "Because Random Forest automatically uses the square root of the total number of features as the default number of features, I have gone back to using the full set of features. When only using the top 3 features, that leaves fewer features to pull from for each tree. You can specify the number of features using an integer but that would reduce the randomness added to the Random Forest because each tree would be using the same features."
   ]
  },
  {
   "cell_type": "code",
   "execution_count": 39,
   "id": "9236e81d",
   "metadata": {},
   "outputs": [
    {
     "name": "stdout",
     "output_type": "stream",
     "text": [
      "Original dataset shape Counter({0: 2443, 1: 173})\n",
      "Original dataset test shape Counter({0: 1048, 1: 74})\n"
     ]
    }
   ],
   "source": [
    "to_drop = stroke_raw_df[['stroke', 'id']]\n",
    "X = stroke_raw_df.drop(to_drop, axis=1)\n",
    "y = stroke_raw_df['stroke']\n",
    "\n",
    "\n",
    "# Split into training and test set\n",
    "X_train, X_test, y_train, y_test = train_test_split(X, y, test_size = 0.3, random_state=42, stratify=y)\n",
    "print('Original dataset shape %s' % Counter(y_train))\n",
    "print('Original dataset test shape %s' % Counter(y_test))"
   ]
  },
  {
   "cell_type": "code",
   "execution_count": 41,
   "id": "5c4abf53",
   "metadata": {},
   "outputs": [
    {
     "name": "stdout",
     "output_type": "stream",
     "text": [
      "Resampled dataset shape Counter({0: 2443, 1: 2443})\n",
      "Fitting 3 folds for each of 72 candidates, totalling 216 fits\n",
      "Best hyperparameters:\n",
      " {'max_depth': 8, 'max_features': 'log2', 'min_samples_leaf': 0.05, 'n_estimators': 100}\n",
      "Train set accuracy score of rfc: 0.7482603356528857\n",
      "Test set accuracy score of rfc: 0.679144385026738\n",
      "\n",
      "                   pre       rec       spe        f1       geo       iba       sup\n",
      "\n",
      "          0       0.98      0.67      0.81      0.80      0.74      0.54      1048\n",
      "          1       0.15      0.81      0.67      0.25      0.74      0.55        74\n",
      "\n",
      "avg / total       0.93      0.68      0.80      0.76      0.74      0.54      1122\n",
      "\n"
     ]
    }
   ],
   "source": [
    "from imblearn.over_sampling import RandomOverSampler\n",
    "\n",
    "ros = RandomOverSampler(random_state=42)\n",
    "X_res, y_res= ros.fit_resample(X_train, y_train)\n",
    "print('Resampled dataset shape %s' % Counter(y_res))\n",
    "\n",
    "# fit grid_rfc to training set\n",
    "grid_rfc.fit(X_res, y_res)\n",
    "#extract best hyperparameters\n",
    "\n",
    "best_hyperparams = grid_rfc.best_params_\n",
    "print('Best hyperparameters:\\n', best_hyperparams)\n",
    "\n",
    "\n",
    "\n",
    "# extract best model\n",
    "best_model = grid_rfc.best_estimator_\n",
    "#predict the test set labels\n",
    "y_pred = best_model.predict(X_test)\n",
    "\n",
    "best_accuracy_train = best_model.score(X_res, y_res)\n",
    "best_accuracy = best_model.score(X_test, y_test)\n",
    "print('Train set accuracy score of rfc: ' + str(best_accuracy_train))\n",
    "print('Test set accuracy score of rfc: ' + str(best_accuracy))\n",
    "\n",
    "#print(classification_report(y_test, y_pred))\n",
    "from imblearn.metrics import classification_report_imbalanced\n",
    "print('')\n",
    "print(classification_report_imbalanced(y_test, y_pred))"
   ]
  },
  {
   "cell_type": "code",
   "execution_count": 42,
   "id": "c29ed90f",
   "metadata": {},
   "outputs": [
    {
     "name": "stdout",
     "output_type": "stream",
     "text": [
      "[[702 346]\n",
      " [ 14  60]]\n"
     ]
    },
    {
     "data": {
      "text/plain": [
       "(<Figure size 432x288 with 3 Axes>,\n",
       " {('0', '0'): (0.0, 0.0, 0.9293993490657232, 0.6676219218381476),\n",
       "  ('0', '1'): (0.0,\n",
       "   0.6709441809743603,\n",
       "   0.9293993490657232,\n",
       "   0.3290558190256397),\n",
       "  ('1', '0'): (0.9343744734438326,\n",
       "   0.0,\n",
       "   0.06562552655616745,\n",
       "   0.18856065367693278),\n",
       "  ('1', '1'): (0.9343744734438326,\n",
       "   0.1918829128131454,\n",
       "   0.06562552655616745,\n",
       "   0.8081170871868547)})"
      ]
     },
     "execution_count": 42,
     "metadata": {},
     "output_type": "execute_result"
    },
    {
     "data": {
      "image/png": "[encoded data removed]",
      "text/plain": [
       "<Figure size 432x288 with 3 Axes>"
      ]
     },
     "metadata": {
      "needs_background": "light"
     },
     "output_type": "display_data"
    }
   ],
   "source": [
    "from sklearn.metrics import confusion_matrix\n",
    "print(confusion_matrix(y_test, y_pred))\n",
    "\n",
    "conf_matrix = confusion_matrix(y_test, y_pred)\n",
    "from statsmodels.graphics.mosaicplot import mosaic\n",
    "mosaic(conf_matrix)"
   ]
  },
  {
   "cell_type": "markdown",
   "id": "fc1a8c0d",
   "metadata": {},
   "source": [
    "### Basic SMOTENC\n",
    "SMOTENC - is specifically designed for use with datasets that have both continuous and categorical data\n",
    "It uses interpolation to create new data points for oversampling the minority class."
   ]
  },
  {
   "cell_type": "code",
   "execution_count": 45,
   "id": "31fc61dd",
   "metadata": {},
   "outputs": [
    {
     "name": "stdout",
     "output_type": "stream",
     "text": [
      "Resampled dataset shape Counter({0: 2443, 1: 2443})\n"
     ]
    }
   ],
   "source": [
    "# instantiate a SMOTENC object\n",
    "from imblearn.over_sampling import SMOTENC\n",
    "smote_enc = SMOTENC(categorical_features = [0,2,3,4,5,8,9,10,11,12,13,14], random_state=42)\n",
    "X_smotenc, y_smotenc = smote_enc.fit_resample(X_train, y_train)\n",
    "\n",
    "# Split into training and test set\n",
    "#X_train, X_test, y_train, y_test = train_test_split(X_smotenc, y_smotenc, test_size = 0.3, random_state=42, stratify=y)\n",
    "\n",
    "print('Resampled dataset shape %s' % Counter(y_smotenc))"
   ]
  },
  {
   "cell_type": "code",
   "execution_count": 46,
   "id": "2df3e033",
   "metadata": {},
   "outputs": [
    {
     "name": "stdout",
     "output_type": "stream",
     "text": [
      "Fitting 3 folds for each of 72 candidates, totalling 216 fits\n",
      "Best hyperparameters:\n",
      " {'max_depth': 8, 'max_features': 'log2', 'min_samples_leaf': 0.05, 'n_estimators': 100}\n",
      "Resampled dataset shape Counter({0: 2443, 1: 2443})\n",
      "Train set accuracy score of rfc: 0.7681129758493656\n",
      "Test set accuracy score of rfc: 0.7040998217468806\n",
      "\n",
      "                   pre       rec       spe        f1       geo       iba       sup\n",
      "\n",
      "          0       0.97      0.71      0.65      0.82      0.68      0.46      1048\n",
      "          1       0.14      0.65      0.71      0.22      0.68      0.46        74\n",
      "\n",
      "avg / total       0.91      0.70      0.65      0.78      0.68      0.46      1122\n",
      "\n",
      "[[742 306]\n",
      " [ 26  48]]\n"
     ]
    },
    {
     "data": {
      "text/plain": [
       "(<Figure size 432x288 with 3 Axes>,\n",
       " {('0', '0'): (0.0, 0.0, 0.9293993490657232, 0.7056630569856204),\n",
       "  ('0', '1'): (0.0, 0.708985316121833, 0.9293993490657232, 0.2910146838781669),\n",
       "  ('1', '0'): (0.9343744734438326,\n",
       "   0.0,\n",
       "   0.06562552655616745,\n",
       "   0.35018407111430366),\n",
       "  ('1', '1'): (0.9343744734438326,\n",
       "   0.3535063302505163,\n",
       "   0.06562552655616745,\n",
       "   0.6464936697494836)})"
      ]
     },
     "execution_count": 46,
     "metadata": {},
     "output_type": "execute_result"
    },
    {
     "data": {
      "image/png": "[encoded data removed]",
      "text/plain": [
       "<Figure size 432x288 with 3 Axes>"
      ]
     },
     "metadata": {
      "needs_background": "light"
     },
     "output_type": "display_data"
    }
   ],
   "source": [
    "# fit grid_rfc to training set\n",
    "grid_rfc.fit(X_smotenc, y_smotenc)\n",
    "#extract best hyperparameters\n",
    "\n",
    "best_hyperparams = grid_rfc.best_params_\n",
    "print('Best hyperparameters:\\n', best_hyperparams)\n",
    "\n",
    "print('Resampled dataset shape %s' % Counter(y_smotenc))\n",
    "\n",
    "# extract best model\n",
    "best_model = grid_rfc.best_estimator_\n",
    "#predict the test set labels\n",
    "y_pred = best_model.predict(X_test)\n",
    "\n",
    "best_accuracy_train = best_model.score(X_smotenc, y_smotenc)\n",
    "best_accuracy = best_model.score(X_test, y_test)\n",
    "print('Train set accuracy score of rfc: ' + str(best_accuracy_train))\n",
    "print('Test set accuracy score of rfc: ' + str(best_accuracy))\n",
    "\n",
    "#print(classification_report(y_test, y_pred))\n",
    "\n",
    "print('')\n",
    "print(classification_report_imbalanced(y_test, y_pred))\n",
    "\n",
    "\n",
    "print(confusion_matrix(y_test, y_pred))\n",
    "\n",
    "conf_matrix = confusion_matrix(y_test, y_pred)\n",
    "\n",
    "mosaic(conf_matrix)"
   ]
  },
  {
   "cell_type": "markdown",
   "id": "67e7fc40",
   "metadata": {},
   "source": [
    "### Combine SMOTENC and Random under\n",
    "Random undersampling removes a random sample of data points from the majority class"
   ]
  },
  {
   "cell_type": "code",
   "execution_count": 48,
   "id": "31f1aa43",
   "metadata": {},
   "outputs": [
    {
     "name": "stdout",
     "output_type": "stream",
     "text": [
      "Resampled dataset shape Counter({0: 2443, 1: 2198})\n",
      "Resampled dataset shape Counter({0: 2198, 1: 2198})\n",
      "Fitting 3 folds for each of 72 candidates, totalling 216 fits\n",
      "Train set accuracy score of rfc: 0.7616014558689718\n",
      "Test set accuracy score of rfc: 0.7049910873440285\n",
      "\n",
      "                   pre       rec       spe        f1       geo       iba       sup\n",
      "\n",
      "          0       0.97      0.71      0.68      0.82      0.69      0.48      1048\n",
      "          1       0.14      0.68      0.71      0.23      0.69      0.48        74\n",
      "\n",
      "avg / total       0.91      0.70      0.68      0.78      0.69      0.48      1122\n",
      "\n",
      "[[741 307]\n",
      " [ 24  50]]\n"
     ]
    },
    {
     "data": {
      "text/plain": [
       "(<Figure size 432x288 with 3 Axes>,\n",
       " {('0', '0'): (0.0, 0.0, 0.9293993490657232, 0.7047120286069336),\n",
       "  ('0', '1'): (0.0,\n",
       "   0.7080342877431463,\n",
       "   0.9293993490657232,\n",
       "   0.2919657122568537),\n",
       "  ('1', '0'): (0.9343744734438326,\n",
       "   0.0,\n",
       "   0.06562552655616745,\n",
       "   0.3232468348747418),\n",
       "  ('1', '1'): (0.9343744734438326,\n",
       "   0.32656909401095446,\n",
       "   0.06562552655616745,\n",
       "   0.6734309059890454)})"
      ]
     },
     "execution_count": 48,
     "metadata": {},
     "output_type": "execute_result"
    },
    {
     "data": {
      "image/png": "[encoded data removed]",
      "text/plain": [
       "<Figure size 432x288 with 3 Axes>"
      ]
     },
     "metadata": {
      "needs_background": "light"
     },
     "output_type": "display_data"
    }
   ],
   "source": [
    "smote_enc = SMOTENC(categorical_features = [0,2,3,4,5,8,9,10,11,12,13,14], random_state=42, sampling_strategy = 0.9)\n",
    "X_smotenc, y_smotenc = smote_enc.fit_resample(X_train, y_train)\n",
    "print('Resampled dataset shape %s' % Counter(y_smotenc))\n",
    "\n",
    "from imblearn.under_sampling import RandomUnderSampler\n",
    "rus = RandomUnderSampler(random_state=42)\n",
    "X_smunder, y_smunder = rus.fit_resample(X_smotenc, y_smotenc)\n",
    "print('Resampled dataset shape %s' % Counter(y_smunder))\n",
    "\n",
    "grid_rfc.fit(X_smunder, y_smunder)\n",
    "\n",
    "# extract best model\n",
    "best_model = grid_rfc.best_estimator_\n",
    "#predict the test set labels\n",
    "y_pred = best_model.predict(X_test)\n",
    "\n",
    "best_accuracy_train = best_model.score(X_smunder, y_smunder)\n",
    "best_accuracy = best_model.score(X_test, y_test)\n",
    "print('Train set accuracy score of rfc: ' + str(best_accuracy_train))\n",
    "print('Test set accuracy score of rfc: ' + str(best_accuracy))\n",
    "\n",
    "#print(classification_report(y_test, y_pred))\n",
    "\n",
    "print('')\n",
    "print(classification_report_imbalanced(y_test, y_pred))\n",
    "\n",
    "\n",
    "print(confusion_matrix(y_test, y_pred))\n",
    "\n",
    "conf_matrix = confusion_matrix(y_test, y_pred)\n",
    "\n",
    "mosaic(conf_matrix)"
   ]
  },
  {
   "cell_type": "markdown",
   "id": "aa3efefc",
   "metadata": {},
   "source": [
    "## Random over and under"
   ]
  },
  {
   "cell_type": "code",
   "execution_count": 49,
   "id": "96107b0c",
   "metadata": {},
   "outputs": [
    {
     "name": "stdout",
     "output_type": "stream",
     "text": [
      "Resampled dataset shape Counter({0: 2198, 1: 2198})\n",
      "Fitting 3 folds for each of 72 candidates, totalling 216 fits\n",
      "Train set accuracy score of rfc: 0.7488626023657871\n",
      "Test set accuracy score of rfc: 0.6711229946524064\n",
      "\n",
      "                   pre       rec       spe        f1       geo       iba       sup\n",
      "\n",
      "          0       0.98      0.66      0.81      0.79      0.73      0.53      1048\n",
      "          1       0.14      0.81      0.66      0.25      0.73      0.54        74\n",
      "\n",
      "avg / total       0.93      0.67      0.80      0.75      0.73      0.53      1122\n",
      "\n",
      "[[693 355]\n",
      " [ 14  60]]\n"
     ]
    },
    {
     "data": {
      "text/plain": [
       "(<Figure size 432x288 with 3 Axes>,\n",
       " {('0', '0'): (0.0, 0.0, 0.9293993490657232, 0.6590626664299662),\n",
       "  ('0', '1'): (0.0,\n",
       "   0.6623849255661788,\n",
       "   0.9293993490657232,\n",
       "   0.3376150744338211),\n",
       "  ('1', '0'): (0.9343744734438326,\n",
       "   0.0,\n",
       "   0.06562552655616745,\n",
       "   0.18856065367693278),\n",
       "  ('1', '1'): (0.9343744734438326,\n",
       "   0.1918829128131454,\n",
       "   0.06562552655616745,\n",
       "   0.8081170871868547)})"
      ]
     },
     "execution_count": 49,
     "metadata": {},
     "output_type": "execute_result"
    },
    {
     "data": {
      "image/png": "[encoded data removed]",
      "text/plain": [
       "<Figure size 432x288 with 3 Axes>"
      ]
     },
     "metadata": {
      "needs_background": "light"
     },
     "output_type": "display_data"
    }
   ],
   "source": [
    "ros = RandomOverSampler(random_state=42, sampling_strategy = 0.9)\n",
    "X_res, y_res= ros.fit_resample(X_train, y_train)\n",
    "\n",
    "rus = RandomUnderSampler(random_state=42)\n",
    "X_smunder, y_smunder = rus.fit_resample(X_res, y_res)\n",
    "print('Resampled dataset shape %s' % Counter(y_smunder))\n",
    "\n",
    "grid_rfc.fit(X_smunder, y_smunder)\n",
    "\n",
    "# extract best model\n",
    "best_model = grid_rfc.best_estimator_\n",
    "#predict the test set labels\n",
    "y_pred = best_model.predict(X_test)\n",
    "\n",
    "best_accuracy_train = best_model.score(X_smunder, y_smunder)\n",
    "best_accuracy = best_model.score(X_test, y_test)\n",
    "print('Train set accuracy score of rfc: ' + str(best_accuracy_train))\n",
    "print('Test set accuracy score of rfc: ' + str(best_accuracy))\n",
    "\n",
    "#print(classification_report(y_test, y_pred))\n",
    "\n",
    "print('')\n",
    "print(classification_report_imbalanced(y_test, y_pred))\n",
    "\n",
    "\n",
    "print(confusion_matrix(y_test, y_pred))\n",
    "\n",
    "conf_matrix = confusion_matrix(y_test, y_pred)\n",
    "\n",
    "mosaic(conf_matrix)"
   ]
  },
  {
   "cell_type": "markdown",
   "id": "4dfd0a58",
   "metadata": {},
   "source": [
    "## Different Split for train test with random oversampling\n",
    "I tried using a different split so that I would have a larger set of test data"
   ]
  },
  {
   "cell_type": "code",
   "execution_count": 50,
   "id": "6d9ab736",
   "metadata": {},
   "outputs": [
    {
     "name": "stdout",
     "output_type": "stream",
     "text": [
      "Original dataset shape Counter({0: 2094, 1: 148})\n",
      "Original dataset test shape Counter({0: 1397, 1: 99})\n"
     ]
    }
   ],
   "source": [
    "# Split into training and test set\n",
    "X_train, X_test, y_train, y_test = train_test_split(X, y, test_size = 0.4, random_state=42, stratify=y)\n",
    "print('Original dataset shape %s' % Counter(y_train))\n",
    "print('Original dataset test shape %s' % Counter(y_test))"
   ]
  },
  {
   "cell_type": "code",
   "execution_count": 51,
   "id": "065cec3d",
   "metadata": {},
   "outputs": [
    {
     "name": "stdout",
     "output_type": "stream",
     "text": [
      "Resampled dataset shape Counter({1: 2094, 0: 2094})\n",
      "Fitting 3 folds for each of 72 candidates, totalling 216 fits\n",
      "Train set accuracy score of rfc: 0.7492836676217765\n",
      "Test set accuracy score of rfc: 0.6925133689839572\n",
      "\n",
      "                   pre       rec       spe        f1       geo       iba       sup\n",
      "\n",
      "          0       0.98      0.68      0.82      0.81      0.75      0.55      1397\n",
      "          1       0.15      0.82      0.68      0.26      0.75      0.57        99\n",
      "\n",
      "avg / total       0.93      0.69      0.81      0.77      0.75      0.55      1496\n",
      "\n",
      "[[955 442]\n",
      " [ 18  81]]\n"
     ]
    },
    {
     "data": {
      "text/plain": [
       "(<Figure size 432x288 with 3 Axes>,\n",
       " {('0', '0'): (0.0, 0.0, 0.9291776412057361, 0.6813366088224172),\n",
       "  ('0', '1'): (0.0,\n",
       "   0.6846588679586298,\n",
       "   0.9291776412057361,\n",
       "   0.31534113204137004),\n",
       "  ('1', '0'): (0.9341527655838456,\n",
       "   0.0,\n",
       "   0.06584723441615452,\n",
       "   0.18121413470250683),\n",
       "  ('1', '1'): (0.9341527655838456,\n",
       "   0.18453639383871945,\n",
       "   0.06584723441615452,\n",
       "   0.8154636061612807)})"
      ]
     },
     "execution_count": 51,
     "metadata": {},
     "output_type": "execute_result"
    },
    {
     "data": {
      "image/png": "[encoded data removed]",
      "text/plain": [
       "<Figure size 432x288 with 3 Axes>"
      ]
     },
     "metadata": {
      "needs_background": "light"
     },
     "output_type": "display_data"
    }
   ],
   "source": [
    "ros = RandomOverSampler(random_state=42)\n",
    "X_res, y_res= ros.fit_resample(X_train, y_train)\n",
    "\n",
    "print('Resampled dataset shape %s' % Counter(y_res))\n",
    "grid_rfc.fit(X_res, y_res)\n",
    "\n",
    "# extract best model\n",
    "best_model = grid_rfc.best_estimator_\n",
    "#predict the test set labels\n",
    "y_pred = best_model.predict(X_test)\n",
    "\n",
    "best_accuracy_train = best_model.score(X_res, y_res)\n",
    "best_accuracy = best_model.score(X_test, y_test)\n",
    "print('Train set accuracy score of rfc: ' + str(best_accuracy_train))\n",
    "print('Test set accuracy score of rfc: ' + str(best_accuracy))\n",
    "\n",
    "#print(classification_report(y_test, y_pred))\n",
    "from imblearn.metrics import classification_report_imbalanced\n",
    "print('')\n",
    "print(classification_report_imbalanced(y_test, y_pred))\n",
    "\n",
    "\n",
    "print(confusion_matrix(y_test, y_pred))\n",
    "\n",
    "conf_matrix = confusion_matrix(y_test, y_pred)\n",
    "\n",
    "mosaic(conf_matrix)"
   ]
  },
  {
   "cell_type": "markdown",
   "id": "2225391a",
   "metadata": {},
   "source": [
    "# Best performer\n",
    "This model has the best recall for participants with stroke. Although the precision is low, we believe that it is more important to have higher recall (higher true positives) with more false positives than to have a large number of false negatives. The use case for this model would be to identify participants/patients who would be at a higher risk for stroke. It would be more concerning to miss people who could be counseled on reducing their risk of stroke than to counsel people on reducing risk who don't have as high of risk.\n",
    "\n",
    "## New GridSearch with the 60/40 train test split and Random oversample"
   ]
  },
  {
   "cell_type": "code",
   "execution_count": 55,
   "id": "39d65823",
   "metadata": {},
   "outputs": [
    {
     "name": "stdout",
     "output_type": "stream",
     "text": [
      "Fitting 3 folds for each of 72 candidates, totalling 216 fits\n",
      "Best hyperparameters:\n",
      " {'criterion': 'gini', 'max_depth': 6, 'max_features': 'log2', 'min_samples_leaf': 0.05, 'n_estimators': 300}\n"
     ]
    }
   ],
   "source": [
    "rfc= RandomForestClassifier(random_state=42)\n",
    "\n",
    "#define a grid of hyperparameters\n",
    "params_rfc = {\n",
    "    'n_estimators': [100,300],\n",
    "    'criterion': ['gini', 'entropy'],\n",
    "    'max_depth': [2,4,6],\n",
    "    'min_samples_leaf': [0.1,0.2,0.05],\n",
    "    'max_features': ['log2','sqrt']\n",
    "}\n",
    "\n",
    "# instantiate grid_rfc\n",
    "grid_rfc = GridSearchCV(estimator=rfc,\n",
    "                        param_grid=params_rfc,\n",
    "                       cv=3,\n",
    "                       scoring= 'accuracy',\n",
    "                       verbose=1,\n",
    "                       n_jobs=-1)\n",
    "# fit grid_rfc to training set\n",
    "grid_rfc.fit(X_res, y_res)\n",
    "#extract best hyperparameters\n",
    "\n",
    "best_hyperparams = grid_rfc.best_params_\n",
    "print('Best hyperparameters:\\n', best_hyperparams)"
   ]
  },
  {
   "cell_type": "code",
   "execution_count": 56,
   "id": "524fc6cb",
   "metadata": {},
   "outputs": [
    {
     "name": "stdout",
     "output_type": "stream",
     "text": [
      "Train set accuracy score of rfc: 0.7497612225405922\n",
      "Test set accuracy score of rfc: 0.6971925133689839\n",
      "\n",
      "                   pre       rec       spe        f1       geo       iba       sup\n",
      "\n",
      "          0       0.98      0.69      0.83      0.81      0.75      0.56      1397\n",
      "          1       0.16      0.83      0.69      0.27      0.75      0.58        99\n",
      "\n",
      "avg / total       0.93      0.70      0.82      0.77      0.75      0.56      1496\n",
      "\n",
      "[[961 436]\n",
      " [ 17  82]]\n"
     ]
    },
    {
     "data": {
      "text/plain": [
       "(<Figure size 432x288 with 3 Axes>,\n",
       " {('0', '0'): (0.0, 0.0, 0.9291776412057361, 0.6856172576736576),\n",
       "  ('0', '1'): (0.0,\n",
       "   0.6889395168098701,\n",
       "   0.9291776412057361,\n",
       "   0.3110604831901298),\n",
       "  ('1', '0'): (0.9341527655838456,\n",
       "   0.0,\n",
       "   0.06584723441615452,\n",
       "   0.17114668277458972),\n",
       "  ('1', '1'): (0.9341527655838456,\n",
       "   0.17446894191080234,\n",
       "   0.06584723441615452,\n",
       "   0.8255310580891976)})"
      ]
     },
     "execution_count": 56,
     "metadata": {},
     "output_type": "execute_result"
    },
    {
     "data": {
      "image/png": "[encoded data removed]",
      "text/plain": [
       "<Figure size 432x288 with 3 Axes>"
      ]
     },
     "metadata": {
      "needs_background": "light"
     },
     "output_type": "display_data"
    }
   ],
   "source": [
    "# extract best model\n",
    "best_model = grid_rfc.best_estimator_\n",
    "#predict the test set labels\n",
    "y_pred = best_model.predict(X_test)\n",
    "\n",
    "best_accuracy_train = best_model.score(X_res, y_res)\n",
    "best_accuracy = best_model.score(X_test, y_test)\n",
    "print('Train set accuracy score of rfc: ' + str(best_accuracy_train))\n",
    "print('Test set accuracy score of rfc: ' + str(best_accuracy))\n",
    "\n",
    "#print(classification_report(y_test, y_pred))\n",
    "from imblearn.metrics import classification_report_imbalanced\n",
    "print('')\n",
    "print(classification_report_imbalanced(y_test, y_pred))\n",
    "\n",
    "\n",
    "print(confusion_matrix(y_test, y_pred))\n",
    "\n",
    "conf_matrix = confusion_matrix(y_test, y_pred)\n",
    "\n",
    "mosaic(conf_matrix)"
   ]
  },
  {
   "cell_type": "code",
   "execution_count": 57,
   "id": "e169f297",
   "metadata": {},
   "outputs": [
    {
     "name": "stdout",
     "output_type": "stream",
     "text": [
      "0.758092738407699\n"
     ]
    }
   ],
   "source": [
    "import matplotlib.pyplot as plt\n",
    "from sklearn.metrics import roc_curve, roc_auc_score\n",
    "\n",
    "fpr, tpr, thresholds = roc_curve(y_test, y_pred)\n",
    "auc = roc_auc_score(y_test, y_pred)\n",
    "print(auc)\n",
    "#fpr = false positive rate, tpr = true positive rate"
   ]
  },
  {
   "cell_type": "code",
   "execution_count": 58,
   "id": "c4e6e0a6",
   "metadata": {},
   "outputs": [
    {
     "data": {
      "text/plain": [
       "Text(0, 0.5, 'True Positive Rate')"
      ]
     },
     "execution_count": 58,
     "metadata": {},
     "output_type": "execute_result"
    },
    {
     "data": {
      "image/png": "[encoded data removed]",
      "text/plain": [
       "<Figure size 432x288 with 1 Axes>"
      ]
     },
     "metadata": {
      "needs_background": "light"
     },
     "output_type": "display_data"
    }
   ],
   "source": [
    "plt.plot(fpr, tpr, marker = '.')\n",
    "plt.xlabel('False Positive Rate')\n",
    "plt.ylabel('True Positive Rate')"
   ]
  },
  {
   "cell_type": "code",
   "execution_count": 59,
   "id": "f0b6badc",
   "metadata": {},
   "outputs": [
    {
     "name": "stdout",
     "output_type": "stream",
     "text": [
      "0.26580226904376014\n",
      "0.4989738114738115\n"
     ]
    }
   ],
   "source": [
    "# better here because the data is imbalanced\n",
    "from sklearn.metrics import precision_recall_curve, f1_score, auc \n",
    "precision, recall, thresholds = precision_recall_curve(y_test, y_pred)\n",
    "\n",
    "f1 = f1_score(y_test, y_pred)\n",
    "print(f1)\n",
    "\n",
    "auc = auc(recall, precision)\n",
    "print(auc)"
   ]
  },
  {
   "cell_type": "code",
   "execution_count": 60,
   "id": "831b505b",
   "metadata": {},
   "outputs": [
    {
     "data": {
      "text/plain": [
       "Text(0, 0.5, 'Precision')"
      ]
     },
     "execution_count": 60,
     "metadata": {},
     "output_type": "execute_result"
    },
    {
     "data": {
      "image/png": "[encoded data removed]",
      "text/plain": [
       "<Figure size 432x288 with 1 Axes>"
      ]
     },
     "metadata": {
      "needs_background": "light"
     },
     "output_type": "display_data"
    }
   ],
   "source": [
    "plt.plot(recall, precision, marker = '.')\n",
    "plt.xlabel('Recall')\n",
    "plt.ylabel('Precision')"
   ]
  },
  {
   "cell_type": "markdown",
   "id": "89b718e0",
   "metadata": {},
   "source": [
    "## AdaBoost with Random Oversample"
   ]
  },
  {
   "cell_type": "code",
   "execution_count": 61,
   "id": "fd62af1a",
   "metadata": {},
   "outputs": [
    {
     "name": "stdout",
     "output_type": "stream",
     "text": [
      "Fitting 3 folds for each of 9 candidates, totalling 27 fits\n",
      "Best hyperparameters:\n",
      " {'learning_rate': 1, 'n_estimators': 300}\n"
     ]
    }
   ],
   "source": [
    "from sklearn.ensemble import AdaBoostClassifier\n",
    "\n",
    "ada = AdaBoostClassifier(random_state=42)\n",
    "\n",
    "#define a grid of hyperparameters\n",
    "params_ada = {\n",
    "    'n_estimators': [50,100,300],\n",
    "    'learning_rate': [.5,.7,1],\n",
    "}\n",
    "\n",
    "# instantiate grid_rfc\n",
    "grid_ada = GridSearchCV(estimator=ada,\n",
    "                        param_grid=params_ada,\n",
    "                       cv=3,\n",
    "                       scoring= 'accuracy',\n",
    "                       verbose=1,\n",
    "                       n_jobs=-1)\n",
    "# fit grid_rfc to training set\n",
    "grid_ada.fit(X_res, y_res)\n",
    "#extract best hyperparameters\n",
    "\n",
    "best_hyperparams = grid_ada.best_params_\n",
    "print('Best hyperparameters:\\n', best_hyperparams)"
   ]
  },
  {
   "cell_type": "code",
   "execution_count": 62,
   "id": "2b079b92",
   "metadata": {},
   "outputs": [
    {
     "name": "stdout",
     "output_type": "stream",
     "text": [
      "Train set accuracy score of rfc: 0.8385864374403056\n",
      "Test set accuracy score of rfc: 0.7713903743315508\n",
      "\n",
      "                   pre       rec       spe        f1       geo       iba       sup\n",
      "\n",
      "          0       0.96      0.78      0.60      0.86      0.68      0.48      1397\n",
      "          1       0.16      0.60      0.78      0.26      0.68      0.46        99\n",
      "\n",
      "avg / total       0.91      0.77      0.61      0.82      0.68      0.47      1496\n",
      "\n"
     ]
    }
   ],
   "source": [
    "# extract best model\n",
    "best_model = grid_ada.best_estimator_\n",
    "#predict the test set labels\n",
    "y_pred = best_model.predict(X_test)\n",
    "\n",
    "best_accuracy_train = best_model.score(X_res, y_res)\n",
    "best_accuracy = best_model.score(X_test, y_test)\n",
    "print('Train set accuracy score of rfc: ' + str(best_accuracy_train))\n",
    "print('Test set accuracy score of rfc: ' + str(best_accuracy))\n",
    "\n",
    "#print(classification_report(y_test, y_pred))\n",
    "from imblearn.metrics import classification_report_imbalanced\n",
    "print('')\n",
    "print(classification_report_imbalanced(y_test, y_pred))"
   ]
  },
  {
   "cell_type": "code",
   "execution_count": 63,
   "id": "dcc1c1ce",
   "metadata": {},
   "outputs": [
    {
     "name": "stdout",
     "output_type": "stream",
     "text": [
      "[[1095  302]\n",
      " [  40   59]]\n"
     ]
    }
   ],
   "source": [
    "print(confusion_matrix(y_test, y_pred))"
   ]
  },
  {
   "cell_type": "code",
   "execution_count": 64,
   "id": "916fd0b3",
   "metadata": {},
   "outputs": [
    {
     "data": {
      "text/plain": [
       "(<Figure size 432x288 with 3 Axes>,\n",
       " {('0', '0'): (0.0, 0.0, 0.9291776412057361, 0.7812184153513579),\n",
       "  ('0', '1'): (0.0,\n",
       "   0.7845406744875706,\n",
       "   0.9291776412057361,\n",
       "   0.2154593255124293),\n",
       "  ('1', '0'): (0.9341527655838456,\n",
       "   0.0,\n",
       "   0.06584723441615452,\n",
       "   0.4026980771166817),\n",
       "  ('1', '1'): (0.9341527655838456,\n",
       "   0.40602033625289435,\n",
       "   0.06584723441615452,\n",
       "   0.5939796637471056)})"
      ]
     },
     "execution_count": 64,
     "metadata": {},
     "output_type": "execute_result"
    },
    {
     "data": {
      "image/png": "[encoded data removed]",
      "text/plain": [
       "<Figure size 432x288 with 3 Axes>"
      ]
     },
     "metadata": {
      "needs_background": "light"
     },
     "output_type": "display_data"
    }
   ],
   "source": [
    "conf_matrix = confusion_matrix(y_test, y_pred)\n",
    "\n",
    "mosaic(conf_matrix)"
   ]
  },
  {
   "cell_type": "code",
   "execution_count": null,
   "id": "f2851499",
   "metadata": {},
   "outputs": [],
   "source": []
  }
 ],
 "metadata": {
  "kernelspec": {
   "display_name": "Python 3",
   "language": "python",
   "name": "python3"
  },
  "language_info": {
   "codemirror_mode": {
    "name": "ipython",
    "version": 3
   },
   "file_extension": ".py",
   "mimetype": "text/x-python",
   "name": "python",
   "nbconvert_exporter": "python",
   "pygments_lexer": "ipython3",
   "version": "3.8.5"
  }
 },
 "nbformat": 4,
 "nbformat_minor": 5
}
