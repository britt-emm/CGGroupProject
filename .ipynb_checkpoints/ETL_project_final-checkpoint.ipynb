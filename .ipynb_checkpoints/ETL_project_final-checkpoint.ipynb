{
 "cells": [
  {
   "cell_type": "markdown",
   "id": "oriented-security",
   "metadata": {},
   "source": [
    "# ETL Project"
   ]
  },
  {
   "cell_type": "markdown",
   "id": "built-maine",
   "metadata": {},
   "source": [
    "In this notebook, we will be cleaning up some data and adding features before creating a database in Postgres.  Once the database is created, some tables and SQL queries will be run."
   ]
  },
  {
   "cell_type": "code",
   "execution_count": 1,
   "id": "724b1cf2",
   "metadata": {},
   "outputs": [
    {
     "data": {
      "text/html": [
       "<div>\n",
       "<style scoped>\n",
       "    .dataframe tbody tr th:only-of-type {\n",
       "        vertical-align: middle;\n",
       "    }\n",
       "\n",
       "    .dataframe tbody tr th {\n",
       "        vertical-align: top;\n",
       "    }\n",
       "\n",
       "    .dataframe thead th {\n",
       "        text-align: right;\n",
       "    }\n",
       "</style>\n",
       "<table border=\"1\" class=\"dataframe\">\n",
       "  <thead>\n",
       "    <tr style=\"text-align: right;\">\n",
       "      <th></th>\n",
       "      <th>Unnamed: 0</th>\n",
       "      <th>ID</th>\n",
       "      <th>Name of Fire</th>\n",
       "      <th>End Date</th>\n",
       "      <th>Event Date</th>\n",
       "      <th>Latitude</th>\n",
       "      <th>Longitude</th>\n",
       "      <th>Year</th>\n",
       "      <th>Month</th>\n",
       "      <th>Hemisphere</th>\n",
       "      <th>Country</th>\n",
       "    </tr>\n",
       "  </thead>\n",
       "  <tbody>\n",
       "    <tr>\n",
       "      <th>0</th>\n",
       "      <td>0</td>\n",
       "      <td>EONET_5285</td>\n",
       "      <td>Gila Fire</td>\n",
       "      <td>2021-04-13T00:00:00Z</td>\n",
       "      <td>2021-04-02T07:15:00Z</td>\n",
       "      <td>32.91400</td>\n",
       "      <td>-113.43700</td>\n",
       "      <td>2021</td>\n",
       "      <td>4</td>\n",
       "      <td>Northern Hemisphere</td>\n",
       "      <td>United States</td>\n",
       "    </tr>\n",
       "    <tr>\n",
       "      <th>1</th>\n",
       "      <td>1</td>\n",
       "      <td>EONET_5272</td>\n",
       "      <td>King Fire</td>\n",
       "      <td>2021-03-26T00:00:00Z</td>\n",
       "      <td>2021-03-17T15:30:00Z</td>\n",
       "      <td>26.95300</td>\n",
       "      <td>-98.08800</td>\n",
       "      <td>2021</td>\n",
       "      <td>3</td>\n",
       "      <td>Northern Hemisphere</td>\n",
       "      <td>United States</td>\n",
       "    </tr>\n",
       "    <tr>\n",
       "      <th>2</th>\n",
       "      <td>2</td>\n",
       "      <td>EONET_5268</td>\n",
       "      <td>Wildfires - Patagonia Region, Argentina</td>\n",
       "      <td>2021-03-20T00:00:00Z</td>\n",
       "      <td>2021-03-12T14:42:00Z</td>\n",
       "      <td>-42.59104</td>\n",
       "      <td>-71.38468</td>\n",
       "      <td>2021</td>\n",
       "      <td>3</td>\n",
       "      <td>Southern Hemisphere</td>\n",
       "      <td>Argentina</td>\n",
       "    </tr>\n",
       "    <tr>\n",
       "      <th>3</th>\n",
       "      <td>3</td>\n",
       "      <td>EONET_5267</td>\n",
       "      <td>Big Rocks Fire</td>\n",
       "      <td>2021-04-05T00:00:00Z</td>\n",
       "      <td>2021-03-08T16:30:00Z</td>\n",
       "      <td>37.74000</td>\n",
       "      <td>-115.00100</td>\n",
       "      <td>2021</td>\n",
       "      <td>3</td>\n",
       "      <td>Northern Hemisphere</td>\n",
       "      <td>United States</td>\n",
       "    </tr>\n",
       "    <tr>\n",
       "      <th>4</th>\n",
       "      <td>4</td>\n",
       "      <td>EONET_5263</td>\n",
       "      <td>Wildfire - Curacavi Commune (Fundo Monterrey F...</td>\n",
       "      <td>2021-03-07T00:00:00Z</td>\n",
       "      <td>2021-03-01T18:46:00Z</td>\n",
       "      <td>-33.38700</td>\n",
       "      <td>-71.19793</td>\n",
       "      <td>2021</td>\n",
       "      <td>3</td>\n",
       "      <td>Southern Hemisphere</td>\n",
       "      <td>Chile</td>\n",
       "    </tr>\n",
       "  </tbody>\n",
       "</table>\n",
       "</div>"
      ],
      "text/plain": [
       "   Unnamed: 0          ID                                       Name of Fire  \\\n",
       "0           0  EONET_5285                                          Gila Fire   \n",
       "1           1  EONET_5272                                          King Fire   \n",
       "2           2  EONET_5268            Wildfires - Patagonia Region, Argentina   \n",
       "3           3  EONET_5267                                     Big Rocks Fire   \n",
       "4           4  EONET_5263  Wildfire - Curacavi Commune (Fundo Monterrey F...   \n",
       "\n",
       "               End Date            Event Date  Latitude  Longitude  Year  \\\n",
       "0  2021-04-13T00:00:00Z  2021-04-02T07:15:00Z  32.91400 -113.43700  2021   \n",
       "1  2021-03-26T00:00:00Z  2021-03-17T15:30:00Z  26.95300  -98.08800  2021   \n",
       "2  2021-03-20T00:00:00Z  2021-03-12T14:42:00Z -42.59104  -71.38468  2021   \n",
       "3  2021-04-05T00:00:00Z  2021-03-08T16:30:00Z  37.74000 -115.00100  2021   \n",
       "4  2021-03-07T00:00:00Z  2021-03-01T18:46:00Z -33.38700  -71.19793  2021   \n",
       "\n",
       "   Month           Hemisphere        Country  \n",
       "0      4  Northern Hemisphere  United States  \n",
       "1      3  Northern Hemisphere  United States  \n",
       "2      3  Southern Hemisphere      Argentina  \n",
       "3      3  Northern Hemisphere  United States  \n",
       "4      3  Southern Hemisphere          Chile  "
      ]
     },
     "execution_count": 1,
     "metadata": {},
     "output_type": "execute_result"
    }
   ],
   "source": [
    "# import the usual and .csv file\n",
    "import pandas as pd\n",
    "import numpy as np\n",
    "\n",
    "fire_df = pd.read_csv('fire_data.csv')\n",
    "fire_df.head()"
   ]
  },
  {
   "cell_type": "code",
   "execution_count": 2,
   "id": "35ae4436",
   "metadata": {},
   "outputs": [
    {
     "data": {
      "text/plain": [
       "Index(['Unnamed: 0', 'ID', 'Name of Fire', 'End Date', 'Event Date',\n",
       "       'Latitude', 'Longitude', 'Year', 'Month', 'Hemisphere', 'Country'],\n",
       "      dtype='object')"
      ]
     },
     "execution_count": 2,
     "metadata": {},
     "output_type": "execute_result"
    }
   ],
   "source": [
    "# list the columns\n",
    "fire_df.columns"
   ]
  },
  {
   "cell_type": "code",
   "execution_count": 3,
   "id": "5af19b87",
   "metadata": {},
   "outputs": [
    {
     "data": {
      "text/html": [
       "<div>\n",
       "<style scoped>\n",
       "    .dataframe tbody tr th:only-of-type {\n",
       "        vertical-align: middle;\n",
       "    }\n",
       "\n",
       "    .dataframe tbody tr th {\n",
       "        vertical-align: top;\n",
       "    }\n",
       "\n",
       "    .dataframe thead th {\n",
       "        text-align: right;\n",
       "    }\n",
       "</style>\n",
       "<table border=\"1\" class=\"dataframe\">\n",
       "  <thead>\n",
       "    <tr style=\"text-align: right;\">\n",
       "      <th></th>\n",
       "      <th>ID</th>\n",
       "      <th>Name of Fire</th>\n",
       "      <th>End Date</th>\n",
       "      <th>Event Date</th>\n",
       "      <th>Latitude</th>\n",
       "      <th>Longitude</th>\n",
       "      <th>Year</th>\n",
       "      <th>Month</th>\n",
       "      <th>Hemisphere</th>\n",
       "      <th>Country</th>\n",
       "    </tr>\n",
       "  </thead>\n",
       "  <tbody>\n",
       "    <tr>\n",
       "      <th>0</th>\n",
       "      <td>EONET_5285</td>\n",
       "      <td>Gila Fire</td>\n",
       "      <td>2021-04-13T00:00:00Z</td>\n",
       "      <td>2021-04-02T07:15:00Z</td>\n",
       "      <td>32.91400</td>\n",
       "      <td>-113.43700</td>\n",
       "      <td>2021</td>\n",
       "      <td>4</td>\n",
       "      <td>Northern Hemisphere</td>\n",
       "      <td>United States</td>\n",
       "    </tr>\n",
       "    <tr>\n",
       "      <th>1</th>\n",
       "      <td>EONET_5272</td>\n",
       "      <td>King Fire</td>\n",
       "      <td>2021-03-26T00:00:00Z</td>\n",
       "      <td>2021-03-17T15:30:00Z</td>\n",
       "      <td>26.95300</td>\n",
       "      <td>-98.08800</td>\n",
       "      <td>2021</td>\n",
       "      <td>3</td>\n",
       "      <td>Northern Hemisphere</td>\n",
       "      <td>United States</td>\n",
       "    </tr>\n",
       "    <tr>\n",
       "      <th>2</th>\n",
       "      <td>EONET_5268</td>\n",
       "      <td>Wildfires - Patagonia Region, Argentina</td>\n",
       "      <td>2021-03-20T00:00:00Z</td>\n",
       "      <td>2021-03-12T14:42:00Z</td>\n",
       "      <td>-42.59104</td>\n",
       "      <td>-71.38468</td>\n",
       "      <td>2021</td>\n",
       "      <td>3</td>\n",
       "      <td>Southern Hemisphere</td>\n",
       "      <td>Argentina</td>\n",
       "    </tr>\n",
       "    <tr>\n",
       "      <th>3</th>\n",
       "      <td>EONET_5267</td>\n",
       "      <td>Big Rocks Fire</td>\n",
       "      <td>2021-04-05T00:00:00Z</td>\n",
       "      <td>2021-03-08T16:30:00Z</td>\n",
       "      <td>37.74000</td>\n",
       "      <td>-115.00100</td>\n",
       "      <td>2021</td>\n",
       "      <td>3</td>\n",
       "      <td>Northern Hemisphere</td>\n",
       "      <td>United States</td>\n",
       "    </tr>\n",
       "    <tr>\n",
       "      <th>4</th>\n",
       "      <td>EONET_5263</td>\n",
       "      <td>Wildfire - Curacavi Commune (Fundo Monterrey F...</td>\n",
       "      <td>2021-03-07T00:00:00Z</td>\n",
       "      <td>2021-03-01T18:46:00Z</td>\n",
       "      <td>-33.38700</td>\n",
       "      <td>-71.19793</td>\n",
       "      <td>2021</td>\n",
       "      <td>3</td>\n",
       "      <td>Southern Hemisphere</td>\n",
       "      <td>Chile</td>\n",
       "    </tr>\n",
       "  </tbody>\n",
       "</table>\n",
       "</div>"
      ],
      "text/plain": [
       "           ID                                       Name of Fire  \\\n",
       "0  EONET_5285                                          Gila Fire   \n",
       "1  EONET_5272                                          King Fire   \n",
       "2  EONET_5268            Wildfires - Patagonia Region, Argentina   \n",
       "3  EONET_5267                                     Big Rocks Fire   \n",
       "4  EONET_5263  Wildfire - Curacavi Commune (Fundo Monterrey F...   \n",
       "\n",
       "               End Date            Event Date  Latitude  Longitude  Year  \\\n",
       "0  2021-04-13T00:00:00Z  2021-04-02T07:15:00Z  32.91400 -113.43700  2021   \n",
       "1  2021-03-26T00:00:00Z  2021-03-17T15:30:00Z  26.95300  -98.08800  2021   \n",
       "2  2021-03-20T00:00:00Z  2021-03-12T14:42:00Z -42.59104  -71.38468  2021   \n",
       "3  2021-04-05T00:00:00Z  2021-03-08T16:30:00Z  37.74000 -115.00100  2021   \n",
       "4  2021-03-07T00:00:00Z  2021-03-01T18:46:00Z -33.38700  -71.19793  2021   \n",
       "\n",
       "   Month           Hemisphere        Country  \n",
       "0      4  Northern Hemisphere  United States  \n",
       "1      3  Northern Hemisphere  United States  \n",
       "2      3  Southern Hemisphere      Argentina  \n",
       "3      3  Northern Hemisphere  United States  \n",
       "4      3  Southern Hemisphere          Chile  "
      ]
     },
     "execution_count": 3,
     "metadata": {},
     "output_type": "execute_result"
    }
   ],
   "source": [
    "# .csv file has extra index, so it will be dropped\n",
    "\n",
    "fire_df.drop('Unnamed: 0', axis=1, inplace=True)\n",
    "fire_df.head()"
   ]
  },
  {
   "cell_type": "code",
   "execution_count": 4,
   "id": "dying-spain",
   "metadata": {},
   "outputs": [
    {
     "data": {
      "text/plain": [
       "ID                                                     EONET_3014\n",
       "Name of Fire    C11014 - East of Toil Mtn - Quesnel West Fire,...\n",
       "End Date                                     2017-07-31T00:00:00Z\n",
       "Event Date                                   2017-07-07T00:00:00Z\n",
       "Latitude                                                52.810817\n",
       "Longitude                                              -124.02195\n",
       "Year                                                         2017\n",
       "Month                                                           7\n",
       "Hemisphere                                    Northern Hemisphere\n",
       "Country                                                    Canada\n",
       "Name: 1454, dtype: object"
      ]
     },
     "execution_count": 4,
     "metadata": {},
     "output_type": "execute_result"
    }
   ],
   "source": [
    "# fixing data for row 1454.  \n",
    "# Latitude and Longitude were switched, so the hemisphere was wrong and the country was missing.\n",
    "temp = fire_df.loc[1454]\n",
    "fire_df.loc[1454, 'Latitude'] = temp[5]\n",
    "fire_df.loc[1454, 'Longitude'] = temp[4]\n",
    "fire_df.loc[1454, 'Hemisphere'] = 'Northern Hemisphere'\n",
    "fire_df.loc[1454, 'Country'] = 'Canada'\n",
    "fire_df.loc[1454]"
   ]
  },
  {
   "cell_type": "markdown",
   "id": "thick-found",
   "metadata": {},
   "source": [
    "Because this notebook is for demonstration purposes, we will delete the data where the country column is missing."
   ]
  },
  {
   "cell_type": "code",
   "execution_count": 5,
   "id": "supposed-basement",
   "metadata": {},
   "outputs": [
    {
     "data": {
      "text/html": [
       "<div>\n",
       "<style scoped>\n",
       "    .dataframe tbody tr th:only-of-type {\n",
       "        vertical-align: middle;\n",
       "    }\n",
       "\n",
       "    .dataframe tbody tr th {\n",
       "        vertical-align: top;\n",
       "    }\n",
       "\n",
       "    .dataframe thead th {\n",
       "        text-align: right;\n",
       "    }\n",
       "</style>\n",
       "<table border=\"1\" class=\"dataframe\">\n",
       "  <thead>\n",
       "    <tr style=\"text-align: right;\">\n",
       "      <th></th>\n",
       "      <th>ID</th>\n",
       "      <th>Name of Fire</th>\n",
       "      <th>End Date</th>\n",
       "      <th>Event Date</th>\n",
       "      <th>Latitude</th>\n",
       "      <th>Longitude</th>\n",
       "      <th>Year</th>\n",
       "      <th>Month</th>\n",
       "      <th>Hemisphere</th>\n",
       "      <th>Country</th>\n",
       "    </tr>\n",
       "  </thead>\n",
       "  <tbody>\n",
       "    <tr>\n",
       "      <th>1141</th>\n",
       "      <td>EONET_3436</td>\n",
       "      <td>Southeast Asia Agricultural Burning</td>\n",
       "      <td>2018-03-31T00:00:00Z</td>\n",
       "      <td>2018-01-01T00:00:00Z</td>\n",
       "      <td>8.960163</td>\n",
       "      <td>96.445312</td>\n",
       "      <td>2018</td>\n",
       "      <td>1</td>\n",
       "      <td>Northern Hemisphere</td>\n",
       "      <td>Missing Data</td>\n",
       "    </tr>\n",
       "    <tr>\n",
       "      <th>1778</th>\n",
       "      <td>EONET_333</td>\n",
       "      <td>Bushfires, NW Tasmania</td>\n",
       "      <td>2016-02-15T00:00:00Z</td>\n",
       "      <td>2016-01-14T00:00:00Z</td>\n",
       "      <td>-42.233246</td>\n",
       "      <td>144.543457</td>\n",
       "      <td>2016</td>\n",
       "      <td>1</td>\n",
       "      <td>Southern Hemisphere</td>\n",
       "      <td>Missing Data</td>\n",
       "    </tr>\n",
       "    <tr>\n",
       "      <th>1781</th>\n",
       "      <td>EONET_235</td>\n",
       "      <td>Esperance Fires, Australia</td>\n",
       "      <td>2015-11-24T00:00:00Z</td>\n",
       "      <td>2015-11-18T00:00:00Z</td>\n",
       "      <td>-34.203455</td>\n",
       "      <td>121.120605</td>\n",
       "      <td>2015</td>\n",
       "      <td>11</td>\n",
       "      <td>Southern Hemisphere</td>\n",
       "      <td>Missing Data</td>\n",
       "    </tr>\n",
       "    <tr>\n",
       "      <th>1824</th>\n",
       "      <td>EONET_199</td>\n",
       "      <td>Indonesia Fires, Fall 2015</td>\n",
       "      <td>2015-10-31T00:00:00Z</td>\n",
       "      <td>2015-08-14T00:00:00Z</td>\n",
       "      <td>-6.474497</td>\n",
       "      <td>100.488281</td>\n",
       "      <td>2015</td>\n",
       "      <td>8</td>\n",
       "      <td>Southern Hemisphere</td>\n",
       "      <td>Missing Data</td>\n",
       "    </tr>\n",
       "  </tbody>\n",
       "</table>\n",
       "</div>"
      ],
      "text/plain": [
       "              ID                         Name of Fire              End Date  \\\n",
       "1141  EONET_3436  Southeast Asia Agricultural Burning  2018-03-31T00:00:00Z   \n",
       "1778   EONET_333               Bushfires, NW Tasmania  2016-02-15T00:00:00Z   \n",
       "1781   EONET_235           Esperance Fires, Australia  2015-11-24T00:00:00Z   \n",
       "1824   EONET_199           Indonesia Fires, Fall 2015  2015-10-31T00:00:00Z   \n",
       "\n",
       "                Event Date   Latitude   Longitude  Year  Month  \\\n",
       "1141  2018-01-01T00:00:00Z   8.960163   96.445312  2018      1   \n",
       "1778  2016-01-14T00:00:00Z -42.233246  144.543457  2016      1   \n",
       "1781  2015-11-18T00:00:00Z -34.203455  121.120605  2015     11   \n",
       "1824  2015-08-14T00:00:00Z  -6.474497  100.488281  2015      8   \n",
       "\n",
       "               Hemisphere       Country  \n",
       "1141  Northern Hemisphere  Missing Data  \n",
       "1778  Southern Hemisphere  Missing Data  \n",
       "1781  Southern Hemisphere  Missing Data  \n",
       "1824  Southern Hemisphere  Missing Data  "
      ]
     },
     "execution_count": 5,
     "metadata": {},
     "output_type": "execute_result"
    }
   ],
   "source": [
    "missing_country = fire_df[fire_df['Country'] == \"Missing Data\"]\n",
    "missing_country"
   ]
  },
  {
   "cell_type": "code",
   "execution_count": 6,
   "id": "continuing-canal",
   "metadata": {},
   "outputs": [],
   "source": [
    "# drop missing data\n",
    "fire_df.drop([1141, 1778, 1782, 1824], axis = 0, inplace=True)"
   ]
  },
  {
   "cell_type": "code",
   "execution_count": 7,
   "id": "dd474ec1",
   "metadata": {},
   "outputs": [
    {
     "name": "stdout",
     "output_type": "stream",
     "text": [
      "<class 'pandas.core.frame.DataFrame'>\n",
      "Int64Index: 1940 entries, 0 to 1943\n",
      "Data columns (total 10 columns):\n",
      " #   Column        Non-Null Count  Dtype  \n",
      "---  ------        --------------  -----  \n",
      " 0   ID            1940 non-null   object \n",
      " 1   Name of Fire  1940 non-null   object \n",
      " 2   End Date      1940 non-null   object \n",
      " 3   Event Date    1940 non-null   object \n",
      " 4   Latitude      1940 non-null   float64\n",
      " 5   Longitude     1940 non-null   float64\n",
      " 6   Year          1940 non-null   int64  \n",
      " 7   Month         1940 non-null   int64  \n",
      " 8   Hemisphere    1940 non-null   object \n",
      " 9   Country       1940 non-null   object \n",
      "dtypes: float64(2), int64(2), object(6)\n",
      "memory usage: 166.7+ KB\n"
     ]
    }
   ],
   "source": [
    "fire_df.info()"
   ]
  },
  {
   "cell_type": "markdown",
   "id": "democratic-junior",
   "metadata": {},
   "source": [
    "**Adding Event Length to Fire Data Frame**\n",
    "\n",
    "New feature to be added"
   ]
  },
  {
   "cell_type": "code",
   "execution_count": 8,
   "id": "b886a67b",
   "metadata": {},
   "outputs": [
    {
     "name": "stdout",
     "output_type": "stream",
     "text": [
      "<class 'pandas.core.frame.DataFrame'>\n",
      "Int64Index: 1940 entries, 0 to 1943\n",
      "Data columns (total 10 columns):\n",
      " #   Column        Non-Null Count  Dtype              \n",
      "---  ------        --------------  -----              \n",
      " 0   ID            1940 non-null   object             \n",
      " 1   Name of Fire  1940 non-null   object             \n",
      " 2   End Date      1940 non-null   datetime64[ns, UTC]\n",
      " 3   Event Date    1940 non-null   datetime64[ns, UTC]\n",
      " 4   Latitude      1940 non-null   float64            \n",
      " 5   Longitude     1940 non-null   float64            \n",
      " 6   Year          1940 non-null   int64              \n",
      " 7   Month         1940 non-null   int64              \n",
      " 8   Hemisphere    1940 non-null   object             \n",
      " 9   Country       1940 non-null   object             \n",
      "dtypes: datetime64[ns, UTC](2), float64(2), int64(2), object(4)\n",
      "memory usage: 166.7+ KB\n"
     ]
    }
   ],
   "source": [
    "# converting dates from objects to datetime\n",
    "fire_df['End Date'] = pd.to_datetime(fire_df['End Date'])\n",
    "fire_df['Event Date'] = pd.to_datetime(fire_df['Event Date'])\n",
    "fire_df.info()"
   ]
  },
  {
   "cell_type": "code",
   "execution_count": 9,
   "id": "f3146ef9",
   "metadata": {},
   "outputs": [
    {
     "data": {
      "text/html": [
       "<div>\n",
       "<style scoped>\n",
       "    .dataframe tbody tr th:only-of-type {\n",
       "        vertical-align: middle;\n",
       "    }\n",
       "\n",
       "    .dataframe tbody tr th {\n",
       "        vertical-align: top;\n",
       "    }\n",
       "\n",
       "    .dataframe thead th {\n",
       "        text-align: right;\n",
       "    }\n",
       "</style>\n",
       "<table border=\"1\" class=\"dataframe\">\n",
       "  <thead>\n",
       "    <tr style=\"text-align: right;\">\n",
       "      <th></th>\n",
       "      <th>ID</th>\n",
       "      <th>Name of Fire</th>\n",
       "      <th>End Date</th>\n",
       "      <th>Event Date</th>\n",
       "      <th>Latitude</th>\n",
       "      <th>Longitude</th>\n",
       "      <th>Year</th>\n",
       "      <th>Month</th>\n",
       "      <th>Hemisphere</th>\n",
       "      <th>Country</th>\n",
       "      <th>Event Length</th>\n",
       "    </tr>\n",
       "  </thead>\n",
       "  <tbody>\n",
       "    <tr>\n",
       "      <th>0</th>\n",
       "      <td>EONET_5285</td>\n",
       "      <td>Gila Fire</td>\n",
       "      <td>2021-04-13 00:00:00+00:00</td>\n",
       "      <td>2021-04-02 07:15:00+00:00</td>\n",
       "      <td>32.91400</td>\n",
       "      <td>-113.43700</td>\n",
       "      <td>2021</td>\n",
       "      <td>4</td>\n",
       "      <td>Northern Hemisphere</td>\n",
       "      <td>United States</td>\n",
       "      <td>10 days 16:45:00</td>\n",
       "    </tr>\n",
       "    <tr>\n",
       "      <th>1</th>\n",
       "      <td>EONET_5272</td>\n",
       "      <td>King Fire</td>\n",
       "      <td>2021-03-26 00:00:00+00:00</td>\n",
       "      <td>2021-03-17 15:30:00+00:00</td>\n",
       "      <td>26.95300</td>\n",
       "      <td>-98.08800</td>\n",
       "      <td>2021</td>\n",
       "      <td>3</td>\n",
       "      <td>Northern Hemisphere</td>\n",
       "      <td>United States</td>\n",
       "      <td>8 days 08:30:00</td>\n",
       "    </tr>\n",
       "    <tr>\n",
       "      <th>2</th>\n",
       "      <td>EONET_5268</td>\n",
       "      <td>Wildfires - Patagonia Region, Argentina</td>\n",
       "      <td>2021-03-20 00:00:00+00:00</td>\n",
       "      <td>2021-03-12 14:42:00+00:00</td>\n",
       "      <td>-42.59104</td>\n",
       "      <td>-71.38468</td>\n",
       "      <td>2021</td>\n",
       "      <td>3</td>\n",
       "      <td>Southern Hemisphere</td>\n",
       "      <td>Argentina</td>\n",
       "      <td>7 days 09:18:00</td>\n",
       "    </tr>\n",
       "    <tr>\n",
       "      <th>3</th>\n",
       "      <td>EONET_5267</td>\n",
       "      <td>Big Rocks Fire</td>\n",
       "      <td>2021-04-05 00:00:00+00:00</td>\n",
       "      <td>2021-03-08 16:30:00+00:00</td>\n",
       "      <td>37.74000</td>\n",
       "      <td>-115.00100</td>\n",
       "      <td>2021</td>\n",
       "      <td>3</td>\n",
       "      <td>Northern Hemisphere</td>\n",
       "      <td>United States</td>\n",
       "      <td>27 days 07:30:00</td>\n",
       "    </tr>\n",
       "    <tr>\n",
       "      <th>4</th>\n",
       "      <td>EONET_5263</td>\n",
       "      <td>Wildfire - Curacavi Commune (Fundo Monterrey F...</td>\n",
       "      <td>2021-03-07 00:00:00+00:00</td>\n",
       "      <td>2021-03-01 18:46:00+00:00</td>\n",
       "      <td>-33.38700</td>\n",
       "      <td>-71.19793</td>\n",
       "      <td>2021</td>\n",
       "      <td>3</td>\n",
       "      <td>Southern Hemisphere</td>\n",
       "      <td>Chile</td>\n",
       "      <td>5 days 05:14:00</td>\n",
       "    </tr>\n",
       "  </tbody>\n",
       "</table>\n",
       "</div>"
      ],
      "text/plain": [
       "           ID                                       Name of Fire  \\\n",
       "0  EONET_5285                                          Gila Fire   \n",
       "1  EONET_5272                                          King Fire   \n",
       "2  EONET_5268            Wildfires - Patagonia Region, Argentina   \n",
       "3  EONET_5267                                     Big Rocks Fire   \n",
       "4  EONET_5263  Wildfire - Curacavi Commune (Fundo Monterrey F...   \n",
       "\n",
       "                   End Date                Event Date  Latitude  Longitude  \\\n",
       "0 2021-04-13 00:00:00+00:00 2021-04-02 07:15:00+00:00  32.91400 -113.43700   \n",
       "1 2021-03-26 00:00:00+00:00 2021-03-17 15:30:00+00:00  26.95300  -98.08800   \n",
       "2 2021-03-20 00:00:00+00:00 2021-03-12 14:42:00+00:00 -42.59104  -71.38468   \n",
       "3 2021-04-05 00:00:00+00:00 2021-03-08 16:30:00+00:00  37.74000 -115.00100   \n",
       "4 2021-03-07 00:00:00+00:00 2021-03-01 18:46:00+00:00 -33.38700  -71.19793   \n",
       "\n",
       "   Year  Month           Hemisphere        Country     Event Length  \n",
       "0  2021      4  Northern Hemisphere  United States 10 days 16:45:00  \n",
       "1  2021      3  Northern Hemisphere  United States  8 days 08:30:00  \n",
       "2  2021      3  Southern Hemisphere      Argentina  7 days 09:18:00  \n",
       "3  2021      3  Northern Hemisphere  United States 27 days 07:30:00  \n",
       "4  2021      3  Southern Hemisphere          Chile  5 days 05:14:00  "
      ]
     },
     "execution_count": 9,
     "metadata": {},
     "output_type": "execute_result"
    }
   ],
   "source": [
    "# add event length\n",
    "fire_df['Event Length'] = fire_df['End Date'] - fire_df['Event Date']\n",
    "fire_df.head()"
   ]
  },
  {
   "cell_type": "code",
   "execution_count": 10,
   "id": "d6679788",
   "metadata": {},
   "outputs": [
    {
     "name": "stdout",
     "output_type": "stream",
     "text": [
      "<class 'pandas.core.frame.DataFrame'>\n",
      "Int64Index: 1940 entries, 0 to 1943\n",
      "Data columns (total 11 columns):\n",
      " #   Column        Non-Null Count  Dtype              \n",
      "---  ------        --------------  -----              \n",
      " 0   ID            1940 non-null   object             \n",
      " 1   Name of Fire  1940 non-null   object             \n",
      " 2   End Date      1940 non-null   datetime64[ns, UTC]\n",
      " 3   Event Date    1940 non-null   datetime64[ns, UTC]\n",
      " 4   Latitude      1940 non-null   float64            \n",
      " 5   Longitude     1940 non-null   float64            \n",
      " 6   Year          1940 non-null   int64              \n",
      " 7   Month         1940 non-null   int64              \n",
      " 8   Hemisphere    1940 non-null   object             \n",
      " 9   Country       1940 non-null   object             \n",
      " 10  Event Length  1940 non-null   timedelta64[ns]    \n",
      "dtypes: datetime64[ns, UTC](2), float64(2), int64(2), object(4), timedelta64[ns](1)\n",
      "memory usage: 181.9+ KB\n"
     ]
    }
   ],
   "source": [
    "fire_df.info()"
   ]
  },
  {
   "cell_type": "markdown",
   "id": "attended-stick",
   "metadata": {},
   "source": [
    "**Adding hemisphere id column**\n",
    "\n",
    "* 0 for Northern Hemisphere\n",
    "* 1 for Southern Hemisphere"
   ]
  },
  {
   "cell_type": "code",
   "execution_count": 11,
   "id": "corporate-friendly",
   "metadata": {},
   "outputs": [],
   "source": [
    "fire_df['Hemi ID'] = np.where(fire_df['Hemisphere'] == 'Northern Hemisphere', 0, 1)\n",
    "\n",
    "# np.where(condition, value if condition is true, value if condition is false)\n",
    "# There's more than one way to do this.  .map with a lambda function, possibly Label Encoder"
   ]
  },
  {
   "cell_type": "code",
   "execution_count": 12,
   "id": "treated-drunk",
   "metadata": {},
   "outputs": [
    {
     "data": {
      "text/html": [
       "<div>\n",
       "<style scoped>\n",
       "    .dataframe tbody tr th:only-of-type {\n",
       "        vertical-align: middle;\n",
       "    }\n",
       "\n",
       "    .dataframe tbody tr th {\n",
       "        vertical-align: top;\n",
       "    }\n",
       "\n",
       "    .dataframe thead th {\n",
       "        text-align: right;\n",
       "    }\n",
       "</style>\n",
       "<table border=\"1\" class=\"dataframe\">\n",
       "  <thead>\n",
       "    <tr style=\"text-align: right;\">\n",
       "      <th></th>\n",
       "      <th>ID</th>\n",
       "      <th>Name of Fire</th>\n",
       "      <th>End Date</th>\n",
       "      <th>Event Date</th>\n",
       "      <th>Latitude</th>\n",
       "      <th>Longitude</th>\n",
       "      <th>Year</th>\n",
       "      <th>Month</th>\n",
       "      <th>Hemisphere</th>\n",
       "      <th>Country</th>\n",
       "      <th>Event Length</th>\n",
       "      <th>Hemi ID</th>\n",
       "    </tr>\n",
       "  </thead>\n",
       "  <tbody>\n",
       "    <tr>\n",
       "      <th>0</th>\n",
       "      <td>EONET_5285</td>\n",
       "      <td>Gila Fire</td>\n",
       "      <td>2021-04-13 00:00:00+00:00</td>\n",
       "      <td>2021-04-02 07:15:00+00:00</td>\n",
       "      <td>32.91400</td>\n",
       "      <td>-113.43700</td>\n",
       "      <td>2021</td>\n",
       "      <td>4</td>\n",
       "      <td>Northern Hemisphere</td>\n",
       "      <td>United States</td>\n",
       "      <td>10 days 16:45:00</td>\n",
       "      <td>0</td>\n",
       "    </tr>\n",
       "    <tr>\n",
       "      <th>1</th>\n",
       "      <td>EONET_5272</td>\n",
       "      <td>King Fire</td>\n",
       "      <td>2021-03-26 00:00:00+00:00</td>\n",
       "      <td>2021-03-17 15:30:00+00:00</td>\n",
       "      <td>26.95300</td>\n",
       "      <td>-98.08800</td>\n",
       "      <td>2021</td>\n",
       "      <td>3</td>\n",
       "      <td>Northern Hemisphere</td>\n",
       "      <td>United States</td>\n",
       "      <td>8 days 08:30:00</td>\n",
       "      <td>0</td>\n",
       "    </tr>\n",
       "    <tr>\n",
       "      <th>2</th>\n",
       "      <td>EONET_5268</td>\n",
       "      <td>Wildfires - Patagonia Region, Argentina</td>\n",
       "      <td>2021-03-20 00:00:00+00:00</td>\n",
       "      <td>2021-03-12 14:42:00+00:00</td>\n",
       "      <td>-42.59104</td>\n",
       "      <td>-71.38468</td>\n",
       "      <td>2021</td>\n",
       "      <td>3</td>\n",
       "      <td>Southern Hemisphere</td>\n",
       "      <td>Argentina</td>\n",
       "      <td>7 days 09:18:00</td>\n",
       "      <td>1</td>\n",
       "    </tr>\n",
       "    <tr>\n",
       "      <th>3</th>\n",
       "      <td>EONET_5267</td>\n",
       "      <td>Big Rocks Fire</td>\n",
       "      <td>2021-04-05 00:00:00+00:00</td>\n",
       "      <td>2021-03-08 16:30:00+00:00</td>\n",
       "      <td>37.74000</td>\n",
       "      <td>-115.00100</td>\n",
       "      <td>2021</td>\n",
       "      <td>3</td>\n",
       "      <td>Northern Hemisphere</td>\n",
       "      <td>United States</td>\n",
       "      <td>27 days 07:30:00</td>\n",
       "      <td>0</td>\n",
       "    </tr>\n",
       "    <tr>\n",
       "      <th>4</th>\n",
       "      <td>EONET_5263</td>\n",
       "      <td>Wildfire - Curacavi Commune (Fundo Monterrey F...</td>\n",
       "      <td>2021-03-07 00:00:00+00:00</td>\n",
       "      <td>2021-03-01 18:46:00+00:00</td>\n",
       "      <td>-33.38700</td>\n",
       "      <td>-71.19793</td>\n",
       "      <td>2021</td>\n",
       "      <td>3</td>\n",
       "      <td>Southern Hemisphere</td>\n",
       "      <td>Chile</td>\n",
       "      <td>5 days 05:14:00</td>\n",
       "      <td>1</td>\n",
       "    </tr>\n",
       "  </tbody>\n",
       "</table>\n",
       "</div>"
      ],
      "text/plain": [
       "           ID                                       Name of Fire  \\\n",
       "0  EONET_5285                                          Gila Fire   \n",
       "1  EONET_5272                                          King Fire   \n",
       "2  EONET_5268            Wildfires - Patagonia Region, Argentina   \n",
       "3  EONET_5267                                     Big Rocks Fire   \n",
       "4  EONET_5263  Wildfire - Curacavi Commune (Fundo Monterrey F...   \n",
       "\n",
       "                   End Date                Event Date  Latitude  Longitude  \\\n",
       "0 2021-04-13 00:00:00+00:00 2021-04-02 07:15:00+00:00  32.91400 -113.43700   \n",
       "1 2021-03-26 00:00:00+00:00 2021-03-17 15:30:00+00:00  26.95300  -98.08800   \n",
       "2 2021-03-20 00:00:00+00:00 2021-03-12 14:42:00+00:00 -42.59104  -71.38468   \n",
       "3 2021-04-05 00:00:00+00:00 2021-03-08 16:30:00+00:00  37.74000 -115.00100   \n",
       "4 2021-03-07 00:00:00+00:00 2021-03-01 18:46:00+00:00 -33.38700  -71.19793   \n",
       "\n",
       "   Year  Month           Hemisphere        Country     Event Length  Hemi ID  \n",
       "0  2021      4  Northern Hemisphere  United States 10 days 16:45:00        0  \n",
       "1  2021      3  Northern Hemisphere  United States  8 days 08:30:00        0  \n",
       "2  2021      3  Southern Hemisphere      Argentina  7 days 09:18:00        1  \n",
       "3  2021      3  Northern Hemisphere  United States 27 days 07:30:00        0  \n",
       "4  2021      3  Southern Hemisphere          Chile  5 days 05:14:00        1  "
      ]
     },
     "execution_count": 12,
     "metadata": {},
     "output_type": "execute_result"
    }
   ],
   "source": [
    "fire_df.head()"
   ]
  },
  {
   "cell_type": "markdown",
   "id": "induced-border",
   "metadata": {},
   "source": [
    "### Creating dataframes for database tables"
   ]
  },
  {
   "cell_type": "code",
   "execution_count": 13,
   "id": "f85a5403",
   "metadata": {},
   "outputs": [],
   "source": [
    "# Creating 2 tables.  3rd table created in SQL\n",
    "\n",
    "fire_subset = pd.DataFrame(fire_df[['ID','Name of Fire', 'End Date', 'Event Date', 'Year', 'Month', 'Event Length']])\n",
    "country_subset = pd.DataFrame(fire_df[['ID', 'Latitude','Longitude', 'Country', 'Hemi ID']])"
   ]
  },
  {
   "cell_type": "code",
   "execution_count": 14,
   "id": "2742b575",
   "metadata": {},
   "outputs": [
    {
     "data": {
      "text/html": [
       "<div>\n",
       "<style scoped>\n",
       "    .dataframe tbody tr th:only-of-type {\n",
       "        vertical-align: middle;\n",
       "    }\n",
       "\n",
       "    .dataframe tbody tr th {\n",
       "        vertical-align: top;\n",
       "    }\n",
       "\n",
       "    .dataframe thead th {\n",
       "        text-align: right;\n",
       "    }\n",
       "</style>\n",
       "<table border=\"1\" class=\"dataframe\">\n",
       "  <thead>\n",
       "    <tr style=\"text-align: right;\">\n",
       "      <th></th>\n",
       "      <th>ID</th>\n",
       "      <th>fire_name</th>\n",
       "      <th>end_date</th>\n",
       "      <th>event_date</th>\n",
       "      <th>year</th>\n",
       "      <th>month</th>\n",
       "      <th>event_length</th>\n",
       "    </tr>\n",
       "  </thead>\n",
       "  <tbody>\n",
       "    <tr>\n",
       "      <th>1939</th>\n",
       "      <td>EONET_180</td>\n",
       "      <td>Happy Camp Complex Fire, California</td>\n",
       "      <td>2015-09-02 00:00:00+00:00</td>\n",
       "      <td>2014-08-12 01:00:00+00:00</td>\n",
       "      <td>2014</td>\n",
       "      <td>8</td>\n",
       "      <td>385 days 23:00:00</td>\n",
       "    </tr>\n",
       "    <tr>\n",
       "      <th>1940</th>\n",
       "      <td>EONET_2515</td>\n",
       "      <td>Paranorte, Mato Grasso, Brazil Wildfire</td>\n",
       "      <td>2007-10-04 00:00:00+00:00</td>\n",
       "      <td>2007-08-03 00:00:00+00:00</td>\n",
       "      <td>2007</td>\n",
       "      <td>8</td>\n",
       "      <td>62 days 00:00:00</td>\n",
       "    </tr>\n",
       "    <tr>\n",
       "      <th>1941</th>\n",
       "      <td>EONET_2516</td>\n",
       "      <td>Rondonia, Brazil Wildfire</td>\n",
       "      <td>2005-10-14 00:00:00+00:00</td>\n",
       "      <td>2005-07-29 00:00:00+00:00</td>\n",
       "      <td>2005</td>\n",
       "      <td>7</td>\n",
       "      <td>77 days 00:00:00</td>\n",
       "    </tr>\n",
       "    <tr>\n",
       "      <th>1942</th>\n",
       "      <td>EONET_2514</td>\n",
       "      <td>Coniza, Mato Grosso, Brazil Wildfire</td>\n",
       "      <td>2005-10-12 00:00:00+00:00</td>\n",
       "      <td>2005-06-22 00:00:00+00:00</td>\n",
       "      <td>2005</td>\n",
       "      <td>6</td>\n",
       "      <td>112 days 00:00:00</td>\n",
       "    </tr>\n",
       "    <tr>\n",
       "      <th>1943</th>\n",
       "      <td>EONET_2517</td>\n",
       "      <td>Itanhanga, Mato Grosso, Brazil Wildfire</td>\n",
       "      <td>2003-12-19 00:00:00+00:00</td>\n",
       "      <td>2003-01-10 00:00:00+00:00</td>\n",
       "      <td>2003</td>\n",
       "      <td>1</td>\n",
       "      <td>343 days 00:00:00</td>\n",
       "    </tr>\n",
       "  </tbody>\n",
       "</table>\n",
       "</div>"
      ],
      "text/plain": [
       "              ID                                fire_name  \\\n",
       "1939   EONET_180      Happy Camp Complex Fire, California   \n",
       "1940  EONET_2515  Paranorte, Mato Grasso, Brazil Wildfire   \n",
       "1941  EONET_2516                Rondonia, Brazil Wildfire   \n",
       "1942  EONET_2514     Coniza, Mato Grosso, Brazil Wildfire   \n",
       "1943  EONET_2517  Itanhanga, Mato Grosso, Brazil Wildfire   \n",
       "\n",
       "                      end_date                event_date  year  month  \\\n",
       "1939 2015-09-02 00:00:00+00:00 2014-08-12 01:00:00+00:00  2014      8   \n",
       "1940 2007-10-04 00:00:00+00:00 2007-08-03 00:00:00+00:00  2007      8   \n",
       "1941 2005-10-14 00:00:00+00:00 2005-07-29 00:00:00+00:00  2005      7   \n",
       "1942 2005-10-12 00:00:00+00:00 2005-06-22 00:00:00+00:00  2005      6   \n",
       "1943 2003-12-19 00:00:00+00:00 2003-01-10 00:00:00+00:00  2003      1   \n",
       "\n",
       "          event_length  \n",
       "1939 385 days 23:00:00  \n",
       "1940  62 days 00:00:00  \n",
       "1941  77 days 00:00:00  \n",
       "1942 112 days 00:00:00  \n",
       "1943 343 days 00:00:00  "
      ]
     },
     "execution_count": 14,
     "metadata": {},
     "output_type": "execute_result"
    }
   ],
   "source": [
    "# rename columns without spaces\n",
    "\n",
    "fire_subset.rename(columns={'Name of Fire':'fire_name', \n",
    "                            'End Date': 'end_date', \n",
    "                            'Event Date': 'event_date',\n",
    "                            'Year': 'year',\n",
    "                            'Month': 'month',\n",
    "                           'Event Length': 'event_length'}, inplace=True)\n",
    "\n",
    "fire_subset.tail()"
   ]
  },
  {
   "cell_type": "code",
   "execution_count": 15,
   "id": "a0410965",
   "metadata": {},
   "outputs": [
    {
     "data": {
      "text/html": [
       "<div>\n",
       "<style scoped>\n",
       "    .dataframe tbody tr th:only-of-type {\n",
       "        vertical-align: middle;\n",
       "    }\n",
       "\n",
       "    .dataframe tbody tr th {\n",
       "        vertical-align: top;\n",
       "    }\n",
       "\n",
       "    .dataframe thead th {\n",
       "        text-align: right;\n",
       "    }\n",
       "</style>\n",
       "<table border=\"1\" class=\"dataframe\">\n",
       "  <thead>\n",
       "    <tr style=\"text-align: right;\">\n",
       "      <th></th>\n",
       "      <th>ID</th>\n",
       "      <th>Latitude</th>\n",
       "      <th>Longitude</th>\n",
       "      <th>Country</th>\n",
       "      <th>Hemi_ID</th>\n",
       "    </tr>\n",
       "  </thead>\n",
       "  <tbody>\n",
       "    <tr>\n",
       "      <th>0</th>\n",
       "      <td>EONET_5285</td>\n",
       "      <td>32.91400</td>\n",
       "      <td>-113.43700</td>\n",
       "      <td>United States</td>\n",
       "      <td>0</td>\n",
       "    </tr>\n",
       "    <tr>\n",
       "      <th>1</th>\n",
       "      <td>EONET_5272</td>\n",
       "      <td>26.95300</td>\n",
       "      <td>-98.08800</td>\n",
       "      <td>United States</td>\n",
       "      <td>0</td>\n",
       "    </tr>\n",
       "    <tr>\n",
       "      <th>2</th>\n",
       "      <td>EONET_5268</td>\n",
       "      <td>-42.59104</td>\n",
       "      <td>-71.38468</td>\n",
       "      <td>Argentina</td>\n",
       "      <td>1</td>\n",
       "    </tr>\n",
       "    <tr>\n",
       "      <th>3</th>\n",
       "      <td>EONET_5267</td>\n",
       "      <td>37.74000</td>\n",
       "      <td>-115.00100</td>\n",
       "      <td>United States</td>\n",
       "      <td>0</td>\n",
       "    </tr>\n",
       "    <tr>\n",
       "      <th>4</th>\n",
       "      <td>EONET_5263</td>\n",
       "      <td>-33.38700</td>\n",
       "      <td>-71.19793</td>\n",
       "      <td>Chile</td>\n",
       "      <td>1</td>\n",
       "    </tr>\n",
       "  </tbody>\n",
       "</table>\n",
       "</div>"
      ],
      "text/plain": [
       "           ID  Latitude  Longitude        Country  Hemi_ID\n",
       "0  EONET_5285  32.91400 -113.43700  United States        0\n",
       "1  EONET_5272  26.95300  -98.08800  United States        0\n",
       "2  EONET_5268 -42.59104  -71.38468      Argentina        1\n",
       "3  EONET_5267  37.74000 -115.00100  United States        0\n",
       "4  EONET_5263 -33.38700  -71.19793          Chile        1"
      ]
     },
     "execution_count": 15,
     "metadata": {},
     "output_type": "execute_result"
    }
   ],
   "source": [
    "country_subset.rename(columns={'Hemi ID': 'Hemi_ID'}, inplace=True)\n",
    "country_subset.head()"
   ]
  },
  {
   "cell_type": "markdown",
   "id": "affiliated-editing",
   "metadata": {},
   "source": [
    "### Create .csv files\n",
    "\n",
    "No file needed for hemisphere table.  It will be created in SQL below."
   ]
  },
  {
   "cell_type": "code",
   "execution_count": 16,
   "id": "affiliated-reminder",
   "metadata": {},
   "outputs": [],
   "source": [
    "# Fire events\n",
    "# Must use different separator, other than comma due to text fields in the file that include commas\n",
    "fire_subset.to_csv('fire_events.csv', index=False, sep='*')"
   ]
  },
  {
   "cell_type": "code",
   "execution_count": 17,
   "id": "tested-flooring",
   "metadata": {},
   "outputs": [],
   "source": [
    "# Country information for each event\n",
    "country_subset.to_csv('fire_countries.csv', index=False)"
   ]
  },
  {
   "cell_type": "markdown",
   "id": "ec8c8f26",
   "metadata": {},
   "source": [
    "### Import Data Model from LucidChart"
   ]
  },
  {
   "cell_type": "code",
   "execution_count": 18,
   "id": "9f0c5d6c",
   "metadata": {},
   "outputs": [
    {
     "data": {
      "image/png": "[encoded data removed]",
      "text/plain": [
       "<IPython.core.display.Image object>"
      ]
     },
     "execution_count": 18,
     "metadata": {},
     "output_type": "execute_result"
    }
   ],
   "source": [
    "from IPython.display import Image\n",
    "Image(filename='ETL_project.png') "
   ]
  },
  {
   "cell_type": "markdown",
   "id": "altered-relationship",
   "metadata": {},
   "source": [
    "### Connecting to Postgres"
   ]
  },
  {
   "cell_type": "code",
   "execution_count": 19,
   "id": "exterior-companion",
   "metadata": {},
   "outputs": [],
   "source": [
    "import psycopg2"
   ]
  },
  {
   "cell_type": "code",
   "execution_count": 20,
   "id": "3f9d1f9c",
   "metadata": {},
   "outputs": [],
   "source": [
    "# saved passwords (in gitignore) read in - two different implementations for different users\n",
    "# from postgres_keys import june_password\n",
    "\n",
    "import sys\n",
    "sys.path.append('../')\n",
    "import Postgress_Password"
   ]
  },
  {
   "cell_type": "markdown",
   "id": "listed-burton",
   "metadata": {},
   "source": [
    "**Connect to Postgres and Create New Database**\n",
    "\n",
    "New database = nasafires\n",
    "\n",
    "First we connect to postgres to create the database"
   ]
  },
  {
   "cell_type": "code",
   "execution_count": 21,
   "id": "moved-luther",
   "metadata": {},
   "outputs": [
    {
     "name": "stdout",
     "output_type": "stream",
     "text": [
      "Database created successfully........\n"
     ]
    }
   ],
   "source": [
    "# Change password as needed!\n",
    "\n",
    "# connecting to fires database\n",
    "\n",
    "#conn = psycopg2.connect(\"host=localhost dbname=fires user=postgres password=XXXXX\")\n",
    "\n",
    "conn = psycopg2.connect(\n",
    "    database=\"postgres\", user='postgres', password=Postgress_Password.postgresPassword, host='localhost')\n",
    "#   database=\"postgres\", user='postgres', password=june_password, host='localhost')\n",
    "conn.autocommit = True\n",
    "\n",
    "#Creating a cursor object using the cursor() method\n",
    "cur = conn.cursor()\n",
    "\n",
    "#Preparing query to create a database\n",
    "sql = '''CREATE database nasafires''';\n",
    "\n",
    "#Creating a database\n",
    "cur.execute(sql)\n",
    "print(\"Database created successfully........\")\n",
    "\n",
    "#Closing the connection\n",
    "conn.close()\n"
   ]
  },
  {
   "cell_type": "markdown",
   "id": "duplicate-syria",
   "metadata": {},
   "source": [
    "**Connect to new database - nasafires**\n",
    "\n",
    "In nasafires, create fire_events table"
   ]
  },
  {
   "cell_type": "code",
   "execution_count": 23,
   "id": "consistent-deficit",
   "metadata": {},
   "outputs": [],
   "source": [
    "conn = psycopg2.connect(\n",
    "    database=\"nasafires\", user='postgres', password=Postgress_Password.postgresPassword, host='localhost')\n",
    "   #database=\"nasafires\", user='postgres', password=june_password, host='localhost')\n",
    "cur=conn.cursor()\n",
    "\n",
    "cur.execute(\"\"\"\n",
    "    CREATE TABLE fire_events(\n",
    "    ID text PRIMARY KEY,\n",
    "    fire_name text,\n",
    "    end_date text,\n",
    "    event_date text,\n",
    "    year int,\n",
    "    month int,\n",
    "    event_length text \n",
    ")\n",
    "\"\"\")"
   ]
  },
  {
   "cell_type": "code",
   "execution_count": 24,
   "id": "welcome-division",
   "metadata": {},
   "outputs": [],
   "source": [
    "conn.commit()"
   ]
  },
  {
   "cell_type": "markdown",
   "id": "former-funeral",
   "metadata": {},
   "source": [
    "In the fire_events table, read in .csv file that has an asterisk as a separator."
   ]
  },
  {
   "cell_type": "code",
   "execution_count": 25,
   "id": "invisible-premises",
   "metadata": {},
   "outputs": [],
   "source": [
    "with open('fire_events.csv', 'r') as f:\n",
    "    # Notice that we don't need the `csv` module.\n",
    "    next(f) # Skip the header row.\n",
    "    cur.copy_from(f, 'fire_events', sep='*')\n",
    "\n",
    "conn.commit()"
   ]
  },
  {
   "cell_type": "markdown",
   "id": "anonymous-ivory",
   "metadata": {},
   "source": [
    "Create countries table, the read .csv file into the table"
   ]
  },
  {
   "cell_type": "code",
   "execution_count": 26,
   "id": "exact-attendance",
   "metadata": {},
   "outputs": [],
   "source": [
    "cur.execute(\"\"\"\n",
    "    CREATE TABLE countries(\n",
    "    ID text PRIMARY KEY,\n",
    "    Latitude float,\n",
    "    Longitude float,\n",
    "    Country text,\n",
    "    Hemi_ID int\n",
    ")\n",
    "\"\"\")\n",
    "conn.commit()"
   ]
  },
  {
   "cell_type": "code",
   "execution_count": 27,
   "id": "abroad-firmware",
   "metadata": {},
   "outputs": [],
   "source": [
    "# read file into table\n",
    "with open('fire_countries.csv', 'r') as f:\n",
    "    # Notice that we don't need the `csv` module.\n",
    "    next(f) # Skip the header row.\n",
    "    cur.copy_from(f, 'countries', sep=',')\n",
    "\n",
    "conn.commit()"
   ]
  },
  {
   "cell_type": "markdown",
   "id": "breathing-lunch",
   "metadata": {},
   "source": [
    "Create final table for hemispheres.  Since the table is only two data points, we created it manually."
   ]
  },
  {
   "cell_type": "code",
   "execution_count": 28,
   "id": "reasonable-prerequisite",
   "metadata": {},
   "outputs": [],
   "source": [
    "cur.execute(\"\"\"\n",
    "    CREATE TABLE hemisphere(\n",
    "    Hemi_ID int PRIMARY KEY,\n",
    "    Hemisphere text\n",
    ")\n",
    "\"\"\")\n",
    "conn.commit()"
   ]
  },
  {
   "cell_type": "markdown",
   "id": "gothic-little",
   "metadata": {},
   "source": [
    "Using INSERT to add values to hemisphere table"
   ]
  },
  {
   "cell_type": "code",
   "execution_count": 29,
   "id": "likely-request",
   "metadata": {},
   "outputs": [],
   "source": [
    "cur.execute('INSERT INTO hemisphere VALUES (%s, %s)', (0, \"Northern Hemisphere\"))\n",
    "cur.execute('INSERT INTO hemisphere VALUES (%s, %s)', (1, \"Southern Hemisphere\"))\n",
    "\n",
    "conn.commit()"
   ]
  },
  {
   "cell_type": "markdown",
   "id": "a5392a5c",
   "metadata": {},
   "source": [
    "### Change the data type of the end_date column\n",
    "\n",
    "Changing end_date from text to timestamp without time zome.\n",
    "\n",
    "First, create an empty temp column with the timestamp datatype.  Second, copy the end_date as timestamp to the temp column.  Third, write over original column with temp column (notice new timestamp datatype).   Finally, delete temp column."
   ]
  },
  {
   "cell_type": "code",
   "execution_count": 30,
   "id": "banned-management",
   "metadata": {},
   "outputs": [],
   "source": [
    "cur.execute('''ALTER TABLE fire_events ADD COLUMN create_time_holder TIMESTAMP without time zone NULL;\n",
    "            UPDATE fire_events SET create_time_holder = end_date::TIMESTAMP;\n",
    "            ALTER TABLE fire_events ALTER COLUMN end_date TYPE TIMESTAMP without time zone USING create_time_holder;\n",
    "            ALTER TABLE fire_events DROP COLUMN create_time_holder;''')\n",
    "            \n",
    "conn.commit()"
   ]
  },
  {
   "cell_type": "markdown",
   "id": "equal-aberdeen",
   "metadata": {},
   "source": [
    "Check the datatype of each column"
   ]
  },
  {
   "cell_type": "code",
   "execution_count": 31,
   "id": "38e3e2ac",
   "metadata": {},
   "outputs": [
    {
     "data": {
      "text/plain": [
       "[('id', 'text'),\n",
       " ('fire_name', 'text'),\n",
       " ('end_date', 'timestamp without time zone'),\n",
       " ('event_date', 'text'),\n",
       " ('year', 'integer'),\n",
       " ('month', 'integer'),\n",
       " ('event_length', 'text')]"
      ]
     },
     "execution_count": 31,
     "metadata": {},
     "output_type": "execute_result"
    }
   ],
   "source": [
    "cur.execute('''SELECT column_name,data_type \n",
    "from information_schema.columns \n",
    "where table_name = 'fire_events';''')\n",
    "cur.fetchall()"
   ]
  },
  {
   "cell_type": "markdown",
   "id": "391ef4d6",
   "metadata": {},
   "source": [
    "### Change data type of event_length column"
   ]
  },
  {
   "cell_type": "code",
   "execution_count": 32,
   "id": "22628679",
   "metadata": {},
   "outputs": [],
   "source": [
    "cur.execute('''ALTER table fire_events\n",
    "    ALTER column event_length type interval \n",
    "    USING event_length::interval''')\n",
    "conn.commit()"
   ]
  },
  {
   "cell_type": "markdown",
   "id": "raising-dubai",
   "metadata": {},
   "source": [
    "Check datatypes of the fire_events column (found through google)."
   ]
  },
  {
   "cell_type": "code",
   "execution_count": 33,
   "id": "087d691c",
   "metadata": {},
   "outputs": [
    {
     "data": {
      "text/plain": [
       "[('id', 'text'),\n",
       " ('fire_name', 'text'),\n",
       " ('end_date', 'timestamp without time zone'),\n",
       " ('event_date', 'text'),\n",
       " ('year', 'integer'),\n",
       " ('month', 'integer'),\n",
       " ('event_length', 'interval')]"
      ]
     },
     "execution_count": 33,
     "metadata": {},
     "output_type": "execute_result"
    }
   ],
   "source": [
    "cur.execute('''SELECT column_name, data_type \n",
    "    FROM information_schema.columns \n",
    "    WHERE table_name = 'fire_events';''')\n",
    "cur.fetchall()"
   ]
  },
  {
   "cell_type": "markdown",
   "id": "compound-powder",
   "metadata": {},
   "source": [
    "### Queries and Joins"
   ]
  },
  {
   "cell_type": "markdown",
   "id": "recorded-squad",
   "metadata": {},
   "source": [
    "What are all the fires events in Australia?"
   ]
  },
  {
   "cell_type": "code",
   "execution_count": 34,
   "id": "e69e32b3",
   "metadata": {
    "scrolled": true
   },
   "outputs": [
    {
     "data": {
      "text/plain": [
       "[('Wildfire - Perth, Western Australia, Australia', 'Australia'),\n",
       " ('Wildfires - Namming Nature Reserve, Western Australia, Australia',\n",
       "  'Australia'),\n",
       " ('Wildfire - Queensland (Fraser Island Fire), Australia', 'Australia'),\n",
       " ('Wildfires - South Australia', 'Australia'),\n",
       " ('Wildfires - South Australia, Australia', 'Australia'),\n",
       " ('Wildfires - South Australia, Australia', 'Australia'),\n",
       " ('Wildfires - Victoria, Australia', 'Australia'),\n",
       " ('Wildfires - Victoria, Australia', 'Australia'),\n",
       " ('Wildfires - Southern Australia', 'Australia'),\n",
       " ('Wildfires - Southeastern Australia', 'Australia'),\n",
       " ('Wildfires - Victoria, Australia', 'Australia'),\n",
       " ('Wildfires - Victoria, Australia', 'Australia'),\n",
       " ('Wildfires - New South Wales, Australia', 'Australia'),\n",
       " ('Wildfires - South Australia, Australia', 'Australia'),\n",
       " ('Wildfires - Western Australia, Australia', 'Australia'),\n",
       " ('Wildfires - Yorketown, South Australia, Australia', 'Australia'),\n",
       " ('Wildfires - Queensland, Australia', 'Australia'),\n",
       " ('Wildfires - New South Wales, Australia', 'Australia'),\n",
       " ('Wildfires - Port Macquarie (Crestwood Drive Fire), NSW, Australia',\n",
       "  'Australia'),\n",
       " ('Wildfires - Rappville, New South Wales, Australia', 'Australia'),\n",
       " ('Wildfire - Woodgate, Queensland, Australia', 'Australia'),\n",
       " ('Wildfires - Southeastern Victoria, Australia', 'Australia'),\n",
       " ('Wildfire - Bullsbrook, Western Australia, Australia', 'Australia'),\n",
       " ('Wildfires - Esperance, Western Australia', 'Australia'),\n",
       " ('Wildfire - Southampton, Western Australia, Australia', 'Australia'),\n",
       " ('Wildfires - Western Australia', 'Australia'),\n",
       " ('Pilliga Forest Wildfire, Australia', 'Australia'),\n",
       " ('Wildfire - N of Mudgee, New South Wales - Australia', 'Australia'),\n",
       " ('Mount Frankland National Park Fire, Western Australia', 'Australia'),\n",
       " ('Cocklebiddy, Dundas, Western Australia Fire', 'Australia'),\n",
       " ('Kununurra Bushfire, Western Australia', 'Australia'),\n",
       " ('Purnululu National Park Fire, Western Australia', 'Australia'),\n",
       " ('Dandaragan, Australia Fires', 'Australia'),\n",
       " ('Harvey and Waroona Brushfires, Australia', 'Australia'),\n",
       " ('Fires on Melville Island, Australia', 'Australia'),\n",
       " ('Fires in Northern Territory, Australia', 'Australia'),\n",
       " ('Fires in Shoalwater, Queensland, Australia', 'Australia')]"
      ]
     },
     "execution_count": 34,
     "metadata": {},
     "output_type": "execute_result"
    }
   ],
   "source": [
    "cur.execute('''SELECT f.fire_name, c.country \n",
    "    FROM fire_events as f \n",
    "    JOIN countries as c \n",
    "    ON f.id = c.id\n",
    "    WHERE c.country = 'Australia';''')\n",
    "cur.fetchall()\n"
   ]
  },
  {
   "cell_type": "markdown",
   "id": "automotive-miami",
   "metadata": {},
   "source": [
    "What are the number of fires in Australia?"
   ]
  },
  {
   "cell_type": "code",
   "execution_count": 35,
   "id": "2abca371",
   "metadata": {},
   "outputs": [],
   "source": [
    "cur.execute('''SELECT COUNT(f.fire_name)\n",
    "    FROM fire_events as f \n",
    "    JOIN countries as c \n",
    "    ON f.id = c.id\n",
    "    WHERE c.country = 'Australia';''')\n",
    "Australia_fires = cur.fetchall()"
   ]
  },
  {
   "cell_type": "code",
   "execution_count": 36,
   "id": "89326b7f",
   "metadata": {},
   "outputs": [
    {
     "name": "stdout",
     "output_type": "stream",
     "text": [
      "Number of fires in Australia in database:  37\n"
     ]
    }
   ],
   "source": [
    "print('Number of fires in Australia in database: ' , Australia_fires[0][0])"
   ]
  },
  {
   "cell_type": "markdown",
   "id": "visible-degree",
   "metadata": {},
   "source": [
    "What are the number fires in the Southern Hemisphere?"
   ]
  },
  {
   "cell_type": "code",
   "execution_count": 37,
   "id": "97f1b159",
   "metadata": {},
   "outputs": [
    {
     "name": "stdout",
     "output_type": "stream",
     "text": [
      "Number of fires in Southern Hemisphere in database:  169\n"
     ]
    }
   ],
   "source": [
    "cur.execute('''SELECT COUNT(f.fire_name)\n",
    "    FROM fire_events as f\n",
    "    JOIN countries as c\n",
    "    ON f.id = c.id\n",
    "    JOIN hemisphere as h\n",
    "    ON c.hemi_id = h.hemi_id\n",
    "    WHERE h.hemisphere = 'Southern Hemisphere';''')\n",
    "\n",
    "Southern_hemisphere_fires = cur.fetchall()\n",
    "print('Number of fires in Southern Hemisphere in database: ' , Southern_hemisphere_fires[0][0])"
   ]
  },
  {
   "cell_type": "markdown",
   "id": "negative-relations",
   "metadata": {},
   "source": [
    "How many fires are less than 5 days in length?"
   ]
  },
  {
   "cell_type": "code",
   "execution_count": 38,
   "id": "80b898e9",
   "metadata": {},
   "outputs": [
    {
     "name": "stdout",
     "output_type": "stream",
     "text": [
      "Number of fires less than five days in database:  322\n"
     ]
    }
   ],
   "source": [
    "cur.execute('''SELECT COUNT(id) FROM fire_events\n",
    "WHERE event_length < '5 days';''')\n",
    "\n",
    "five_days = cur.fetchall()\n",
    "print('Number of fires less than five days in database: ' , five_days[0][0])"
   ]
  },
  {
   "cell_type": "markdown",
   "id": "coastal-verse",
   "metadata": {},
   "source": [
    "How many fires are in November?"
   ]
  },
  {
   "cell_type": "code",
   "execution_count": 39,
   "id": "7ce3eff6",
   "metadata": {},
   "outputs": [
    {
     "name": "stdout",
     "output_type": "stream",
     "text": [
      "Number of fires in November in database:  43\n"
     ]
    }
   ],
   "source": [
    "cur.execute('''SELECT COUNT(id) FROM fire_events\n",
    "WHERE month = 11;''')\n",
    "\n",
    "months = cur.fetchall()\n",
    "print('Number of fires in November in database: ' , months[0][0])"
   ]
  },
  {
   "cell_type": "code",
   "execution_count": 40,
   "id": "d1b5c040",
   "metadata": {},
   "outputs": [],
   "source": [
    "#Closing the connection\n",
    "conn.close()"
   ]
  },
  {
   "cell_type": "code",
   "execution_count": null,
   "id": "acceptable-victorian",
   "metadata": {},
   "outputs": [],
   "source": []
  }
 ],
 "metadata": {
  "kernelspec": {
   "display_name": "Python 3",
   "language": "python",
   "name": "python3"
  },
  "language_info": {
   "codemirror_mode": {
    "name": "ipython",
    "version": 3
   },
   "file_extension": ".py",
   "mimetype": "text/x-python",
   "name": "python",
   "nbconvert_exporter": "python",
   "pygments_lexer": "ipython3",
   "version": "3.8.5"
  }
 },
 "nbformat": 4,
 "nbformat_minor": 5
}
